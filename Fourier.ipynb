{
 "cells": [
  {
   "cell_type": "markdown",
   "id": "cb681240-7591-4164-af34-92cafe018922",
   "metadata": {
    "slideshow": {
     "slide_type": ""
    },
    "tags": []
   },
   "source": [
    "# Fourier series"
   ]
  },
  {
   "cell_type": "markdown",
   "id": "e5d9d1af-47d2-469c-bc8f-17f098040ede",
   "metadata": {
    "slideshow": {
     "slide_type": ""
    },
    "tags": []
   },
   "source": [
    "## Quick setup — imports and plotting defaults\n",
    "Run this cell first"
   ]
  },
  {
   "cell_type": "code",
   "execution_count": 9,
   "id": "2fdf1413-24d0-4a92-89f4-b7c7dfeab3d0",
   "metadata": {
    "slideshow": {
     "slide_type": ""
    },
    "tags": []
   },
   "outputs": [],
   "source": [
    "import numpy as np\n",
    "import matplotlib.pyplot as plt\n",
    "from matplotlib import animation\n",
    "from IPython.display import HTML, display\n",
    "import time\n",
    "plt.rcParams.update({'figure.figsize': (7,4), 'image.cmap': 'viridis'})\n",
    "from scipy.integrate import quad\n"
   ]
  },
  {
   "cell_type": "markdown",
   "id": "2d86d244-417b-4f78-a912-a9ebbf69d29a",
   "metadata": {
    "slideshow": {
     "slide_type": "slide"
    },
    "tags": []
   },
   "source": [
    "## Continuous Fourier Series\n",
    "### Periodic functions\n",
    "\n",
    "Let $f(t)$ be an arbitrary periodic function with period $T$, that is, $f(t) = f(t+T)$.\n",
    "\n",
    "In this case, $f(t)$ can be represented by an infinite series of sinusoids with harmonically related frequencies:\n",
    "\n",
    "$f(t) \\approx a_0 + \\sum_{k=1}^{\\infty} \\left[ a_k \\cos\\left(\\frac{2\\pi k}{T}t\\right) + b_k \\sin\\left(\\frac{2\\pi k}{T}t\\right) \\right]$\n",
    "\n",
    "where $\\omega_0 = 2\\pi/T$ is called the fundamental frequency, and its multiples $2\\omega_0, 3\\omega_0, \\dots$ are called harmonics.\n",
    "Fourier series express $f(t)$ as a linear combination of the basis functions: $1, \\cos(\\omega_0 t), \\sin(\\omega_0 t), \\cos(2\\omega_0 t), \\sin(2\\omega_0 t), \\dots$\n",
    "\n",
    "\n",
    "\n",
    "\n",
    "\n",
    "\n"
   ]
  },
  {
   "cell_type": "markdown",
   "id": "435b52d1-4cce-445e-aa65-517ae0e8d2fc",
   "metadata": {
    "slideshow": {
     "slide_type": "slide"
    },
    "tags": []
   },
   "source": [
    "The coefficients above are calculated as:\n",
    "\n",
    "$a_0 = \\frac{1}{T} \\int_0^T f(t)\\,dt$ \n",
    "\n",
    "$a_k = \\frac{2}{T} \\int_0^T f(t)\\cos\\left(\\frac{2\\pi k}{T}t\\right)\\,dt$\n",
    "\n",
    "$b_k = \\frac{2}{T} \\int_0^T f(t)\\sin\\left(\\frac{2\\pi k}{T}t\\right)\\,dt$ \n"
   ]
  },
  {
   "cell_type": "markdown",
   "id": "0978f8df-7af0-4ee3-8641-711ced0ffc0a",
   "metadata": {
    "slideshow": {
     "slide_type": "slide"
    },
    "tags": []
   },
   "source": [
    "The Fourier expansion can be written as\n",
    "\n",
    "$f(t) \\approx a_0 + \\sum_{k=1}^{\\infty} \\left[ c_k \\cos\\left(\\frac{2\\pi k}{T}t + \\theta_k\\right) \\right]$ \n",
    "\n",
    "where the coefficients are related by\n",
    "\n",
    "$c_k = \\sqrt{a_k^2 + b_k^2}$ \n",
    "\n",
    "$\\theta_k = -\\tan^{-1}\\left(\\frac{b_k}{a_k}\\right)$ \n"
   ]
  },
  {
   "cell_type": "markdown",
   "id": "4baac481-7fb0-49ab-85a9-df4ce82c6747",
   "metadata": {
    "slideshow": {
     "slide_type": "subslide"
    },
    "tags": []
   },
   "source": [
    "Terms $a_0, a_k,$ and $b_k$ are integrated between the limits $0$ and $T$. In fact, they should be computed by integrating over any full period. That is, they can be integrated between $-T/2$ and $T/2$, or in general between any $t_0$ and $t_0+T$.\n",
    "\n",
    "The coefficients $a_k$ and $b_k$ depend on the chosen integration limits, although $c_k = \\sqrt{a_k^2 + b_k^2}$ is constant.\n",
    "\n",
    "For symmetric intervals ($-T/2$ and $T/2$,) and odd functions $a_0=a_k=0$. For symmetric intervals and even functions $b_k=0$."
   ]
  },
  {
   "cell_type": "markdown",
   "id": "76e5a026-c51d-40c9-bde2-82abfb9c5458",
   "metadata": {
    "slideshow": {
     "slide_type": "slide"
    },
    "tags": []
   },
   "source": [
    "In addition to the trigonometric forms, the Fourier series can also be expressed in complex notation:\n",
    "\n",
    "$f(t) \\approx a_0 + \\sum_{k=1}^{\\infty} \\left[ C_k e^{ik\\omega_0 t} + D_k e^{-ik\\omega_0 t} \\right] = \\sum_{n=-\\infty}^{\\infty} C_n e^{in\\omega_0 t}$ \n",
    "\n",
    "with $\\omega_0 = 2\\pi/T$, where\n",
    "\n",
    "$C_k = \\tfrac{1}{2}(a_k - ib_k) = \\tfrac{2}{T} \\int_0^T f(t) e^{-ik\\omega_0 t} dt$ \n",
    "\n",
    "$D_k = \\tfrac{1}{2}(a_k + ib_k) = \\tfrac{2}{T} \\int_0^T f(t) e^{ik\\omega_0 t} dt$ \n"
   ]
  },
  {
   "cell_type": "markdown",
   "id": "ce49be8b-ea3d-49cd-8a1f-f99528b61155",
   "metadata": {
    "slideshow": {
     "slide_type": "slide"
    },
    "tags": []
   },
   "source": [
    "### Non-periodic functions\n",
    "\n",
    "Suppose we have a non-periodic signal $f(t)$, and we want to describe a portion of it with a continuous Fourier series, for example between $t_a$ and $t_b$.\n",
    "\n",
    "From $f(t)$ we construct a periodic signal $g(t)$ by simply repeating that segment. The period of the new signal is $T = t_b - t_a$. The new periodic signal $g(t)$ can be analyzed with the continuous Fourier series. The results are only valid in the interval $[t_a, t_b]$.\n",
    "\n",
    "<table><tr><td align=\"center\">\n",
    "  <img src=\"./img/fourier_fig2.jpg\" alt=\"fig1\" width=\"500\">\n",
    "</td></tr></table>\n",
    "\n"
   ]
  },
  {
   "cell_type": "markdown",
   "id": "7a5f178a",
   "metadata": {
    "slideshow": {
     "slide_type": "slide"
    },
    "tags": []
   },
   "source": [
    "## Worked examples\n",
    "\n",
    "**Example A**: Plot $f(x)=|x|$ for $x \\in [-\\pi,\\pi]$ and the associated Fourier Series for different number of harmonics, to see when it converges.\n",
    "\n",
    "\n",
    "It's an even function, so $b_n = 0$.\n",
    "\n",
    "$$\n",
    "a_0 = \\frac{2}{\\pi} \\int_0^\\pi x \\, \\mathrm{d}x = \\frac{x^2}{\\pi} \\Big|_0^\\pi = \\pi\n",
    "$$\n",
    "\n",
    "$$\n",
    "a_n = \\frac{2}{\\pi} \\int_0^\\pi x \\, \\cos n x \\, \\mathrm{d}x \n",
    "= \\frac{2}{\\pi} \\left( \\frac{x}{n} \\sin n x + \\frac{1}{n^2} \\cos n x\\right) \\Big|_0^\\pi = 2 \\frac{ ((-1)^n -1)}{\\pi n^2}\n",
    "$$\n",
    "\n",
    "If $n$ is odd, $a_n = 0$, so\n",
    "\n",
    "$$\n",
    "a_k = \\frac{-4}{\\pi (2k+1)^2}, \\; k = 0, 1, 2 \\in \\mathcal{N}\n",
    "$$\n",
    "\n",
    "And:\n",
    "\n",
    "$$\n",
    "S(x) = \\frac{\\pi}{2} - \\frac{4}{\\pi} \\sum_k \\frac{1}{(2k+1)^2} \\cos (2k+1) x\n",
    "$$"
   ]
  },
  {
   "cell_type": "code",
   "execution_count": 10,
   "id": "775e5c10-a049-4aac-b5b2-33665ba48994",
   "metadata": {
    "slideshow": {
     "slide_type": "slide"
    },
    "tags": []
   },
   "outputs": [
    {
     "data": {
      "image/png": "[encoded data removed]",
      "text/plain": [
       "<Figure size 700x400 with 1 Axes>"
      ]
     },
     "metadata": {},
     "output_type": "display_data"
    }
   ],
   "source": [
    "## define the Fourier series as a class with different number of harmonics\n",
    "\n",
    "class sx:\n",
    "    def __init__(self,N=2):\n",
    "        self.N = N\n",
    "    \n",
    "    def fun(self,x):\n",
    "        ss = np.pi/2\n",
    "        for k in range(0, self.N):\n",
    "            ss = ss + -4*np.cos((2*k+1)*x)/(np.pi*(2*k+1)*(2*k+1))\n",
    "        return  ss\n",
    "\n",
    "## get a tuple (plot x axis)\n",
    "xs   = np.linspace(-np.pi, np.pi, 100)\n",
    "## define the figure\n",
    "fig = plt.figure()\n",
    "ax = plt.gca()\n",
    "ax.set_xlabel('$x$'); ax.set_ylabel('f(x)')\n",
    "## finally plot f(x) and some series\n",
    "ax.plot(xs, abs(xs),label = 'f(x)=|x|')\n",
    "mysx = {}\n",
    "for N in range(2,6):\n",
    "    mysx[N] = sx(N)\n",
    "    ax.plot(xs, mysx[N].fun(xs), label = 'S(x),N='+str(N))\n",
    "a=ax.legend()"
   ]
  },
  {
   "cell_type": "code",
   "execution_count": 12,
   "id": "aa3252dd",
   "metadata": {
    "slideshow": {
     "slide_type": "slide"
    },
    "tags": []
   },
   "outputs": [
    {
     "data": {
      "image/png": "[encoded data removed]",
      "text/plain": [
       "<Figure size 700x400 with 1 Axes>"
      ]
     },
     "metadata": {},
     "output_type": "display_data"
    }
   ],
   "source": [
    "## ALTERNATIVE USING NUMERICAL INTEGRAL\n",
    "\n",
    "# Fourier coefficients\n",
    "def a0():\n",
    "    # def f(x): return abs(x)\n",
    "    val, _ = quad(lambda x: abs(x), -np.pi, np.pi)\n",
    "    return val/np.pi\n",
    "\n",
    "def an(n):\n",
    "    val, _ = quad(lambda x: abs(x)*np.cos(n*x), -np.pi, np.pi)\n",
    "    return val/np.pi\n",
    "\n",
    "# Fourier series approximation with N terms\n",
    "def fourier_series(x, N):\n",
    "    s = a0()/2\n",
    "    for n in range(1, N+1):\n",
    "        s += an(n) * np.cos(n*x)\n",
    "    return s\n",
    "\n",
    "# x grid\n",
    "xs = np.linspace(-np.pi, np.pi, 4000)\n",
    "\n",
    "# plot\n",
    "fig, ax = plt.subplots()\n",
    "ax.plot(xs, abs(xs), label='$f(x)=|x|$', lw=2, color='black')\n",
    "\n",
    "for N in range(2,10):\n",
    "    ys = [fourier_series(x, N) for x in xs]\n",
    "    ax.plot(xs, ys, label=f'N={N}')\n",
    "\n",
    "ax.set_xlabel('$x$')\n",
    "ax.set_ylabel('$f(x)$')\n",
    "ax.legend()\n",
    "plt.show()\n"
   ]
  },
  {
   "cell_type": "markdown",
   "id": "4f40c34b",
   "metadata": {
    "slideshow": {
     "slide_type": "slide"
    }
   },
   "source": [
    "**Example B (for you to do):** We define a piecewise function $f(x)$ on the interval $[5,10]$ as follows:\n",
    "\n",
    "$f(x) = \n",
    "\\begin{cases}\n",
    "x - 5,~\\mathrm{for}~5 \\leq x < 7 \\\\\n",
    "2,~ \\mathrm{for}~7 \\leq x < 9 \\\\\n",
    "10 - x,~\\mathrm{for}~ 9 \\leq x < 10\n",
    "\\end{cases}$\n",
    "\n",
    "The function is extended periodically with period $T=5$.\n",
    "\n",
    "Plot $f(x)$ and its periodic extension on a larger interval, for example $[-5,15]$.\n",
    "Compute Fourier coefficients, given by:\n",
    "\n",
    "$a_0 = \\frac{1}{T} \\int_{5}^{10} f(x), dx$\n",
    "\n",
    "$a_k = \\frac{2}{T} \\int_{5}^{10} f(x)\\cos(k\\omega_0 x), dx$\n",
    "\n",
    "$b_k = \\frac{2}{T} \\int_{5}^{10} f(x)\\sin(k\\omega_0 x), dx$\n",
    "\n",
    "Build the partial sums for $N=5$, $N=20$ and $N=50$\n",
    "\n",
    "$S_N(x) = a_0 + \\sum_{k=1}^{N} \\Big[ a_k \\cos(k \\omega_0 x) + b_k \\sin(k \\omega_0 x) \\Big]$\n",
    "\n",
    "and plot them together with the original function on the interval $[0,15]$. Compute the Fourier coefficients for up to $N=50$ terms and plot the decay of $|a_k|$ and $|b_k|$ as a function of $k$.\n"
   ]
  },
  {
   "cell_type": "markdown",
   "id": "7b1cfeef-3137-497a-a0b9-ea0b10db9156",
   "metadata": {
    "slideshow": {
     "slide_type": "slide"
    },
    "tags": []
   },
   "source": [
    "## Exercises (1)\n",
    "\n",
    "**Exercise 1:** Consider the following periodic function ($T=3$):\n",
    "\n",
    "$f(t) =\n",
    "\\begin{cases}\n",
    "2t + 4 & -1 \\leq t < 2 \\\\\n",
    "f(t) = f(t+T) & \\text{otherwise}\n",
    "\\end{cases}$\n",
    "\n",
    "Plot this function, compute $a_0, a_1$, and $b_1$ of the Fourier series.\n",
    "\n",
    "**Exercise 2:** Consider the following periodic function ($T=5$):\n",
    "\n",
    "$f(t) =\n",
    "\\begin{cases}\n",
    "t^2 & 0 \\leq t < 5 \\\\\n",
    "f(t) = f(t+T) & \\text{otherwise}\n",
    "\\end{cases}$\n",
    "\n",
    "Plot this function, compute $a_0, a_1$, and $a_2$ of the Fourier series.\n",
    "\n",
    "**Exercise 3:** Consider the following periodic function ($T=2$):\n",
    "\n",
    "$f(t) =\n",
    "\\begin{cases}\n",
    "-0.5 & -1 \\leq t < 0 \\\\\n",
    "0.5 & 0 \\leq t < 1 \\\\\n",
    "f(t) = f(t+T) & \\text{otherwise}\n",
    "\\end{cases}$\n",
    "\n",
    "Approximate this function with the continuous Fourier series using $a_0, b_1,$ and $b_2$.\n",
    "\n"
   ]
  },
  {
   "cell_type": "markdown",
   "id": "110a2db1-40b8-448a-8c36-72b37cacc25c",
   "metadata": {
    "slideshow": {
     "slide_type": "slide"
    },
    "tags": []
   },
   "source": [
    "**Exercise 4:** Approximate the wave illustrated in the figure by the continuous Fourier series using the first $k=8$ terms.\n",
    "\n",
    "<table><tr><td align=\"center\">\n",
    "  <img src=\"./img/fourier_fig1.jpg\" alt=\"fig1\" width=\"500\">\n",
    "</td></tr></table>\n",
    "\n",
    "\n",
    "\n",
    "**Exercise 5:** We define the non-periodic function\n",
    "\n",
    "$f(t) = t^2$\n",
    "\n",
    "Approximate this function in the interval $(t_a=1, t_b=3)$ with the continuous Fourier series using the first $k=8$ terms.\n"
   ]
  },
  {
   "cell_type": "markdown",
   "id": "a4c0cdc7-d06a-431e-a53c-a065ad335150",
   "metadata": {
    "slideshow": {
     "slide_type": "slide"
    },
    "tags": []
   },
   "source": [
    "## Discrete Fourier Transform (DFT)\n",
    "\n",
    "Let $f(t)$ be a continuous function of time. To analyze it with digital tools, we first represent it by a finite set of $N$ discrete, equally spaced samples:\n",
    "\n",
    "- The sample points are indexed by $n = 0, 1, \\dots, N-1$.\n",
    "- The sampling interval is $\\Delta t$, so that $t_n = n \\Delta t$.\n",
    "- The sampled values are $y_n = f(t_n)$.\n",
    "\n",
    "Because the data set is finite, we usually make the assumption that the signal is **periodic** with period $N \\Delta t$. This assumption ensures that the Fourier expansion is well defined on the discrete samples.\n",
    "\n"
   ]
  },
  {
   "cell_type": "markdown",
   "id": "8c293adb-e71d-4e17-8ae0-8eb569578b93",
   "metadata": {
    "slideshow": {
     "slide_type": "slide"
    },
    "tags": []
   },
   "source": [
    "\n",
    "The Fourier coefficients are obtained by\n",
    "\n",
    "$$\n",
    "F_k = \\frac{1}{N} \\sum_{n=0}^{N-1} y_n \\, e^{-i \\frac{2\\pi k n}{N}} \\quad \\text{for } k = 0, 1, \\dots, N-1\n",
    "$$\n",
    "\n",
    "where $F_k$ represents the amplitude of the frequency component at frequency\n",
    "\n",
    "$$\n",
    "f_k = \\frac{k}{N \\Delta t}.\n",
    "$$\n"
   ]
  },
  {
   "cell_type": "markdown",
   "id": "7e866cde-ac83-4dd1-8b51-7a9354c1c568",
   "metadata": {
    "slideshow": {
     "slide_type": "slide"
    },
    "tags": []
   },
   "source": [
    "In many contexts, the DFT is defined without the factor $1/N$:\n",
    "\n",
    "$$\n",
    "C_k = \\sum_{n=0}^{N-1} y_n \\, e^{-i \\frac{2\\pi k n}{N}}.\n",
    "$$\n",
    "\n",
    "The two conventions are related by\n",
    "\n",
    "$$\n",
    "F_k = \\frac{C_k}{N}.\n",
    "$$\n",
    "\n",
    "This distinction is important when comparing formulas across books or software libraries.\n",
    "\n",
    "\n"
   ]
  },
  {
   "cell_type": "markdown",
   "id": "4516bab1-b280-4bef-9191-e7408dff810f",
   "metadata": {
    "slideshow": {
     "slide_type": "slide"
    },
    "tags": []
   },
   "source": [
    "For instance, consider a sequence of $N = 4$ samples:\n",
    "\n",
    "$$\n",
    "y = [1, \\; 0, \\; -1, \\; 0].\n",
    "$$\n",
    "\n",
    "We compute the DTF coefficients\n",
    "\n",
    "$$\n",
    "C_k = \\sum_{n=0}^{N-1} y_n \\, e^{-i \\frac{2\\pi k n}{N}}, \\quad k = 0, 1, 2, 3.\n",
    "$$\n",
    "\n",
    "\n",
    "$$\n",
    "C_0 = \\sum_{n=0}^{3} y_n \\cdot e^{-i \\frac{2\\pi \\cdot 0 \\cdot n}{4}}\n",
    "= (1)(1) + (0)(1) + (-1)(1) + (0)(1) = 0.\n",
    "$$\n",
    "\n",
    "$$\n",
    "C_1 = \\sum_{n=0}^{3} y_n \\cdot e^{-i \\frac{2\\pi \\cdot 1 \\cdot n}{4}}.\n",
    "$$\n",
    "\n",
    "- For $n=0$: $(1)(1) = 1$  \n",
    "- For $n=1$: $(0)(e^{-i \\pi/2}) = 0$  \n",
    "- For $n=2$: $(-1)(e^{-i \\pi}) = (-1)(-1) = 1$  \n",
    "- For $n=3$: $(0)(e^{-i 3\\pi/2}) = 0$\n",
    "\n",
    "So\n",
    "\n",
    "$$\n",
    "C_1 = 1 + 0 + 1 + 0 = 2.\n",
    "$$"
   ]
  },
  {
   "cell_type": "markdown",
   "id": "edce3852-bfe8-4bf5-9bfb-9541ef3253e1",
   "metadata": {
    "slideshow": {
     "slide_type": "slide"
    },
    "tags": []
   },
   "source": [
    "$$\n",
    "C_2 = \\sum_{n=0}^{3} y_n \\cdot e^{-i \\frac{2\\pi \\cdot 2 \\cdot n}{4}}.\n",
    "$$\n",
    "\n",
    "- For $n=0$: $(1)(1) = 1$  \n",
    "- For $n=1$: $(0)(e^{-i \\pi}) = 0$  \n",
    "- For $n=2$: $(-1)(e^{-i 2\\pi}) = (-1)(1) = -1$  \n",
    "- For $n=3$: $(0)(e^{-i 3\\pi}) = 0$\n",
    "\n",
    "So\n",
    "\n",
    "$$\n",
    "C_2 = 1 + 0 - 1 + 0 = 0.\n",
    "$$\n",
    "\n",
    "\n",
    "$$\n",
    "C_3 = \\sum_{n=0}^{3} y_n \\cdot e^{-i \\frac{2\\pi \\cdot 3 \\cdot n}{4}}.\n",
    "$$\n",
    "\n",
    "- For $n=0$: $(1)(1) = 1$  \n",
    "- For $n=1$: $(0)(e^{-i 3\\pi/2}) = 0$  \n",
    "- For $n=2$: $(-1)(e^{-i 3\\pi}) = (-1)(-1) = 1$  \n",
    "- For $n=3$: $(0)(e^{-i 9\\pi/2}) = 0$\n",
    "\n",
    "So\n",
    "\n",
    "$$\n",
    "C_3 = 1 + 0 + 1 + 0 = 2.\n",
    "$$\n",
    "\n",
    "The DFT coefficients are\n",
    "\n",
    "$$\n",
    "C = [\\, C_0, C_1, C_2, C_3 \\,] = [\\, 0, \\; 2, \\; 0, \\; 2 \\,].\n",
    "$$\n",
    "\n",
    "This tells us the sequence $[1, 0, -1, 0]$ has contributions only at frequencies $k=1$ and $k=3$ (which is the symmetric negative frequency).\n"
   ]
  },
  {
   "cell_type": "markdown",
   "id": "4ab668ba-4052-49ae-a0e7-71f1f12923fe",
   "metadata": {
    "slideshow": {
     "slide_type": "slide"
    },
    "tags": []
   },
   "source": [
    "\n",
    "### Inverse Discrete Fourier Transform\n",
    "\n",
    "From the coefficients $C_k$ we can reconstruct the original signal values $y_n$ via the **inverse DFT**:\n",
    "\n",
    "$$\n",
    "y_n = \\frac{1}{N} \\sum_{k=0}^{N-1} C_k \\, e^{i \\frac{2\\pi k n}{N}}.\n",
    "$$\n",
    "\n",
    "This shows that the DFT is a reversible operation: no information is lost as long as we keep all $N$ coefficients.\n"
   ]
  },
  {
   "cell_type": "markdown",
   "id": "f65ea38b-1d16-45e1-b56a-bd8517cff542",
   "metadata": {
    "slideshow": {
     "slide_type": "slide"
    },
    "tags": []
   },
   "source": [
    "### Fast Fourier Transform (FFT)\n",
    "\n",
    "Directly computing the DFT requires $N^2$ operations. For large $N$, this becomes computationally expensive.  \n",
    "\n",
    "The **Fast Fourier Transform (FFT)** is a family of algorithms that computes the same result as the DFT, but with only $O(N \\log N)$ operations. This efficiency gain is enormous and explains why Fourier analysis is practical in modern applications.\n",
    "\n",
    "In Python, FFT algorithms are implemented in packages such as **NumPy** (`numpy.fft`) and **SciPy**.\n",
    "\n"
   ]
  },
  {
   "cell_type": "markdown",
   "id": "da1c136e-9a03-416e-b610-3215f4ec50ff",
   "metadata": {
    "slideshow": {
     "slide_type": "slide"
    },
    "tags": []
   },
   "source": [
    "### Power Spectrum\n",
    "\n",
    "One way to analyze a signal is through its **power spectrum**, which shows how the energy of the signal is distributed among frequencies. The power at frequency $f_k$ is defined as\n",
    "\n",
    "$$\n",
    "P_k = |F_k|^2.\n",
    "$$\n",
    "\n",
    "Plotting $P_k$ versus $f_k$ reveals the dominant frequency components of the signal.  \n",
    "\n",
    "Sometimes the **total power** is also written as\n",
    "\n",
    "$$\n",
    "P_{\\text{total}} = \\sum_{k=0}^{N-1} |F_k|^2,\n",
    "$$\n",
    "\n",
    "which gives a single number representing the energy content of the entire signal.\n",
    "\n"
   ]
  },
  {
   "cell_type": "markdown",
   "id": "2ef356ef-8ee9-4196-8e0c-7856f2c1a2e1",
   "metadata": {
    "slideshow": {
     "slide_type": "slide"
    },
    "tags": []
   },
   "source": [
    "If the chosen sampling window (time interval $T = N \\Delta t$) does not contain an integer number of oscillation periods of the signal, the frequency components do not align perfectly with the DFT frequency bins.  \n",
    "\n",
    "As a result, the Fourier transform may show spurious frequencies around the true peak. This effect is called **spectral leakage**.  \n",
    "\n",
    "To reduce leakage, one can:\n",
    "- Choose $T$ so that it contains an integer number of cycles of the signal, if possible.\n",
    "- Apply a **window function** (e.g. Hann, Hamming, Blackman) to taper the edges of the data before computing the DFT."
   ]
  },
  {
   "cell_type": "markdown",
   "id": "a39272d8",
   "metadata": {
    "slideshow": {
     "slide_type": "slide"
    }
   },
   "source": [
    "## Worked examples\n",
    "\n",
    "**Example A** Let us consider a signal composed of the sum of two cosine waves with different frequencies:\n",
    "\n",
    "$$\n",
    "y[n] = \\cos\\left(\\frac{2\\pi \\cdot 2}{N} n\\right) + 0.5 \\cos\\left(\\frac{2\\pi \\cdot 3}{N} n\\right), \\quad n = 0, \\dots, N-1.\n",
    "$$\n",
    "\n",
    "- The first cosine has frequency bin $k=2$.\n",
    "- The second cosine has frequency bin $k=3$ and half the amplitude.\n",
    "\n",
    "When we compute the DFT, we should see **two peaks** in the spectrum at $k=2$ and $k=3$ (and symmetrically at $k=N-2$ and $k=N-3$ for the negative frequencies).\n",
    "\n",
    "Note: here we wrote the signal as a function of the sample index $n$. If we had a real sampling interval $\\Delta t$, then the corresponding time would be $t_n = n \\Delta t$, and the argument of the cosine would look like $2\\pi f t_n$. In this simplified example, $\\Delta t=1$ so the \"time axis\" is implicit in the index $n$.\n",
    "\n",
    "This is a realistic situation: real-world signals (audio, vibrations, etc.) often consist of multiple frequency components added together. The DFT helps us identify those components.\n"
   ]
  },
  {
   "cell_type": "code",
   "execution_count": 15,
   "id": "a226008b",
   "metadata": {
    "slideshow": {
     "slide_type": "slide"
    }
   },
   "outputs": [
    {
     "data": {
      "image/png": "[encoded data removed]",
      "text/plain": [
       "<Figure size 864x288 with 2 Axes>"
      ]
     },
     "metadata": {
      "needs_background": "light"
     },
     "output_type": "display_data"
    }
   ],
   "source": [
    "import numpy as np\n",
    "import matplotlib.pyplot as plt\n",
    "\n",
    "# Number of samples\n",
    "N = 32\n",
    "n = np.arange(N)\n",
    "\n",
    "# Construct signal: mixture of two cosines\n",
    "y = np.cos(2 * np.pi * 2 * n / N) + 0.5 * np.cos(2 * np.pi * 3 * n / N)\n",
    "\n",
    "# Compute DFT with numpy\n",
    "C = np.fft.fft(y)\n",
    "freqs = np.arange(N)  # frequency bins\n",
    "\n",
    "# Plot the time-domain signal\n",
    "plt.figure(figsize=(12, 4))\n",
    "\n",
    "plt.subplot(1, 2, 1)\n",
    "plt.stem(n, y, basefmt=\" \")\n",
    "plt.title(\"Time-domain signal y[n]\")\n",
    "plt.xlabel(\"n (sample)\")\n",
    "plt.ylabel(\"Amplitude\")\n",
    "\n",
    "# Plot the frequency-domain magnitude\n",
    "plt.subplot(1, 2, 2)\n",
    "plt.stem(freqs, np.abs(C), basefmt=\" \")\n",
    "plt.title(\"DFT magnitude |C_k|\")\n",
    "plt.xlabel(\"Frequency bin k\")\n",
    "plt.ylabel(\"Magnitude\")\n",
    "\n",
    "plt.tight_layout()\n",
    "plt.show()\n"
   ]
  },
  {
   "cell_type": "markdown",
   "id": "c4095e8d",
   "metadata": {
    "slideshow": {
     "slide_type": "slide"
    }
   },
   "source": [
    "**Example B (for you to do)**: Given the function\n",
    "\n",
    "$f(t) = \\cos(2\\pi f_1 t + \\phi) + 0.5 \\sin(2\\pi f_2 t)$\n",
    "\n",
    "compute its discrete Fourier transform using $N=2000$ samples in the interval $0 \\leq t < 2$ s, with\n",
    "\n",
    "$f_1 = 30$ Hz\n",
    "\n",
    "$f_2 = 80$ Hz\n",
    "\n",
    "$\\phi = \\pi/4$\n",
    "\n",
    "Plot the real part and imaginary part of the Fourier coefficients versus frequency.\n",
    "\n",
    "Plot the power spectrum $P_k = |F_k|^2$ versus frequency.\n",
    "\n",
    "Identify the frequencies where the peaks appear and explain how they relate to $f_1$ and $f_2$."
   ]
  },
  {
   "cell_type": "markdown",
   "id": "c4e35b5e-87f8-4d94-8a13-3a6d2bf6cfe5",
   "metadata": {
    "slideshow": {
     "slide_type": "slide"
    },
    "tags": []
   },
   "source": [
    "## Exercises (2)\n",
    "\n",
    "**Exercise 6:** Given the function\n",
    "\n",
    "$f(t) = \\cos(2\\pi f t)$\n",
    "\n",
    "Obtain the discrete Fourier transform using $N=10000$ samples in the interval $0 \\leq t < 5s$, with $f = 250$ Hz. Plot the real part versus frequency.\n",
    "\n",
    "**Exercise 7:** Given the function\n",
    "\n",
    "$f(t) = \\sin(2\\pi f_1 t) + 2\\cos(2\\pi f_2 t)$\n",
    "\n",
    "Obtain the discrete Fourier transform using $N=1000$ samples in the interval $0 \\leq t < 5s$, with $f_1 = 10$ Hz and $f_2 = 50$ Hz. Plot the real part, the imaginary part, and the power versus frequency.\n",
    "\n",
    "**Exercise 8:** The file [piano.txt](https://www.dropbox.com/scl/fi/495ralmki84l5o8ndg8ai/piano.txt?rlkey=k797bbgsxd25q63zhtlsi681h&dl=1)\n",
    " contains data representing the waveform of a single note played on a piano, sampled at 44100 samples per second.\n",
    "\n",
    "Read the information in piano.txt and plot the signal versus time.\n",
    "\n",
    "Obtain the discrete Fourier transform of the signal and plot its power spectrum, adjusting the horizontal axis so that the frequency can be read.\n",
    "\n",
    "From the measured frequency, determine which note it is."
   ]
  }
 ],
 "metadata": {
  "celltoolbar": "Slideshow",
  "kernelspec": {
   "display_name": "Python 3",
   "language": "python",
   "name": "python3"
  },
  "language_info": {
   "codemirror_mode": {
    "name": "ipython",
    "version": 3
   },
   "file_extension": ".py",
   "mimetype": "text/x-python",
   "name": "python",
   "nbconvert_exporter": "python",
   "pygments_lexer": "ipython3",
   "version": "3.7.16"
  }
 },
 "nbformat": 4,
 "nbformat_minor": 5
}
