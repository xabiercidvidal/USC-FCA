{
 "cells": [
  {
   "cell_type": "markdown",
   "id": "6c187464",
   "metadata": {
    "slideshow": {
     "slide_type": "slide"
    },
    "tags": []
   },
   "source": [
    "# Numerical Methods for PDEs"
   ]
  },
  {
   "cell_type": "markdown",
   "id": "d7a2bb02",
   "metadata": {
    "slideshow": {
     "slide_type": "skip"
    },
    "tags": []
   },
   "source": [
    "## Quick setup — imports and plotting defaults\n",
    "Run this cell first. SciPy is optional for most of this notebook."
   ]
  },
  {
   "cell_type": "code",
   "execution_count": 3,
   "id": "05f33d51",
   "metadata": {
    "slideshow": {
     "slide_type": "skip"
    },
    "tags": []
   },
   "outputs": [],
   "source": [
    "\n",
    "import numpy as np\n",
    "import matplotlib.pyplot as plt\n",
    "from matplotlib import animation\n",
    "from IPython.display import HTML, display\n",
    "import time\n",
    "plt.rcParams.update({'figure.figsize': (7,4), 'image.cmap': 'viridis'})\n"
   ]
  },
  {
   "cell_type": "markdown",
   "id": "ddd019cd",
   "metadata": {
    "slideshow": {
     "slide_type": "slide"
    },
    "tags": []
   },
   "source": [
    "# Elliptic PDEs\n",
    "\n",
    "**What they model:** steady-state distributions — electrostatic potential in charge-free regions, or steady temperature in a plate.\n",
    "\n",
    "**Key idea:** No time dependence. The solution is determined by boundary conditions alone.\n",
    "\n",
    "**Laplace equation:**\n",
    "\n",
    "$$ \\nabla^2 V(x,y) = 0. $$\n",
    "\n",
    "or, in 2D:\n",
    "\n",
    "$$ \\frac{\\partial^2 V}{\\partial x^2} + \\frac{\\partial^2 V}{\\partial y^2} = 0. $$\n"
   ]
  },
  {
   "cell_type": "markdown",
   "id": "97f65418-7836-4353-9425-5a8a3e5da3a6",
   "metadata": {
    "slideshow": {
     "slide_type": "slide"
    },
    "tags": []
   },
   "source": [
    "To solve this equation use the *finite difference method*.\n",
    "\n",
    "Let's reobtain the second partial derivative using Taylor expansions. At $\\mathcal{O}(\\Delta x^3)$\n",
    "\n",
    "$$\n",
    "f(x_i+\\Delta x) \\approx f(x_i) + f'(x_i)\\,\\Delta x \n",
    "+ \\tfrac{1}{2} f''(x_i)(\\Delta x)^2 \n",
    "+ \\tfrac{1}{6} f^{(3)}(x_i)(\\Delta x)^3 \n",
    "$$\n",
    "\n",
    "and\n",
    "\n",
    "$$\n",
    "f(x_i-\\Delta x) \\approx f(x_i) - f'(x_i)\\,\\Delta x \n",
    "+ \\tfrac{1}{2} f''(x_i)(\\Delta x)^2 \n",
    "- \\tfrac{1}{6} f^{(3)}(x_i)(\\Delta x)^3 \n",
    "$$\n",
    "\n",
    "If we add both expansions, the odd terms cancel out:\n",
    "$$\n",
    "f(x_i+\\Delta x) + f(x_i-\\Delta x) \n",
    "\\approx 2 f(x_i) + f''(x_i)(\\Delta x)^2 \n",
    "$$\n",
    "\n",
    "Rearranging to isolate $f''(x_i)$\n",
    "$$\n",
    " f''(x_i)(\\Delta x)^2 \\approx f(x_i+\\Delta x) - 2 f(x_i) + f(x_i-\\Delta x) \n",
    "$$\n",
    "\n",
    "or\n",
    "\n",
    "$$\n",
    " f''(x_i) \\approx \\frac{f(x_i+\\Delta x) - 2 f(x_i) + f(x_i-\\Delta x)}{(\\Delta x)^2} \n",
    "$$\n"
   ]
  },
  {
   "cell_type": "markdown",
   "id": "9207f5df-c943-4b7f-8827-94de6a89b3da",
   "metadata": {
    "slideshow": {
     "slide_type": "slide"
    },
    "tags": []
   },
   "source": [
    "Then, we've got:\n",
    "\n",
    "\\begin{equation}\n",
    "f''(x_i) \\approx \\frac{f(x_i+\\Delta x) - 2 f(x_i) + f(x_i-\\Delta x)}{(\\Delta x)^2},\n",
    "\\end{equation}\n",
    "\n",
    "\\begin{equation}\n",
    "f''(y_i) \\approx \\frac{f(y_i+\\Delta y) - 2 f(y_i) + f(y_i-\\Delta y)}{(\\Delta y)^2}.\n",
    "\\end{equation}\n",
    "\n"
   ]
  },
  {
   "cell_type": "markdown",
   "id": "b9406be8-d501-4542-9d6e-e02966e55a97",
   "metadata": {
    "slideshow": {
     "slide_type": "fragment"
    },
    "tags": []
   },
   "source": [
    "Taking $\\Delta x = \\Delta y = h$, Laplace equation becomes\n",
    "\n",
    "\\begin{equation}\n",
    "\\frac{V(x_i+h,y_j) + V(x_i-h,y_j) + V(x_i,y_j+h) + V(x_i,y_j-h) - 4V(x_i,y_j)}{h^2} = 0.\n",
    "\\end{equation}"
   ]
  },
  {
   "cell_type": "markdown",
   "id": "8c80111f-24b8-4684-ac37-65fee3f85863",
   "metadata": {
    "slideshow": {
     "slide_type": "slide"
    },
    "tags": []
   },
   "source": [
    "To apply the finite difference method, we assume that the region in which we want to compute \n",
    "the potential $V$ is divided into a grid with spacing $h$ (see figure). \n",
    "The intersections of the grid lines are called nodes.\n",
    "\n",
    "<table><tr><td align=\"center\">\n",
    "  <img src=\"./img/pdes_fig1.jpg\" alt=\"fig1\" width=\"500\">\n",
    "</td></tr></table>\n",
    "\n",
    "For certain nodes, the potential value is known due to the initial and boundary conditions (fixed nodes), \n",
    "while for the remaining nodes (free nodes) the potential is calculated using the expression obtained \n",
    "by isolating $V(x_i,y_j)$ from above:\n",
    "\n",
    "\\begin{equation}\n",
    "V(x_i,y_j) = \\frac{1}{4}\\left[ V(x_i+h,y_j) + V(x_i-h,y_j) + V(x_i,y_j+h) + V(x_i,y_j-h) \\right].\n",
    "\\end{equation}\n",
    "\n",
    "This expression can be generalized as\n",
    "\n",
    "\\begin{equation}\n",
    "V_{i,j} = \\frac{1}{4}\\left( V_{i+1,j} + V_{i-1,j} + V_{i,j+1} + V_{i,j-1} \\right).\n",
    "\\end{equation}\n"
   ]
  },
  {
   "cell_type": "markdown",
   "id": "e7b64dcb-6e37-42d4-9f21-8f6c95151a1d",
   "metadata": {
    "slideshow": {
     "slide_type": "slide"
    },
    "tags": []
   },
   "source": [
    "**Discrete intuition:** The value at an interior node is the average of its four nearest neighbors (the 5-point figure). This suggests an iterative idea: repeatedly replace each interior node by that average — the values 'relax' toward the true harmonic function.\n",
    "\n",
    "\n",
    "- Initially, assign fixed nodes the values imposed by the initial and boundary conditions, \n",
    "and the free nodes the value zero.\n",
    "- Keeping the potential at fixed nodes unchanged, \n",
    "we compute the potential at each free node using the equations above.\n",
    "- The potential obtained after the first iteration will only be approximate. \n",
    "The calculation is repeated at each free node using the new values until the desired accuracy is reached.\n",
    "\n",
    "\n",
    "Below we implement a small, clear demonstration"
   ]
  },
  {
   "cell_type": "markdown",
   "id": "a225e0b7",
   "metadata": {
    "slideshow": {
     "slide_type": "slide"
    },
    "tags": []
   },
   "source": [
    "## Worked examples \n",
    "\n",
    "### Jacobi relaxation\n",
    "\n",
    "<table><tr><td align=\"center\">\n",
    "  <img src=\"./img/pdes_fig2.png\" alt=\"fig1\" width=\"250\">\n",
    "</td></tr></table>\n",
    "\n",
    "**Example A:** Implement one Jacobi update step on a 5×5 grid where the top row is 1 and other boundaries are 0. Print the grid before and after one step.\n",
    "\n"
   ]
  },
  {
   "cell_type": "code",
   "execution_count": 4,
   "id": "f47d1c31",
   "metadata": {
    "slideshow": {
     "slide_type": "slide"
    },
    "tags": []
   },
   "outputs": [
    {
     "name": "stdout",
     "output_type": "stream",
     "text": [
      "Initial 5x5 grid:\n",
      "[[0. 0. 0. 0. 0.]\n",
      " [0. 0. 0. 0. 0.]\n",
      " [0. 0. 0. 0. 0.]\n",
      " [0. 0. 0. 0. 0.]\n",
      " [1. 1. 1. 1. 1.]]\n",
      "\n",
      "After one Jacobi iteration:\n",
      "[[0.   0.   0.   0.   0.  ]\n",
      " [0.   0.   0.   0.   0.  ]\n",
      " [0.   0.   0.   0.   0.  ]\n",
      " [0.   0.25 0.25 0.25 0.  ]\n",
      " [1.   1.   1.   1.   1.  ]]\n"
     ]
    }
   ],
   "source": [
    "\n",
    "# Implementing the small Jacobi example and warm-ups\n",
    "def single_jacobi_step(V):\n",
    "    Vn = V.copy()\n",
    "    Vn[1:-1,1:-1] = 0.25*(V[1:-1,2:]+V[1:-1,:-2]+V[2:,1:-1]+V[:-2,1:-1])\n",
    "    return Vn\n",
    "\n",
    "\n",
    "# Example A\n",
    "V = np.zeros((5,5))\n",
    "V[-1,:] = 1.0  # top row = 1\n",
    "print('Initial 5x5 grid:')\n",
    "print(V)\n",
    "V1 = single_jacobi_step(V)\n",
    "print('\\nAfter one Jacobi iteration:')\n",
    "print(np.round(V1,4))"
   ]
  },
  {
   "cell_type": "markdown",
   "id": "c5be3ba8",
   "metadata": {
    "slideshow": {
     "slide_type": "slide"
    }
   },
   "source": [
    "**Example B (for you to do):** Run 50 Jacobi iterations and plot the result. Show the maximum change in values after 50 iterations. Run an example where you setup a tolerance for the loop to stop."
   ]
  },
  {
   "cell_type": "markdown",
   "id": "fa36097b",
   "metadata": {
    "slideshow": {
     "slide_type": "slide"
    },
    "tags": []
   },
   "source": [
    "### In-place Gauss–Seidel\n",
    "Gauss–Seidel uses the newest updated values immediately; this often halves the number of iterations compared to Jacobi. Below is a simple implementation, comparing Gauss–Seidel with Jacobi results and iteration counts to reach a tolerance."
   ]
  },
  {
   "cell_type": "code",
   "execution_count": 5,
   "id": "3ef039d6",
   "metadata": {
    "slideshow": {
     "slide_type": "slide"
    },
    "tags": []
   },
   "outputs": [],
   "source": [
    "# small demo comparing Jacobi and GS for 200x200 grid\n",
    "## bc = boundary_conditions\n",
    "def make_bc(n=20, top=1.0):\n",
    "    V = np.zeros((n,n))\n",
    "    bc_mask = np.zeros_like(V, dtype=bool); bc_vals = np.zeros_like(V)\n",
    "    V[-1,:] = top; bc_mask[-1,:] = True; bc_vals[-1,:] = top\n",
    "    V[0,:] = 0; V[:,0] = 0; V[:,-1] = 0\n",
    "    bc_mask[0,:] = True; bc_mask[:,0] = True; bc_mask[:,-1] = True\n",
    "    return V, bc_mask, bc_vals\n",
    "\n",
    "\n",
    "def single_jacobi_step_loop(V):\n",
    "    Vn = V.copy()\n",
    "    ny, nx = Vn.shape\n",
    "    for i in range(1, ny-1):\n",
    "        for j in range(1, nx-1):\n",
    "           Vn[i,j] = 0.25*(V[i+1,j] + V[i-1,j] + V[i,j+1] + V[i,j-1])\n",
    "    return Vn\n",
    "\n",
    "## Gauss Seidel implementation\n",
    "def gauss_seidel_step(V, bc_mask, bc_vals):\n",
    "    ## note the V.copy() step is gone\n",
    "    ny, nx = V.shape\n",
    "    for i in range(1, ny-1):\n",
    "        for j in range(1, nx-1):\n",
    "            ## only do calculation if mask not applied\n",
    "            if not bc_mask[i,j]: V[i,j] = 0.25*(V[i+1,j] + V[i-1,j] + V[i,j+1] + V[i,j-1])\n",
    "    V[bc_mask] = bc_vals[bc_mask]\n",
    "    return V\n",
    "\n",
    "\n",
    "\n"
   ]
  },
  {
   "cell_type": "code",
   "execution_count": 6,
   "id": "9361ec4a",
   "metadata": {
    "slideshow": {
     "slide_type": "slide"
    }
   },
   "outputs": [],
   "source": [
    "def gauss_seidel_step_rb(V, bc_mask, bc_vals):\n",
    "    # red update: (i+j) even\n",
    "    V[1:-1:2,1:-1:2] = 0.25*(\n",
    "        V[:-2:2,1:-1:2] + V[2::2,1:-1:2] +\n",
    "        V[1:-1:2,:-2:2] + V[1:-1:2,2::2]\n",
    "    )\n",
    "    V[2:-1:2,2:-1:2] = 0.25*(\n",
    "        V[1:-2:2,2:-1:2] + V[3::2,2:-1:2] +\n",
    "        V[2:-1:2,1:-2:2] + V[2:-1:2,3::2]\n",
    "    )\n",
    "\n",
    "    # black update: (i+j) odd\n",
    "    V[2:-1:2,1:-1:2] = 0.25*(\n",
    "        V[1:-2:2,1:-1:2] + V[3::2,1:-1:2] +\n",
    "        V[2:-1:2,:-2:2] + V[2:-1:2,2::2]\n",
    "    )\n",
    "    V[1:-1:2,2:-1:2] = 0.25*(\n",
    "        V[:-2:2,2:-1:2] + V[2::2,2:-1:2] +\n",
    "        V[1:-1:2,1:-2:2] + V[1:-1:2,3::2]\n",
    "    )\n",
    "\n",
    "    V[bc_mask] = bc_vals[bc_mask]\n",
    "    return V\n",
    "\n",
    "\n",
    "V20, bc_mask20, bc_vals20 = make_bc(200, top=1.0)\n"
   ]
  },
  {
   "cell_type": "code",
   "execution_count": 7,
   "id": "160b4fac",
   "metadata": {
    "slideshow": {
     "slide_type": "slide"
    }
   },
   "outputs": [],
   "source": [
    "# Run Jacobi\n",
    "Vj = V20.copy(); t0 = time.time()\n",
    "for _ in range(2000):\n",
    "    Vj = single_jacobi_step(Vj)\n",
    "Vj_time = time.time()-t0\n",
    "\n",
    "# Run Jacobi loop\n",
    "Vj1 = V20.copy(); t0 = time.time()\n",
    "for _ in range(2000):\n",
    "    Vj1 = single_jacobi_step_loop(Vj1)\n",
    "Vj1_time = time.time()-t0\n",
    "\n",
    "# Run GS\n",
    "Vg = V20.copy(); t0 = time.time()\n",
    "for _ in range(2000):\n",
    "    Vg = gauss_seidel_step(Vg, bc_mask20, bc_vals20)\n",
    "Vg_time = time.time()-t0\n",
    "\n",
    "# Run GS RB\n",
    "Vgrb = V20.copy(); t0 = time.time()\n",
    "for _ in range(2000):\n",
    "    Vgrb = gauss_seidel_step_rb(Vgrb, bc_mask20, bc_vals20)\n",
    "Vgrb_time = time.time()-t0\n"
   ]
  },
  {
   "cell_type": "code",
   "execution_count": 8,
   "id": "05eb1205",
   "metadata": {
    "slideshow": {
     "slide_type": "slide"
    }
   },
   "outputs": [
    {
     "name": "stdout",
     "output_type": "stream",
     "text": [
      "Jacobi 2000 steps time: 0.226s, Jacobi rb loops 2000 steps time: 57.948s\n",
      "GS rb 2000 steps time: 0.346s, GS 2000 steps time: 65.310s\n"
     ]
    },
    {
     "data": {
      "image/png": "[encoded data removed]",
      "text/plain": [
       "<Figure size 1152x288 with 4 Axes>"
      ]
     },
     "metadata": {
      "needs_background": "light"
     },
     "output_type": "display_data"
    }
   ],
   "source": [
    "\n",
    "fig, axs = plt.subplots(1, 4, figsize=(16,4))\n",
    "print(f'Jacobi 2000 steps time: {Vj_time:.3f}s, Jacobi rb loops 2000 steps time: {Vj1_time:.3f}s')\n",
    "print(f'GS rb 2000 steps time: {Vgrb_time:.3f}s, GS 2000 steps time: {Vg_time:.3f}s')\n",
    "axs[0].imshow(Vj, origin='lower'); axs[0].set_title('Jacobi 2000 steps')\n",
    "axs[1].imshow(Vj1, origin='lower'); axs[1].set_title('Jacobi loops 2000 steps')\n",
    "axs[2].imshow(Vg, origin='lower'); axs[2].set_title('Gauss-Seidel 2000 steps')\n",
    "axs[3].imshow(Vgrb, origin='lower'); axs[3].set_title('Gauss-Seidel RB 2000 steps'); plt.show()\n"
   ]
  },
  {
   "cell_type": "markdown",
   "id": "35d72612",
   "metadata": {
    "slideshow": {
     "slide_type": "slide"
    }
   },
   "source": [
    "**Example C (for you to do):** Convergence \\& Grid Refinement.\n",
    "We will perform a refinement study using Laplace's equation on the unit square with these boundary conditions:\n",
    "\n",
    "$$\n",
    "V(x,0) = 0, \\quad V(x,1) = \\sin(\\pi x), \\quad V(0,y) = 0, \\quad V(1,y) = 0.\n",
    "$$\n",
    "\n",
    "This problem has the exact solution: $V(x,y) = \\frac{\\sin(\\pi x)\\,\\sinh(\\pi y)}{\\sinh(\\pi)}$.\n",
    "\n",
    "\n",
    "Solve the problem numerically using the *Gauss–Seidel* method on grids of size $10\\times 10$, $20\\times 20$, $40\\times 40$, $80\\times 80$  and $120\\times 120$.  Compare each numerical solution to the analytic one by interpolating both to the same mesh and computing the maximum error. Plot the maximum error versus grid size."
   ]
  },
  {
   "cell_type": "markdown",
   "id": "f1c57243",
   "metadata": {
    "slideshow": {
     "slide_type": "slide"
    },
    "tags": []
   },
   "source": [
    "## Exercises (1)\n",
    "\n",
    "**Exercise 1.** Compute the electrostatic potential inside a square domain (charge-free) whose top side is a conductor at 100 V and the other three sides are grounded (0 V). Use a 40×40 grid. Compare Jacobi and Gauss–Seidel convergence. Include equipotential contour plots.\n",
    "\n",
    "<table><tr><td align=\"center\">\n",
    "  <img src=\"./img/pdes_fig2.png\" alt=\"fig1\" width=\"200\">\n",
    "</td></tr></table>\n",
    "\n",
    "**Exercise 2.** Same square, but two thin conducting wires inside are held at +100 V and -100 V. Borders grounded. Use 40×40 mesh. Plot potentials.\n",
    "\n",
    "<table><tr><td align=\"center\">\n",
    "  <img src=\"./img/pdes_fig3.png\" alt=\"fig1\" width=\"250\">\n",
    "</td></tr></table>\n",
    "\n"
   ]
  },
  {
   "cell_type": "markdown",
   "id": "c385168c",
   "metadata": {
    "slideshow": {
     "slide_type": "slide"
    },
    "tags": []
   },
   "source": [
    "**Exercise 3.** A square of side 100 cm is surrounded by conducting wires connected to ground.  \n",
    "The charge inside the square is zero except for two shaded regions (see figure) \n",
    "that carry charge densities of $+1 \\,\\mathrm{C/m^2}$ and $-1 \\,\\mathrm{C/m^2}$, respectively.  \n",
    "Evaluate how the electrostatic potential is distributed inside the square. First just assume only the negative charge is present, and then, do both.\n",
    "\n",
    "\n",
    "<table><tr><td align=\"center\">\n",
    "  <img src=\"./img/pdes_fig4.png\" alt=\"fig1\" width=\"250\">\n",
    "</td></tr></table>\n",
    "\n",
    "\n",
    "In this case, due to the presence of charge inside the square, \n",
    "we must use Poisson’s equation:\n",
    "\n",
    "\\begin{equation}\n",
    "\\frac{\\partial^2 V}{\\partial x^2} + \\frac{\\partial^2 V}{\\partial y^2} = - \\frac{\\rho}{\\epsilon_0}.\n",
    "\\end{equation}\n",
    "\n",
    "To solve the problem, we modify the solution we saw to Laplace equation as follows:\n",
    "\n",
    "\\begin{equation}\n",
    "\\frac{V(x_i+h,y_j) + V(x_i-h,y_j) + V(x_i,y_j+h) + V(x_i,y_j-h) - 4V(x_i,y_j)}{h^2} = - \\frac{\\rho(x,y)}{\\epsilon_0}.\n",
    "\\end{equation}\n",
    "\n",
    "which gives\n",
    "\n",
    "\\begin{equation}\n",
    "V_{i,j} = \\frac{1}{4}\\left( V_{i+1,j} + V_{i-1,j} + V_{i,j+1} + V_{i,j-1} \\right) + \\frac{h^2 \\rho_{i,j}}{4 \\epsilon_0}.\n",
    "\\end{equation}\n"
   ]
  },
  {
   "cell_type": "markdown",
   "id": "95fe40cb",
   "metadata": {
    "slideshow": {
     "slide_type": "slide"
    },
    "tags": []
   },
   "source": [
    "**Exercise 4.** We have a square aluminum plate of $40 \\times 40$ cm, \n",
    "with thermal conductivity coefficient $k = 0.49 \\,\\mathrm{cal/(s \\cdot cm \\cdot ^\\circ C)}$, \n",
    "subjected at its boundaries to the constant temperatures shown in the figure. In the steady state, determine graphically the temperature **and** heat flux distributions in the plate.  \n",
    "Use a $10 \\times 10$ mesh.\n",
    "\n",
    "<table><tr><td align=\"center\">\n",
    "  <img src=\"./img/pdes_fig5.png\" alt=\"fig1\" width=\"250\">\n",
    "</td></tr></table>\n",
    "\n",
    "\n",
    "In the steady state, with no heat sources or sinks, Laplace’s law holds:\n",
    "\n",
    "\\begin{equation}\n",
    "\\frac{\\partial^2 T}{\\partial x^2} + \\frac{\\partial^2 T}{\\partial y^2} = 0,\n",
    "\\end{equation}\n",
    "\n",
    "which leads to\n",
    "\n",
    "\\begin{equation}\n",
    "T_{i,j} = \\frac{1}{4}\\left( T_{i+1,j} + T_{i-1,j} + T_{i,j+1} + T_{i,j-1} \\right).\n",
    "\\end{equation}\n",
    "\n",
    "Once the steady state is reached, Fourier’s law gives the heat fluxes in both axes:\n",
    "\n",
    "\\begin{align}\n",
    "q_x &= -k \\frac{\\partial T}{\\partial x} \\simeq -k \\frac{T_{i,j+1} - T_{i,j-1}}{2h}, \\\\\n",
    "q_y &= -k \\frac{\\partial T}{\\partial y} \\simeq -k \\frac{T_{i+1,j} - T_{i-1,j}}{2h}.\n",
    "\\end{align}\n"
   ]
  },
  {
   "cell_type": "markdown",
   "id": "fff2e904",
   "metadata": {
    "slideshow": {
     "slide_type": "slide"
    },
    "tags": []
   },
   "source": [
    "# Parabolic PDEs — 1D heat equation\n",
    "\n",
    "**What they model:** diffusion/heat flow; solutions smooth out in time. \n",
    "\n",
    "**Key property:** infinite speed of propagation in the continuous model (but numerically limited by stability)."
   ]
  },
  {
   "cell_type": "markdown",
   "id": "8e70c4d4",
   "metadata": {
    "slideshow": {
     "slide_type": "slide"
    }
   },
   "source": [
    "### FTCS (Forward Time, Centered Space)\n",
    "\n",
    "Analyze the one-dimensional heat flow as in an insulated metal bar, \n",
    "which can exchange heat at both ends.\n",
    "\n",
    "<table><tr><td align=\"center\">\n",
    "  <img src=\"./img/pdes_fig6.jpg\" alt=\"fig1\" width=\"250\">\n",
    "</td></tr></table>\n",
    "\n",
    "If the bar is oriented along the $x$-axis, the temperature $T(x,t)$ \n",
    "at position $x$ and time $t$ satisfies Fourier’s equation:\n",
    "\n",
    "\\begin{equation}\n",
    "\\frac{\\partial T(x,t)}{\\partial t} = c^2 \\frac{\\partial^2 T(x,t)}{\\partial x^2},\n",
    "\\end{equation}\n",
    "\n",
    "where\n",
    "\\begin{equation}\n",
    "c^2 = \\frac{K}{c_e \\rho},\n",
    "\\end{equation}\n",
    "with $K$ the thermal conductivity, $c_e$ the specific heat, and $\\rho$ the density.\n",
    "\n"
   ]
  },
  {
   "cell_type": "markdown",
   "id": "0aeddff0",
   "metadata": {
    "slideshow": {
     "slide_type": "slide"
    }
   },
   "source": [
    "Converting the differential equation into finite difference form, \n",
    "at point $(x_i,t_j)$ we get\n",
    "\n",
    "\\begin{equation}\n",
    "\\frac{T(x_i,t_j+\\Delta t) - T(x_i,t_j)}{\\Delta t} \n",
    "= c^2 \\frac{T(x_i+\\Delta x,t_j) - 2T(x_i,t_j) + T(x_i-\\Delta x,t_j)}{(\\Delta x)^2}.\n",
    "\\end{equation}\n",
    "\n",
    "Letting\n",
    "\n",
    "\\begin{equation}\n",
    "r = \\frac{c^2 \\Delta t}{(\\Delta x)^2},\n",
    "\\end{equation}\n",
    "\n",
    "we obtain\n",
    "\n",
    "\\begin{equation}\n",
    "T(x_i,t_j+\\Delta t) = T(x_i,t_j) + r\\left[ T(x_i+\\Delta x,t_j) + T(x_i-\\Delta x,t_j) - 2T(x_i,t_j) \\right].\n",
    "\\end{equation}\n",
    "\n"
   ]
  },
  {
   "cell_type": "markdown",
   "id": "562c7520",
   "metadata": {
    "slideshow": {
     "slide_type": "slide"
    }
   },
   "source": [
    "Suppose we want to solve our equation for $0 \\leq x \\leq a$ and $0 \\leq t \\leq b$ \n",
    "with the initial condition $T(x,0) = f(x)$ for $0 \\leq x \\leq a$ \n",
    "and boundary conditions $T(0,t)=c_1$, $T(a,t)=c_2$ for $0 \\leq t \\leq b$.  \n",
    "\n",
    "<table><tr><td align=\"center\">\n",
    "  <img src=\"./img/pdes_fig7.jpg\" alt=\"fig1\" width=\"250\">\n",
    "</td></tr></table>\n",
    "\n",
    "\n",
    "Dividing the rectangle $R = \\{(x,t): 0 \\leq x \\leq a, \\, 0 \\leq t \\leq b\\}$ \n",
    "into a grid with spacing $\\Delta x$ and $\\Delta t$, \n",
    "the equation above can be written more compactly as\n",
    "\n",
    "\\begin{equation}\n",
    "T_{i,j+1} = T_{i,j} + r\\left( T_{i+1,j} + T_{i-1,j} - 2T_{i,j} \\right).\n",
    "\\end{equation}\n",
    "\n",
    "For the differencial equation to provide a stable solution, it is necessary that\n",
    "$$\n",
    "0 \\leq r \\leq \\frac{1}{2},\n",
    "$$\n",
    "\n",
    "which means\n",
    "\n",
    "\\begin{equation}\n",
    "\\Delta t \\leq \\frac{(\\Delta x)^2}{2 c^2}.\n",
    "\\end{equation}\n",
    "\n",
    "This is known as **CFL (Courant–Friedrichs–Lewy)** stability condition\n",
    "\n",
    "\n"
   ]
  },
  {
   "cell_type": "markdown",
   "id": "a0b54a2c-1aaa-4b50-af27-543383c6ec97",
   "metadata": {
    "slideshow": {
     "slide_type": "slide"
    },
    "tags": []
   },
   "source": [
    "### Show where CLF condition comes from:\n",
    "\n",
    "#### 1) Start from the FTCS update\n",
    "\n",
    "For the 1-D heat equation the FTCS update is\n",
    "\n",
    "$T_i^{\\,n+1} = T_i^{\\,n} + r\\big(T_{i+1}^{\\,n} - 2T_i^{\\,n} + T_{i-1}^{\\,n}\\big), \\qquad r=\\alpha \\frac{\\Delta t}{\\Delta x^2}.$\n",
    "\n",
    "(for simplicity: $T_i^n \\equiv T_{i,j}$.)\n"
   ]
  },
  {
   "cell_type": "markdown",
   "id": "b4969ec5-c7b9-438b-86a3-b67c86c6785e",
   "metadata": {
    "slideshow": {
     "slide_type": "slide"
    },
    "tags": []
   },
   "source": [
    "#### 2) Insert a single Fourier (harmonic) mode\n",
    "\n",
    "We assume a solution component of the form\n",
    "\n",
    "$T_i^n = \\xi^n e^{i k x_i}, \\qquad x_i = i\\Delta x,$\n",
    "\n",
    "where $k$ is a wavenumber and $\\xi$ is the *mode amplitude per time step*. The factor $\\xi$ is the *amplification factor* for one time step (often denoted $G$). Plugging into the scheme:\n",
    "\n",
    "Left side:\n",
    "\n",
    "$T_i^{\\,n+1} = \\xi^{\\,n+1} e^{i k x_i}.$\n",
    "\n",
    "Right side (use $x_{i\\pm1}=x_i \\pm \\Delta x$):\n",
    "\n",
    "$T_i^n + r\\big(T_{i+1}^n -2T_i^n + T_{i-1}^n\\big) = \\xi^n e^{i k x_i}\\Big[\\,1 + r\\big(e^{i k \\Delta x}+e^{-i k \\Delta x}-2\\big)\\Big].$\n",
    "\n",
    "Divide both sides by $\\xi^n e^{i k x_i}$ to get the amplification factor $G$:\n",
    "\n",
    "$G \\equiv \\frac{\\xi^{\\,n+1}}{\\xi^n} = 1 + r\\big(e^{i k \\Delta x}+e^{-i k \\Delta x}-2\\big).$"
   ]
  },
  {
   "cell_type": "markdown",
   "id": "eaed5f94-d35b-4f8b-a3dd-c02631a88858",
   "metadata": {
    "slideshow": {
     "slide_type": "slide"
    },
    "tags": []
   },
   "source": [
    "\n",
    "#### 3) Simplify using trig identities\n",
    "\n",
    "Use $e^{i\\theta}+e^{-i\\theta}=2\\cos\\theta$:\n",
    "\n",
    "$G = 1 + r\\big(2\\cos(k\\Delta x) - 2\\big) = 1 - 2r\\big(1 - \\cos(k\\Delta x)\\big).$\n",
    "\n",
    "Use the identity $1-\\cos\\theta = 2\\sin^2(\\theta/2)$:\n",
    "\n",
    "$\\;\\; G = 1 - 4r\\,\\sin^2\\!\\big(\\tfrac{k\\Delta x}{2}\\big).$\n",
    "\n",
    "So $G$ is **real** and depends on $k\\Delta x$ through $\\sin^2$."
   ]
  },
  {
   "cell_type": "markdown",
   "id": "ad821ae6-3d4a-4e85-b9f2-16de2b60f00b",
   "metadata": {
    "slideshow": {
     "slide_type": "slide"
    },
    "tags": []
   },
   "source": [
    "#### 4) Stability requirement\n",
    "\n",
    "A Fourier mode is stable under the time-stepping iff its amplitude does not grow:\n",
    "\n",
    "$|G| \\le 1 \\quad \\text{for every admissible }k.$\n",
    "\n",
    "From the expression for $G$ we note:\n",
    "\n",
    "* $\\sin^2(\\tfrac{k\\Delta x}{2})$ ranges between $0$ and $1$.\n",
    "* Therefore $G$ ranges between  \n",
    "  $G_{\\max} = 1$ (when $\\sin^2=0$),  \n",
    "  $G_{\\min} = 1 - 4r$ (when $\\sin^2=1$).\n",
    "\n",
    "So the interval of possible $G$ values is $[\\,1-4r,\\; 1\\,]$.\n",
    "\n",
    "For stability we need the whole interval to lie inside $[-1,1]$.  \n",
    "The only potentially dangerous end is the minimum $1-4r$. Require\n",
    "\n",
    "$1-4r \\ge -1 \\;\\;\\Longrightarrow\\;\\; -4r \\ge -2 \\;\\;\\Longrightarrow\\;\\; r \\le \\tfrac12.$\n",
    "\n",
    "Also physically we take $r \\ge 0$ (positive diffusivity and forward time step), so the stability condition becomes\n",
    "\n",
    "$\\;0 \\le r \\le \\tfrac12.$"
   ]
  },
  {
   "cell_type": "markdown",
   "id": "4da1400e-2b46-4264-9a50-ebac3e28acf5",
   "metadata": {
    "slideshow": {
     "slide_type": "slide"
    },
    "tags": []
   },
   "source": [
    "#### 5) What happens at equality / when $r>\\tfrac12$\n",
    "\n",
    "* If $r=\\tfrac12$, then  \n",
    "\n",
    "  $G = 1 - 4\\cdot\\tfrac12\\sin^2\\theta = 1 - 2\\sin^2\\theta = \\cos(2\\theta), \\quad\\text{with }\\theta=\\tfrac{k\\Delta x}{2}.$  \n",
    "\n",
    "  So $G=\\cos(2\\theta)$ and $|G|\\le 1$ for all modes — marginal stability (no amplification, but some modes can oscillate in sign).\n",
    "\n",
    "* If $r>\\tfrac12$, then $1-4r < -1$. That means there exist wavenumbers (those with $\\sin^2=1$) for which $|G|>1$.  \n",
    "  Those Fourier components **grow exponentially** in time and the numerical solution blows up (diverges).\n"
   ]
  },
  {
   "cell_type": "markdown",
   "id": "b15783c4",
   "metadata": {
    "slideshow": {
     "slide_type": "slide"
    },
    "tags": []
   },
   "source": [
    "## Crank-Nicolson\n",
    "\n",
    "Crank–Nicolson is an **implicit, second–order accurate** method that averages the explicit (FTCS) and fully implicit schemes.  \n",
    "It is **unconditionally stable**, requiring a tridiagonal solve each step but yielding higher accuracy without a CFL restriction.\n",
    "It works as trapezoidal rule in time (average between $n$ and $n+1$). For interior grid point $i$:\n",
    "\n",
    "$$\n",
    "\\frac{T_i^{n+1}-T_i^n}{\\Delta t} = \\frac{c^2}{2\\Delta x^2}\\Big[(T_{i+1}^n - 2T_i^n + T_{i-1}^n) + (T_{i+1}^{n+1} - 2T_i^{n+1} + T_{i-1}^{n+1})\\Big].\n",
    "$$  "
   ]
  },
  {
   "cell_type": "markdown",
   "id": "eef7d145",
   "metadata": {
    "slideshow": {
     "slide_type": "slide"
    },
    "tags": []
   },
   "source": [
    "## Worked examples \n",
    "\n",
    "\n",
    "**Example A:**  Implement the FCTS scheme for heat conduction in a short insulated rod of length \\(L=0.5\\) m.  \n",
    "Use a coarse spatial grid ($\\Delta x$ relatively large) and a small time step $\\Delta t$ to ensure stability.  \n",
    " \n",
    "   - Choose $\\Delta t$ such that the stability parameter  \n",
    "     $$\n",
    "     r = \\frac{c^2 \\Delta t}{\\Delta x^2} \\leq \\tfrac{1}{2}.\n",
    "     $$  \n",
    "   Start with an initial temperature of 100°C inside the rod, with boundaries kept at 0°C.  \n",
    "   Plot the temperature profile at several times (e.g., \\(t=0\\), an intermediate time, and final time).  \n",
    "   \n",
    "   - Unstable run. Increase $\\Delta t$ so that $r > \\tfrac{1}{2}$, repeat the simulation and plot the results. \n",
    "   "
   ]
  },
  {
   "cell_type": "code",
   "execution_count": 9,
   "id": "02b50ba5",
   "metadata": {
    "slideshow": {
     "slide_type": "slide"
    },
    "tags": []
   },
   "outputs": [],
   "source": [
    "import numpy as np\n",
    "import matplotlib.pyplot as plt\n",
    "\n",
    "def ftcs_demo(L=0.5, nx=11, c2=0.049, dt=0.02, tau=0.2):\n",
    "    dx = L/(nx-1)\n",
    "    x = np.linspace(0, L, nx)\n",
    "    Nt = int(tau/dt) + 1\n",
    "\n",
    "    # Temperature array: time vs space\n",
    "    T = np.zeros((Nt, nx))\n",
    "    T[0, :] = 100.0           # initial condition\n",
    "    T[:, 0] = 0               # left boundary\n",
    "    T[:, -1] = 0              # right boundary\n",
    "\n",
    "    r = c2*dt/(dx*dx)\n",
    "    print(f'r = {r:.3f}')\n",
    "\n",
    "    # Time stepping\n",
    "    for n in range(Nt-1):\n",
    "        T[n+1, 1:-1] = T[n, 1:-1] + r * (T[n, 2:] + T[n, :-2] - 2*T[n, 1:-1])\n",
    "    return x, T\n",
    "\n"
   ]
  },
  {
   "cell_type": "code",
   "execution_count": 10,
   "id": "35984d7a",
   "metadata": {
    "slideshow": {
     "slide_type": "slide"
    }
   },
   "outputs": [
    {
     "name": "stdout",
     "output_type": "stream",
     "text": [
      "r = 0.392\n"
     ]
    },
    {
     "data": {
      "image/png": "[encoded data removed]",
      "text/plain": [
       "<Figure size 432x288 with 1 Axes>"
      ]
     },
     "metadata": {
      "needs_background": "light"
     },
     "output_type": "display_data"
    },
    {
     "name": "stdout",
     "output_type": "stream",
     "text": [
      "r = 9.800\n"
     ]
    },
    {
     "data": {
      "image/png": "[encoded data removed]",
      "text/plain": [
       "<Figure size 432x288 with 1 Axes>"
      ]
     },
     "metadata": {
      "needs_background": "light"
     },
     "output_type": "display_data"
    }
   ],
   "source": [
    "# Stable run\n",
    "x, Tstable = ftcs_demo(nx=11, dt=0.02, tau=0.2)\n",
    "plt.figure(figsize=(6,4))\n",
    "plt.plot(x, Tstable[0, :], label='t=0')\n",
    "plt.plot(x, Tstable[int(0.1/0.02), :], label='t=0.1')\n",
    "plt.plot(x, Tstable[-1, :], label='t=end')\n",
    "plt.xlabel('Position x (m)')\n",
    "plt.ylabel('Temperature (°C)')\n",
    "plt.title('FTCS stable run (r ≤ 0.5)')\n",
    "plt.legend()\n",
    "plt.grid(True)\n",
    "plt.show()\n",
    "\n",
    "# Unstable run\n",
    "x, Tunstable = ftcs_demo(nx=11, dt=0.5, tau=1.0)  # very large dt -> r >> 1/2\n",
    "plt.figure(figsize=(6,4))\n",
    "plt.plot(x, Tunstable[0, :], label='t=0')\n",
    "plt.plot(x, Tunstable[1, :], label='t=dt')\n",
    "plt.xlabel('Position x (m)')\n",
    "plt.ylabel('Temperature (°C)')\n",
    "plt.title('FTCS unstable demonstration (r > 0.5)')\n",
    "plt.yscale('symlog')  # symmetric log to show blow-up clearly\n",
    "plt.legend()\n",
    "plt.grid(True)\n",
    "plt.show()\n"
   ]
  },
  {
   "cell_type": "markdown",
   "id": "54348145",
   "metadata": {
    "slideshow": {
     "slide_type": "slide"
    }
   },
   "source": [
    "**Example B (for you to do):** Study heat diffusion with a mixed boundary condition.\n",
    "Consider the same one-dimensional insulated rod, but now the left end of the rod is held at $T=0$ and \n",
    "the right end of the rod is insulated, so there is **no heat flow** through it.  \n",
    "  Mathematically, this means  \n",
    "\n",
    "  $$\n",
    "  \\frac{\\partial T}{\\partial x}\\bigg|_{x=L} = 0.\n",
    "  $$\n",
    " \n",
    "Implement the FTCS method for this system. Compare temperature profiles for stable and unstable time steps.  \n",
    "Observe how the insulated boundary condition affects the shape of the solution compared to the fully fixed case.\n",
    "\n",
    "Hints:\n",
    "- For the insulated end, you can use a simple approximation  \n",
    "  $$\n",
    "  T_{N} = T_{N-1},\n",
    "  $$\n",
    "  which enforces that the temperature at the last grid point is equal to its neighbor (zero slope).\n",
    "- Test both stable and unstable time steps to confirm the stability condition $r \\leq 1/2$.\n"
   ]
  },
  {
   "cell_type": "markdown",
   "id": "981bf65f",
   "metadata": {
    "slideshow": {
     "slide_type": "slide"
    },
    "tags": []
   },
   "source": [
    "## Hyperbolic PDEs — wave equation\n",
    "\n",
    "**What they model:** waves/vibrations; solutions propagate with finite speed.\n",
    "\n",
    "**Key property:** preserve oscillations and wavefronts; numerical schemes require stability (Courant condition).\n"
   ]
  },
  {
   "cell_type": "markdown",
   "id": "a3cf39ce",
   "metadata": {
    "slideshow": {
     "slide_type": "slide"
    },
    "tags": []
   },
   "source": [
    "We analyze the one-dimensional model of a vibrating string.  \n",
    "The figure shows the diagram of a vibrating elastic string, oriented along the $x$-axis, with its ends fixed.\n",
    "\n",
    "<table><tr><td align=\"center\">\n",
    "  <img src=\"./img/pdes_fig8.jpg\" alt=\"fig1\" width=\"650\">\n",
    "</td></tr></table>\n",
    "\n",
    "\n",
    "The displacement of a point $x$ at time $t$, $y(x,t)$, satisfies the wave equation, which in this case can be written as\n",
    "\n",
    "$$\n",
    "\\frac{\\partial^2 y(x,t)}{\\partial t^2} = c^2 \\frac{\\partial^2 y(x,t)}{\\partial x^2}\n",
    "$$\n",
    "\n",
    "where\n",
    "\n",
    "$$\n",
    "c^2 = \\frac{\\tau}{\\rho},\n",
    "$$\n",
    "\n",
    "with $\\tau$ the string tension and $\\rho$ its linear density."
   ]
  },
  {
   "cell_type": "markdown",
   "id": "ed977bac",
   "metadata": {
    "slideshow": {
     "slide_type": "slide"
    },
    "tags": []
   },
   "source": [
    "Expressing the wave equation in finite differences, we obtain at point $(x_i,t_j)$:\n",
    "\n",
    "$$\n",
    "\\frac{y(x_i,t_j+\\Delta t) - 2y(x_i,t_j) + y(x_i,t_j-\\Delta t)}{(\\Delta t)^2}\n",
    "= c^2 \\frac{y(x_i+\\Delta x,t_j) - 2y(x_i,t_j) + y(x_i-\\Delta x,t_j)}{(\\Delta x)^2}\n",
    "$$\n",
    "\n",
    "If we introduce the variable $r$ defined by\n",
    "\n",
    "$$\n",
    "r = \\frac{c \\Delta t}{\\Delta x}\n",
    "$$\n",
    "\n",
    "we arrive at\n",
    "\n",
    "$$\n",
    "y(x_i,t_j+\\Delta t) = 2y(x_i,t_j) - y(x_i,t_j-\\Delta t) + r^2 \\left[ y(x_i+\\Delta x,t_j) - 2y(x_i,t_j) + y(x_i-\\Delta x,t_j) \\right]\n",
    "$$"
   ]
  },
  {
   "cell_type": "markdown",
   "id": "ca27d7ca",
   "metadata": {
    "slideshow": {
     "slide_type": "slide"
    },
    "tags": []
   },
   "source": [
    "We want to solve the wave equation for $0 \\leq x \\leq a$ and $0 \\leq t \\leq b$ with the following initial and boundary conditions:\n",
    "\n",
    "$$\n",
    "y(0,t) = y(a,t) = 0 \\quad (0 \\leq t \\leq b),\n",
    "$$\n",
    "\n",
    "$$\n",
    "y(x,0) = f(x) \\quad (0 \\leq x \\leq a),\n",
    "$$\n",
    "\n",
    "$$\n",
    "\\frac{\\partial y(x,0)}{\\partial t} = g(x) \\quad (0 \\leq x \\leq a).\n",
    "$$\n",
    "\n",
    "We divide the rectangle  \n",
    "\n",
    "$$\n",
    "R = \\{(x,t) : 0 \\leq x \\leq a, \\, 0 \\leq t \\leq b\\}\n",
    "$$\n",
    "\n",
    "into a grid with spacing $\\Delta x$ and $\\Delta t$ as shown in the figure.  \n",
    "\n",
    "<table><tr><td align=\"center\">\n",
    "  <img src=\"./img/pdes_fig9.jpg\" alt=\"fig1\" width=\"500\">\n",
    "</td></tr></table>\n"
   ]
  },
  {
   "cell_type": "markdown",
   "id": "203aad10",
   "metadata": {
    "slideshow": {
     "slide_type": "slide"
    },
    "tags": []
   },
   "source": [
    "The equation can then be written in a more compact form:\n",
    "\n",
    "$$\n",
    "y_{i,j+1} = 2y_{i,j} - y_{i,j-1} + r^2 \\left( y_{i+1,j} + y_{i-1,j} - 2y_{i,j} \\right)\n",
    "$$\n",
    "\n",
    "\n",
    "\n",
    "The application of this equation implies that to compute the values at the nodes of row $j+1$, \n",
    "we need information from rows $j$ and $j-1$.  \n",
    "That is, initially, to calculate the values in the third row of nodes, we must know the values in the first and second rows.  \n",
    "\n",
    "The values in the first row are given by $y(x,0)=f(x)$.  \n",
    "However, the values of the second row are generally not known, so we use the condition\n",
    "\n",
    "$$\n",
    "\\frac{\\partial y(x,0)}{\\partial t} = g(x)\n",
    "$$\n",
    "\n",
    "to obtain approximations for these second-row nodes."
   ]
  },
  {
   "cell_type": "markdown",
   "id": "48e6221e",
   "metadata": {
    "slideshow": {
     "slide_type": "slide"
    },
    "tags": []
   },
   "source": [
    "Applying the first-order Taylor expansion of $y(x,t)$ around $(x_i,0)$, we find for the second row:\n",
    "\n",
    "$$\n",
    "y_{i,1} = f_i + \\Delta t \\, g_i\n",
    "$$\n",
    "\n",
    "If the function $f(x_i)$ is twice differentiable, we can use the second-order Taylor formula to obtain an improved approximation for the second row values:\n",
    "\n",
    "$$\n",
    "y_{i,1} = f_i + \\Delta t \\, g_i + \\frac{(\\Delta t)^2}{2}\\Big( \\frac{\\partial^2 y}{\\partial t^2}(x_i,0) \\Big).\n",
    "$$\n",
    "\n",
    "and from the PDE:\n",
    "\n",
    "$$\n",
    "\\frac{\\partial^2 y}{\\partial t^2} = c^2 \\frac{\\partial^2 y}{\\partial x^2}.\n",
    "$$\n",
    "\n",
    "At $t=0$:\n",
    "\n",
    "$$\n",
    "\\frac{\\partial^2 y}{\\partial t^2}(x_i,0) = c^2 \\frac{\\partial^2 f}{\\partial x^2}(x_i).\n",
    "$$\n",
    "\n",
    "and $\\frac{\\partial^2 f}{\\partial x^2}(x_i) \\approx \\frac{f_{i+1} - 2f_i + f_{i-1}}{(\\Delta x)^2}.$\n"
   ]
  },
  {
   "cell_type": "markdown",
   "id": "fd2993ae",
   "metadata": {
    "slideshow": {
     "slide_type": "slide"
    }
   },
   "source": [
    "So:\n",
    "\n",
    "$$\n",
    "\\frac{\\partial^2 y}{\\partial t^2}(x_i,0) \\approx c^2 \\,\\frac{f_{i+1} - 2f_i + f_{i-1}}{(\\Delta x)^2}.\n",
    "$$\n",
    "\n",
    "and \n",
    "\n",
    "$$\n",
    "y_{i,1} = f_i + \\Delta t \\, g_i + \\frac{(\\Delta t)^2}{2} \\, c^2 \\frac{f_{i+1} - 2f_i + f_{i-1}}{(\\Delta x)^2}.\n",
    "$$\n",
    "\n",
    "Introducing the Courant number ($r = \\frac{c \\Delta t}{\\Delta x}$), then:\n",
    "\n",
    "$$\n",
    "y_{i,1} = f_i + \\Delta t \\, g_i + \\frac{r^2}{2}\\big(f_{i+1} + f_{i-1} - 2f_i\\big).\n",
    "$$\n",
    "\n",
    "\n",
    "Finally, for the finite difference equation to provide a stable solution, the calculation process must be stable, which requires. This is called the *Courant stability condition*.\n",
    "\n",
    "$$\n",
    "r = \\frac{c \\Delta t}{\\Delta x} \\leq 1\n",
    "$$\n",
    "\n"
   ]
  },
  {
   "cell_type": "markdown",
   "id": "e98a6219-8d2a-4f4c-b5e5-831d4c0c5b7c",
   "metadata": {
    "slideshow": {
     "slide_type": "slide"
    },
    "tags": []
   },
   "source": [
    "## Worked examples \n",
    "\n",
    "**Example A**: Consider the 1D wave equation of a vibrating string for $0 \\leq x \\leq 2$ and $0 \\leq t \\leq 1$, with wave speed $c = 1.5$ m/s.  \n",
    "The string is fixed at both ends, so\n",
    "\n",
    "$$\n",
    "y(0,t) = y(2,t) = 0 \\quad \\text{for } 0 \\leq t \\leq 1.\n",
    "$$\n",
    "\n",
    "The initial displacement and velocity are given by:\n",
    "\n",
    "$$\n",
    "y(x,0) = f(x) = \\sin\\left(\\frac{\\pi x}{2}\\right), \\quad\n",
    "\\frac{\\partial y(x,0)}{\\partial t} = g(x) = \\sin(\\pi x).\n",
    "$$\n",
    "\n",
    "Use spatial step $\\Delta x = 0.05$ m and time step $\\Delta t = 0.02$ s.\n",
    "\n",
    "Check the Courant stability condition (compute $r = c \\, \\Delta t / \\Delta x$ and verify $r \\le 1$). Initialize the solution using the Taylor expansion for the second row. Compute the solution up to $t = 1$ and plot $y(x,t)$ at times $t=0, 0.25, 0.5, 0.75, 1.0$.\n",
    "Repeat the experiment with a larger time step so that the stability condition is violated (for example increase $\\Delta t$ until $r > 1$). Plot the same snapshots and compare with the stable case.\n",
    "\n"
   ]
  },
  {
   "cell_type": "code",
   "execution_count": 11,
   "id": "af29029f",
   "metadata": {
    "slideshow": {
     "slide_type": "slide"
    },
    "tags": []
   },
   "outputs": [],
   "source": [
    "# Wave equation finite-difference: stable vs unstable comparison\n",
    "import numpy as np\n",
    "import matplotlib.pyplot as plt\n",
    "\n",
    "def run_wave(L, dx, dt, c, t_final, f_func, g_func):\n",
    "    \"\"\"\n",
    "    Explicit finite-difference solver for 1D wave eq:\n",
    "      y_tt = c^2 y_xx\n",
    "    Returns dict of snapshots at requested times and final arrays.\n",
    "    \"\"\"\n",
    "    r = c * dt / dx\n",
    "    Nx = int(round(L / dx))\n",
    "    nodes = Nx + 1\n",
    "    x = np.linspace(0, L, nodes)\n",
    "    nt = int(round(t_final / dt))\n",
    "    # initial conditions\n",
    "    f = f_func(x)\n",
    "    g = g_func(x)\n",
    "    y_prev = f.copy()            # j = 0\n",
    "    y_curr = np.zeros_like(x)    # j = 1\n",
    "    # initialize second row (improved, second-order)\n",
    "    ## this is the crucial line\n",
    "    for i in range(1, nodes-1):\n",
    "        y_curr[i] = f[i] + dt * g[i] + 0.5 * (r**2) * (f[i+1] + f[i-1] - 2*f[i])\n",
    "    y_curr[0] = 0.0\n",
    "    y_curr[-1] = 0.0\n",
    "    ##\n",
    "    \n",
    "    # snapshots at these times (seconds)\n",
    "    snapshot_times = [0.0, 0.25, 0.5, 0.75, 1.0]\n",
    "    snapshot_steps = [int(round(t / dt)) for t in snapshot_times]\n",
    "\n",
    "    snapshots = {0.0: y_prev.copy()}\n",
    "    # time marching\n",
    "    for j in range(1, nt+1):\n",
    "        y_next = np.zeros_like(x)\n",
    "        for i in range(1, nodes-1):\n",
    "            y_next[i] = 2*y_curr[i] - y_prev[i] + (r**2) * (y_curr[i+1] + y_curr[i-1] - 2*y_curr[i])\n",
    "        y_next[0] = 0.0\n",
    "        y_next[-1] = 0.0\n",
    "        # advance\n",
    "        y_prev, y_curr = y_curr, y_next\n",
    "        if j in snapshot_steps:\n",
    "            snapshots[round(j*dt, 6)] = y_curr.copy()\n",
    "    return {\n",
    "        \"x\": x,\n",
    "        \"snapshots\": snapshots,\n",
    "        \"r\": r,\n",
    "        \"dt\": dt,\n",
    "        \"dx\": dx,\n",
    "        \"t_final\": t_final\n",
    "    }\n"
   ]
  },
  {
   "cell_type": "code",
   "execution_count": 12,
   "id": "60784bfb-4220-4102-ab6a-b84282cb9686",
   "metadata": {
    "slideshow": {
     "slide_type": "slide"
    },
    "tags": []
   },
   "outputs": [
    {
     "name": "stdout",
     "output_type": "stream",
     "text": [
      "Stable run: dx= 0.05 dt= 0.02 r= 0.6\n",
      "Unstable run: dx= 0.05 dt= 0.05 r= 1.5000000000000002\n"
     ]
    },
    {
     "data": {
      "image/png": "[encoded data removed]",
      "text/plain": [
       "<Figure size 864x576 with 5 Axes>"
      ]
     },
     "metadata": {
      "needs_background": "light"
     },
     "output_type": "display_data"
    }
   ],
   "source": [
    "# Problem definition\n",
    "L = 2.0\n",
    "dx = 0.05\n",
    "dt_stable = 0.02    # stable run\n",
    "dt_unstable = 0.05  # intentionally unstable (r > 1)\n",
    "c = 1.5\n",
    "t_final = 1.0\n",
    "\n",
    "## define the functions that appear as boundary conditions\n",
    "f_func = lambda x: np.sin(np.pi * x / 2)\n",
    "g_func = lambda x: np.sin(np.pi * x)\n",
    "\n",
    "# Run stable\n",
    "result_stable = run_wave(L, dx, dt_stable, c, t_final, f_func, g_func)\n",
    "print(\"Stable run: dx=\", dx, \"dt=\", dt_stable, \"r=\", result_stable[\"r\"])\n",
    "\n",
    "# Run unstable\n",
    "result_unstable = run_wave(L, dx, dt_unstable, c, t_final, f_func, g_func)\n",
    "print(\"Unstable run: dx=\", dx, \"dt=\", dt_unstable, \"r=\", result_unstable[\"r\"])\n",
    "\n",
    "# Plotting: stable vs unstable snapshots side-by-side\n",
    "times = sorted(result_stable[\"snapshots\"].keys())  # should be [0,0.25,0.5,0.75,1.0]\n",
    "x = result_stable[\"x\"]\n",
    "\n",
    "plt.figure(figsize=(12, 8))\n",
    "for k, t in enumerate(times):\n",
    "    plt.subplot(3, 2, k+1)\n",
    "    y_s = result_stable[\"snapshots\"].get(t)\n",
    "    y_u = result_unstable[\"snapshots\"].get(t)\n",
    "    # stable\n",
    "    if y_s is not None:\n",
    "        plt.plot(x, y_s, label=f\"stable dt={dt_stable}, r={result_stable['r']:.3f}\")\n",
    "    # unstable (may blow up or be noisy)\n",
    "    if y_u is not None:\n",
    "        plt.plot(x, y_u, '--', label=f\"unstable dt={dt_unstable}, r={result_unstable['r']:.3f}\")\n",
    "    plt.title(f\"t = {t:.2f} s\")\n",
    "    plt.xlabel(\"x (m)\")\n",
    "    plt.ylabel(\"y (arb. units)\")\n",
    "    plt.grid(True)\n",
    "    plt.legend()\n",
    "# tidy layout\n",
    "plt.tight_layout()\n",
    "plt.show()"
   ]
  },
  {
   "cell_type": "markdown",
   "id": "a08e3195-71f6-47a9-a549-df222c0543aa",
   "metadata": {
    "slideshow": {
     "slide_type": ""
    },
    "tags": []
   },
   "source": [
    "**Example B (for you to do):** Solve the 1D wave equation on the domain $0 \\le x \\le 1$, $0 \\le t \\le 0.5$, with $c=1.0$ m/s and fixed ends\n",
    "\n",
    "$$\n",
    "y(0,t) = y(1,t) = 0 \\quad\\text{for } 0\\le t\\le 0.5.\n",
    "$$\n",
    "\n",
    "Initial conditions:\n",
    "\n",
    "- Localized displacement (Gaussian \"pluck\") centered at $x_0=0.5$:\n",
    "  $$\n",
    "  y(x,0) = f(x) = \\exp\\!\\Big( -\\frac{(x-x_0)^2}{2\\sigma^2}\\Big),\n",
    "  $$\n",
    "  with $\\sigma = 0.05$.\n",
    "\n",
    "- Small initial velocity:\n",
    "  $$\n",
    "  \\frac{\\partial y(x,0)}{\\partial t} = g(x) = 0.2\\sin(\\pi x).\n",
    "  $$\n",
    "\n",
    "Use $\\Delta x = 0.01$ and $\\Delta t = 0.005$.\n",
    "\n",
    "Compute the Courant number $r = c\\,\\Delta t / \\Delta x$ and verify stability. Initialize the solution (use the second-order Taylor formula to set the $j=1$ row). March the solution to $t=0.5$ and plot snapshots of $y(x,t)$ at $t=0, 0.125, 0.25, 0.375, 0.5$. Try a larger $\\Delta t$ (e.g. $\\Delta t=0.01$) and observe what happens.\n"
   ]
  },
  {
   "cell_type": "markdown",
   "id": "2417a6f2",
   "metadata": {
    "slideshow": {
     "slide_type": "slide"
    },
    "tags": []
   },
   "source": [
    "## Exercises (2)\n",
    "\n",
    "\n",
    "**Exercise 5.** A steel bar of length $L=0.5$ m is given with the following data:  \n",
    "$K=0.12 \\,\\mathrm{cal/(cm \\cdot s \\cdot ^\\circ C)}$, \n",
    "$c_e = 0.113 \\,\\mathrm{cal/(g \\cdot ^\\circ C)}$, \n",
    "$\\rho = 7.8 \\,\\mathrm{g/cm^3}$.  \n",
    "\n",
    "Compute the temperature distribution $T(x,t)$ for a time $\\tau = 1$ hour, \n",
    "starting from the initial condition $T(x,0) = 100^\\circ$C for $0 \\leq x \\leq L$, \n",
    "and boundary conditions $T(0,t)=T(L,t)=0$ for $0 < t \\leq \\tau$.  \n",
    "Use $\\Delta x = 5$ cm.\n",
    "\n",
    "$$\n",
    "c^2 = \\frac{0.12}{0.113 \\cdot 7.8} = 0.136 \\,\\mathrm{cm^2/s} = 0.049 \\,\\mathrm{m^2/h},\n",
    "$$\n",
    "\n",
    "$$\n",
    "\\Delta t \\leq \\frac{0.052}{2 \\cdot 0.049} = 0.0255 \\,h \\quad \\Rightarrow \\quad \\Delta t = 0.02 \\,h.\n",
    "$$\n",
    "\n",
    "As an extra, study the potential Crank-Nicolson implementation."
   ]
  },
  {
   "cell_type": "markdown",
   "id": "16843344",
   "metadata": {
    "slideshow": {
     "slide_type": "slide"
    },
    "tags": []
   },
   "source": [
    "**Exercise 6.** Solve the wave equation of a vibrating string in the range $0 \\leq x \\leq 1$ and $0 \\leq t \\leq 0.5$ for which $c = 2$ m/s, with the following conditions:\n",
    "\n",
    "$$\n",
    "y(0,t) = 0, \\quad y(1,t) = 0 \\quad (0 \\leq t \\leq 0.5),\n",
    "$$\n",
    "\n",
    "$$\n",
    "y(x,0) = f(x) = \\sin(\\pi x) + \\sin(2\\pi x) \\quad (0 \\leq x \\leq 1),\n",
    "$$\n",
    "\n",
    "$$\n",
    "\\frac{\\partial y(x,0)}{\\partial t} = g(x) = 0 \\quad (0 \\leq x \\leq 1),\n",
    "$$\n",
    "\n",
    "with $x$ in meters, $t$ in seconds, and $y$ in centimeters.\n",
    "\n",
    "Use $\\Delta x = 0.04$ m, $\\Delta t = 0.02$ s.\n",
    "\n",
    "Thus,\n",
    "\n",
    "$$\n",
    "r = \\frac{c \\Delta t}{\\Delta x} = \\frac{2 \\cdot 0.02}{0.04} = 1 \\leq 1\n",
    "$$\n",
    "\n",
    "The solution obtained should be presented graphically.\n",
    "\n",
    "**Exercise ++.** Try to demonstrate the *Courant stability condition*."
   ]
  }
 ],
 "metadata": {
  "celltoolbar": "Slideshow",
  "kernelspec": {
   "display_name": "Python 3",
   "language": "python",
   "name": "python3"
  },
  "language_info": {
   "codemirror_mode": {
    "name": "ipython",
    "version": 3
   },
   "file_extension": ".py",
   "mimetype": "text/x-python",
   "name": "python",
   "nbconvert_exporter": "python",
   "pygments_lexer": "ipython3",
   "version": "3.7.16"
  }
 },
 "nbformat": 4,
 "nbformat_minor": 5
}
