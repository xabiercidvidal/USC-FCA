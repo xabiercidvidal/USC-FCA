{
 "cells": [
  {
   "cell_type": "markdown",
   "metadata": {
    "slideshow": {
     "slide_type": "slide"
    }
   },
   "source": [
    "# Advanced Computational Physics \n",
    "\n",
    "\n",
    "## More about Python: Functions, Classes and Symbolic computing\n",
    "### About\n",
    "\n",
    "\n",
    "#### *X. Cid Vidal, J.A. Hernando Morata*, in collaboration wtih *G. Martínez-Lema*, *M. Kekic*.\n",
    "####  USC, October 2024 "
   ]
  },
  {
   "cell_type": "code",
   "execution_count": 2,
   "metadata": {
    "slideshow": {
     "slide_type": "fragment"
    }
   },
   "outputs": [
    {
     "name": "stdout",
     "output_type": "stream",
     "text": [
      "Last revision  Tue Oct 24 16:52:48 2023\n"
     ]
    }
   ],
   "source": [
    "import time\n",
    "print('Last revision ', time.asctime())"
   ]
  },
  {
   "cell_type": "markdown",
   "metadata": {
    "slideshow": {
     "slide_type": "slide"
    }
   },
   "source": [
    "### What you must know\n",
    "\n",
    "\n",
    "* The basic of Python code. [Python](https://www.python.org)\n",
    "\n",
    "\n",
    "* Editing an executing a Python module.\n",
    "\n",
    "    * Some editors: [atom](https://atom.io), [spyder](https://www.spyder-ide.org) or [emacs](https://www.gnu.org/software/emacs/).\n",
    "\n",
    "\n",
    "* Work in Anacoda environment. [Anaconda](https://www.anaconda.com)\n",
    "\n",
    "\n",
    "* Know about [Jupyter Notebooks](https:jupyter.org)\n",
    "\n",
    "\n",
    "* Preferable to know [numpy](http://www.numpy.org ), [pandas](http://pandas.pydata.org) and [matplotlib](http://matplotlib.org) modules to do data analysis.\n",
    "\n",
    "\n",
    "* Prefereable some [Unix](https://es.wikipedia.org/wiki/Unix) knowledge.\n"
   ]
  },
  {
   "cell_type": "markdown",
   "metadata": {
    "slideshow": {
     "slide_type": "slide"
    }
   },
   "source": [
    "### Materials of this course\n",
    "\n",
    "* Materials are Jupyter Notebooks (NB).\n",
    "\n",
    "\n",
    "* The NBs are at this [GitHub](https://github.com) repository: [xabiercidvidal/USC-FCA/](https://github.com/xabiercidvidal/USC-FCA/tree/main)\n",
    "\n",
    "\n",
    "   * This is the [index](https://github.com/xabiercidvidal/USC-FCA/blob/main/index.ipynb) of the course.\n",
    "\n"
   ]
  },
  {
   "cell_type": "markdown",
   "metadata": {
    "slideshow": {
     "slide_type": "slide"
    }
   },
   "source": [
    "### You can get a local copy of the repository\n",
    "\n",
    "Either one of these:\n",
    "\n",
    "  * under *Code* tab in the [xabiercidvidal/USC-FCA/](https://github.com/xabiercidvidal/USC-FCA/) repository page, *download zip* it. And unzip it in your local area.\n",
    "    \n",
    "  * In a Unix console, clone the repository your local directory via the command:\n",
    "   \n",
    "          git clone https://github.com/xabiercidvidal/USC-FCA.git\n",
    "  \n",
    "\n",
    "   * If you have a GitHub account, *fork* the repository to your own GitHub area and then clone it to your local directory. \n",
    "  \n",
    "      "
   ]
  },
  {
   "cell_type": "markdown",
   "metadata": {
    "slideshow": {
     "slide_type": "slide"
    }
   },
   "source": [
    "### You can open locally the notebooks:\n",
    "\n",
    "   * via Anaconda, in Windows, look for the Jupyter icon:\n",
    "   <img src=\"https://upload.wikimedia.org/wikipedia/commons/thumb/3/38/Jupyter_logo.svg/1767px-Jupyter_logo.svg.png\" width=\"50\"/>\n",
    "   \n",
    "   * in the Unix console, in the directory where you cloned the repository, via the command:\n",
    "   \n",
    "          jupyter notebook &"
   ]
  },
  {
   "cell_type": "markdown",
   "metadata": {
    "slideshow": {
     "slide_type": "subslide"
    }
   },
   "source": [
    "### You can remotely execute the NBs\n",
    "\n",
    "  * if you have a Google account, open the NBs with [Google Colab](https://colab.research.google.com)\n",
    "      - for any github, simply replace in the web address github by githubtocolab. For instance\n",
    "      [https://githubtocolab.com/xabiercidvidal/USC-FCA/blob/main/setup.ipynb](https://githubtocolab.com/xabiercidvidal/USC-FCA/blob/main/setup.ipynb)\n",
    "      - or opening directly the GitHub [xabiercidvidal/USC-FCA](https://github.com/xabiercidvidal/USC-FCA) repository.\n",
    "   \n",
    "* use Binder: [![Binder](https://mybinder.org/badge_logo.svg)](https://mybinder.org/v2/gh/xabiercidvidal/USC-FCA/main)\n"
   ]
  },
  {
   "cell_type": "code",
   "execution_count": null,
   "metadata": {},
   "outputs": [],
   "source": []
  }
 ],
 "metadata": {
  "anaconda-cloud": {},
  "celltoolbar": "Slideshow",
  "kernelspec": {
   "display_name": "Python 3 (ipykernel)",
   "language": "python",
   "name": "python3"
  },
  "language_info": {
   "codemirror_mode": {
    "name": "ipython",
    "version": 3
   },
   "file_extension": ".py",
   "mimetype": "text/x-python",
   "name": "python",
   "nbconvert_exporter": "python",
   "pygments_lexer": "ipython3",
   "version": "3.12.7"
  }
 },
 "nbformat": 4,
 "nbformat_minor": 4
}
