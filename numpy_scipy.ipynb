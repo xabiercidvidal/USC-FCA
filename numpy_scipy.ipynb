{
 "cells": [
  {
   "cell_type": "markdown",
   "id": "7aa64cb6",
   "metadata": {
    "slideshow": {
     "slide_type": "slide"
    },
    "tags": []
   },
   "source": [
    "# Advanced Computational Physics \n",
    "\n",
    "\n",
    "## More about Python: Functions, Classes and Symbolic computing\n",
    "### Numeric and Scientific Computing with NumPy and SciPy\n",
    "\n",
    "\n",
    "#### *X. Cid Vidal*\n",
    "####  USC, October 2025 "
   ]
  },
  {
   "cell_type": "markdown",
   "id": "51da7c4d",
   "metadata": {
    "id": "51da7c4d",
    "slideshow": {
     "slide_type": "slide"
    },
    "tags": []
   },
   "source": [
    "In this lesson, we explore two of the pillars of scientific computing in Python: **NumPy** and **SciPy**.\n",
    "\n",
    "- **NumPy** provides fast and efficient operations on arrays and matrices.\n",
    "- **SciPy** builds on NumPy and offers advanced scientific tools such as optimization, interpolation, statistics, and more."
   ]
  },
  {
   "cell_type": "markdown",
   "id": "3af24e48",
   "metadata": {
    "id": "3af24e48",
    "slideshow": {
     "slide_type": "slide"
    },
    "tags": []
   },
   "source": [
    "**Structure:**\n",
    "\n",
    "- Numpy:\n",
    "  - Intro & NumPy idioms\n",
    "  - Array creation, slicing, broadcasting, indexing, memory\n",
    "- Scipy\n",
    "  - Linear algebra (dense and sparse)\n",
    "  - Interpolation and smoothing\n",
    "  - Optimization & function fitting (least-squares, curve_fit, covariance)"
   ]
  },
  {
   "cell_type": "markdown",
   "id": "p0JNAqK8P0Eg",
   "metadata": {
    "id": "p0JNAqK8P0Eg",
    "slideshow": {
     "slide_type": "slide"
    },
    "tags": []
   },
   "source": [
    "### Further Reading\n",
    "- [NumPy official tutorials](https://numpy.org/learn)\n",
    "- [SciPy documentation](https://docs.scipy.org/doc/scipy/)\n",
    "- [Python Data Science Handbook](https://jakevdp.github.io/PythonDataScienceHandbook/)"
   ]
  },
  {
   "cell_type": "code",
   "execution_count": 2,
   "id": "584190bd",
   "metadata": {
    "id": "584190bd",
    "slideshow": {
     "slide_type": "skip"
    },
    "tags": []
   },
   "outputs": [
    {
     "name": "stdout",
     "output_type": "stream",
     "text": [
      "NumPy 1.21.6\n",
      "SciPy 1.6.2\n"
     ]
    }
   ],
   "source": [
    "# Setup: imports and display settings\n",
    "import numpy as np\n",
    "import matplotlib.pyplot as plt\n",
    "from time import perf_counter\n",
    "import math\n",
    "\n",
    "import scipy\n",
    "import scipy.linalg as la\n",
    "import scipy.sparse as sps\n",
    "import scipy.sparse.linalg as spla\n",
    "import scipy.optimize as opt\n",
    "import scipy.interpolate as interp\n",
    "from scipy import stats\n",
    "\n",
    "\n",
    "%matplotlib inline\n",
    "\n",
    "print('NumPy', np.__version__)\n",
    "print('SciPy', scipy.__version__)\n"
   ]
  },
  {
   "cell_type": "markdown",
   "id": "d891f3ad",
   "metadata": {
    "id": "d891f3ad",
    "slideshow": {
     "slide_type": "slide"
    },
    "tags": []
   },
   "source": [
    "\n",
    "## What is Numpy?\n",
    "**NumPy** handles efficient array operations, broadcasting, and basic linear algebra.\n",
    "\n",
    "\n"
   ]
  },
  {
   "cell_type": "markdown",
   "id": "7b86f5ca",
   "metadata": {
    "id": "7b86f5ca",
    "slideshow": {
     "slide_type": "slide"
    },
    "tags": []
   },
   "source": [
    "### NumPy quick recap: arrays, dtype, shape, basic ops\n",
    "\n",
    "Examples below demonstrate common array creations and idioms."
   ]
  },
  {
   "cell_type": "code",
   "execution_count": 3,
   "id": "ed5e611b",
   "metadata": {
    "id": "ed5e611b",
    "slideshow": {
     "slide_type": "fragment"
    },
    "tags": []
   },
   "outputs": [
    {
     "name": "stdout",
     "output_type": "stream",
     "text": [
      "A:\n",
      " [[1. 2. 3.]\n",
      " [4. 5. 6.]]\n",
      "shape: (2, 3) dtype: float64\n",
      "v: [0 2 4 6 8]\n",
      "X shape, Y shape: (61, 101) (61, 101)\n"
     ]
    }
   ],
   "source": [
    "# Array creation and basic properties\n",
    "A = np.array([[1,2,3],[4,5,6]], dtype=float)\n",
    "print('A:\\n', A)\n",
    "print('shape:', A.shape, 'dtype:', A.dtype)\n",
    "\n",
    "v = np.arange(0,10,2)\n",
    "print('v:', v)\n",
    "\n",
    "# linspace and meshgrid for surfaces\n",
    "x = np.linspace(-2,2,101)\n",
    "y = np.linspace(-1,1,61)\n",
    "X, Y = np.meshgrid(x,y)\n",
    "print('X shape, Y shape:', X.shape, Y.shape)\n"
   ]
  },
  {
   "cell_type": "markdown",
   "id": "1ea8017e",
   "metadata": {
    "id": "1ea8017e",
    "slideshow": {
     "slide_type": "slide"
    },
    "tags": []
   },
   "source": [
    "\n",
    "## Indexing and Slicing in NumPy\n",
    "\n",
    "Indexing and slicing are central to NumPy’s efficiency and expressiveness. Mastering them will make your code faster and cleaner.\n",
    "\n",
    "### Basic Indexing\n",
    "```python\n",
    "a[i, j]\n",
    "```\n",
    "Accesses the element at row *i*, column *j*.\n",
    "\n",
    "### Slicing\n",
    "```python\n",
    "a[start:stop:step]\n",
    "```\n",
    "Allows you to select subarrays easily.\n"
   ]
  },
  {
   "cell_type": "code",
   "execution_count": 4,
   "id": "54523c08",
   "metadata": {
    "id": "54523c08",
    "slideshow": {
     "slide_type": "slide"
    },
    "tags": []
   },
   "outputs": [
    {
     "name": "stdout",
     "output_type": "stream",
     "text": [
      "Original array:\n",
      " [[ 1  2  3  4]\n",
      " [ 5  6  7  8]\n",
      " [ 9 10 11 12]]\n",
      "\n",
      "First two rows:\n",
      "[[1 2 3 4]\n",
      " [5 6 7 8]]\n",
      "\n",
      "Last two columns:\n",
      "[[ 3  4]\n",
      " [ 7  8]\n",
      " [11 12]]\n"
     ]
    }
   ],
   "source": [
    "\n",
    "a = np.arange(1, 13).reshape(3, 4)\n",
    "print(\"Original array:\\n\", a)\n",
    "\n",
    "print(\"\\nFirst two rows:\")\n",
    "print(a[:2, :])\n",
    "\n",
    "print(\"\\nLast two columns:\")\n",
    "print(a[:, -2:])\n"
   ]
  },
  {
   "cell_type": "markdown",
   "id": "ab2fb717",
   "metadata": {
    "id": "ab2fb717",
    "slideshow": {
     "slide_type": "slide"
    },
    "tags": []
   },
   "source": [
    "### Advanced indexing & boolean masks\n",
    "\n",
    "Use boolean masks or fancy indexing to select data."
   ]
  },
  {
   "cell_type": "code",
   "execution_count": 39,
   "id": "ec83b9e4",
   "metadata": {
    "id": "ec83b9e4",
    "slideshow": {
     "slide_type": "fragment"
    },
    "tags": []
   },
   "outputs": [
    {
     "name": "stdout",
     "output_type": "stream",
     "text": [
      "[ True False False  True False False  True False False  True False False\n",
      "  True False False  True False False  True False]\n",
      "mask sample: [ 0  3  6  9 12 15 18]\n",
      "selected: [0 3 5]\n"
     ]
    }
   ],
   "source": [
    "M = np.arange(20)\n",
    "mask = (M % 3 == 0)\n",
    "print(mask)\n",
    "print('mask sample:', M[mask])\n",
    "\n",
    "# Fancy indexing\n",
    "idx = [0,3,5]\n",
    "print('selected:', M[idx])\n"
   ]
  },
  {
   "cell_type": "markdown",
   "id": "359a1243",
   "metadata": {
    "id": "359a1243",
    "slideshow": {
     "slide_type": "slide"
    },
    "tags": []
   },
   "source": [
    "### `np.einsum` for flexible contractions\n",
    "\n",
    "`np.einsum` can express many linear algebra operations concisely and sometimes faster. `einsum = Einstein summation`\n"
   ]
  },
  {
   "cell_type": "code",
   "execution_count": 6,
   "id": "ba53bfa5",
   "metadata": {
    "id": "ba53bfa5",
    "slideshow": {
     "slide_type": "fragment"
    },
    "tags": []
   },
   "outputs": [
    {
     "name": "stdout",
     "output_type": "stream",
     "text": [
      "difference: 2.220446049250313e-16\n"
     ]
    }
   ],
   "source": [
    "rng = np.random.default_rng()\n",
    "A = rng.random((3,4))\n",
    "B = rng.random((4,5))\n",
    "# standard matrix multiply\n",
    "C1 = A.dot(B)\n",
    "# einsum equivalent: Sum over j of A[i, j] * B[j, k]\n",
    "C2 = np.einsum('ij,jk->ik', A, B)\n",
    "print('difference:', np.max(np.abs(C1-C2)))\n"
   ]
  },
  {
   "cell_type": "markdown",
   "id": "24fab519",
   "metadata": {
    "id": "24fab519",
    "slideshow": {
     "slide_type": "slide"
    },
    "tags": []
   },
   "source": [
    "\n",
    "### Views vs. Copies\n",
    "\n",
    "- **Slicing** returns a **view** (no data copied).\n",
    "- **Fancy indexing** or **boolean indexing** returns a **copy**.\n"
   ]
  },
  {
   "cell_type": "code",
   "execution_count": 7,
   "id": "f3ace0df",
   "metadata": {
    "id": "f3ace0df",
    "slideshow": {
     "slide_type": "fragment"
    },
    "tags": []
   },
   "outputs": [
    {
     "name": "stdout",
     "output_type": "stream",
     "text": [
      "Mask:\n",
      " [[False False False False]\n",
      " [False False  True  True]\n",
      " [ True  True  True  True]]\n",
      "\n",
      "Elements > 6: [ 7  8  9 10 11 12]\n"
     ]
    }
   ],
   "source": [
    "\n",
    "mask = a > 6\n",
    "print(\"Mask:\\n\", mask)\n",
    "print(\"\\nElements > 6:\", a[mask])\n"
   ]
  },
  {
   "cell_type": "markdown",
   "id": "gdynI5J7mBKH",
   "metadata": {
    "id": "gdynI5J7mBKH",
    "slideshow": {
     "slide_type": "slide"
    },
    "tags": []
   },
   "source": [
    "**Another example**: Slices of NumPy arrays are views (no copy) when possible. Use `.copy()` to force an independent array."
   ]
  },
  {
   "cell_type": "code",
   "execution_count": 8,
   "id": "79a68734",
   "metadata": {
    "id": "79a68734",
    "slideshow": {
     "slide_type": "fragment"
    },
    "tags": []
   },
   "outputs": [
    {
     "name": "stdout",
     "output_type": "stream",
     "text": [
      "Before modification, A:\n",
      " [[ 0  1  2  3]\n",
      " [ 4  5  6  7]\n",
      " [ 8  9 10 11]]\n",
      "After modifying view, A:\n",
      " [[  0 -99   2   3]\n",
      " [  4   5   6   7]\n",
      " [  8   9  10  11]]\n",
      "After modifying copy, A unchanged:\n",
      " [[  0 -99   2   3]\n",
      " [  4   5   6   7]\n",
      " [  8   9  10  11]]\n"
     ]
    }
   ],
   "source": [
    "A = np.arange(12).reshape(3,4)\n",
    "slice_view = A[:,1:3]\n",
    "print('Before modification, A:\\n', A)\n",
    "slice_view[0,0] = -99\n",
    "print('After modifying view, A:\\n', A)\n",
    "\n",
    "copy = A[:,1:3].copy()\n",
    "copy[0,0] = 999\n",
    "print('After modifying copy, A unchanged:\\n', A)\n"
   ]
  },
  {
   "cell_type": "markdown",
   "id": "ff9b132c",
   "metadata": {
    "id": "ff9b132c",
    "slideshow": {
     "slide_type": "slide"
    },
    "tags": []
   },
   "source": [
    "### Visualizing Slicing\n",
    "\n",
    "Here we use `imshow()` to visualize how a subarray corresponds to a region of a larger array.\n"
   ]
  },
  {
   "cell_type": "code",
   "execution_count": 9,
   "id": "b6844636",
   "metadata": {
    "id": "b6844636",
    "slideshow": {
     "slide_type": "slide"
    },
    "tags": []
   },
   "outputs": [
    {
     "data": {
      "image/png": "[encoded data removed]",
      "text/plain": [
       "<Figure size 432x288 with 1 Axes>"
      ]
     },
     "metadata": {
      "needs_background": "light"
     },
     "output_type": "display_data"
    },
    {
     "data": {
      "image/png": "[encoded data removed]",
      "text/plain": [
       "<Figure size 432x288 with 1 Axes>"
      ]
     },
     "metadata": {
      "needs_background": "light"
     },
     "output_type": "display_data"
    }
   ],
   "source": [
    "\n",
    "import matplotlib.pyplot as plt\n",
    "\n",
    "img = np.arange(100).reshape(10, 10)\n",
    "plt.imshow(img, cmap='viridis')\n",
    "plt.title(\"Original 10x10 array\")\n",
    "plt.show()\n",
    "\n",
    "sub = img[2:7, 3:8]\n",
    "plt.imshow(sub, cmap='viridis')\n",
    "plt.title(\"Sliced subarray [2:7, 3:8]\")\n",
    "plt.show()\n"
   ]
  },
  {
   "cell_type": "markdown",
   "id": "4cc026c1",
   "metadata": {
    "id": "4cc026c1",
    "slideshow": {
     "slide_type": "slide"
    },
    "tags": []
   },
   "source": [
    "\n",
    "## Broadcasting in NumPy\n",
    "\n",
    "One of NumPy’s most powerful features is **broadcasting** — the ability to apply arithmetic operations on arrays of different shapes without writing explicit loops.\n",
    "\n",
    "Two dimensions are **compatible** if:\n",
    "- They are equal, or\n",
    "- One of them is 1.\n",
    "\n",
    "When operating on two arrays, NumPy automatically expands them to a common shape where possible. Here, `a` has shape `(3,)` and `b` has shape `(3, 1)`. NumPy expands them both to `(3, 3)` for the operation.\n"
   ]
  },
  {
   "cell_type": "code",
   "execution_count": 10,
   "id": "5c507dc7",
   "metadata": {
    "id": "5c507dc7",
    "slideshow": {
     "slide_type": "fragment"
    },
    "tags": []
   },
   "outputs": [
    {
     "name": "stdout",
     "output_type": "stream",
     "text": [
      "Shape of a: (3,)\n",
      "Shape of b: (3, 1)\n",
      "\n",
      "Broadcasted result:\n",
      "[[11 12 13]\n",
      " [21 22 23]\n",
      " [31 32 33]]\n"
     ]
    }
   ],
   "source": [
    "import numpy as np\n",
    "\n",
    "a = np.array([1, 2, 3])\n",
    "b = np.array([[10], [20], [30]])\n",
    "\n",
    "print(\"Shape of a:\", a.shape)\n",
    "print(\"Shape of b:\", b.shape)\n",
    "print(\"\\nBroadcasted result:\")\n",
    "print(a + b)"
   ]
  },
  {
   "cell_type": "markdown",
   "id": "7b32b7f2",
   "metadata": {
    "id": "7b32b7f2",
    "slideshow": {
     "slide_type": "slide"
    },
    "tags": []
   },
   "source": [
    "**Another example**: add a 1D array to each row of a 2D array.\n"
   ]
  },
  {
   "cell_type": "code",
   "execution_count": 11,
   "id": "fb670281",
   "metadata": {
    "id": "fb670281",
    "slideshow": {
     "slide_type": "fragment"
    },
    "tags": []
   },
   "outputs": [
    {
     "name": "stdout",
     "output_type": "stream",
     "text": [
      "A + v =\n",
      "[[ 1. 11. 21.]\n",
      " [ 1. 11. 21.]\n",
      " [ 1. 11. 21.]\n",
      " [ 1. 11. 21.]]\n",
      "M:\n",
      " [[ 0  1  2  3]\n",
      " [ 4  5  6  7]\n",
      " [ 8  9 10 11]]\n",
      "col_mean: [4. 5. 6. 7.]\n",
      "M - col_mean (broadcasted):\n",
      " [[-4. -4. -4. -4.]\n",
      " [ 0.  0.  0.  0.]\n",
      " [ 4.  4.  4.  4.]]\n"
     ]
    }
   ],
   "source": [
    "A = np.ones((4,3))\n",
    "v = np.array([0,10,20])\n",
    "print('A + v =')\n",
    "print(A + v)\n",
    "\n",
    "# More subtle broadcasting\n",
    "M = np.arange(12).reshape(3,4)\n",
    "col_mean = M.mean(axis=0)\n",
    "print('M:\\n', M)\n",
    "print('col_mean:', col_mean)\n",
    "print('M - col_mean (broadcasted):\\n', M - col_mean)\n"
   ]
  },
  {
   "cell_type": "markdown",
   "id": "51d73e19",
   "metadata": {
    "id": "51d73e19",
    "slideshow": {
     "slide_type": "slide"
    },
    "tags": []
   },
   "source": [
    "### Vectorization vs Python loops\n",
    "\n",
    "Using vectorized NumPy operations is usually much faster than Python loops. We demonstrate this with a simple example.\n"
   ]
  },
  {
   "cell_type": "code",
   "execution_count": 12,
   "id": "1e7a30fd",
   "metadata": {
    "id": "1e7a30fd",
    "slideshow": {
     "slide_type": "fragment"
    },
    "tags": []
   },
   "outputs": [
    {
     "name": "stdout",
     "output_type": "stream",
     "text": [
      "vectorized np.sum: 0.0001 s, Python loop: 0.0173 s\n"
     ]
    }
   ],
   "source": [
    "def loop_sum(x):\n",
    "    # x is (N,d) array. compute sum over axis 1 via Python loop\n",
    "    N = x.shape[0]\n",
    "    out = np.empty(N)\n",
    "    for i in range(N):\n",
    "        s = 0.0\n",
    "        for j in range(x.shape[1]):\n",
    "            s += x[i,j]\n",
    "        out[i] = s\n",
    "    return out\n",
    "\n",
    "rng = np.random.default_rng(42)\n",
    "x = rng.random((2000,50))\n",
    "\n",
    "start = perf_counter(); _ = np.sum(x,axis=1); t_vec = perf_counter()-start\n",
    "start = perf_counter(); _ = loop_sum(x); t_loop = perf_counter()-start\n",
    "print(f'vectorized np.sum: {t_vec:.4f} s, Python loop: {t_loop:.4f} s')\n"
   ]
  },
  {
   "cell_type": "markdown",
   "id": "fc55717b",
   "metadata": {
    "id": "fc55717b",
    "slideshow": {
     "slide_type": "slide"
    },
    "tags": []
   },
   "source": [
    "### Mini-exercise: 2D Gaussian surface\n",
    "\n",
    "Create and visualize a 2D Gaussian on a grid. This tests meshgrid, broadcasting and basic plotting.\n"
   ]
  },
  {
   "cell_type": "code",
   "execution_count": 13,
   "id": "12c4e261",
   "metadata": {
    "id": "12c4e261",
    "slideshow": {
     "slide_type": "slide"
    },
    "tags": []
   },
   "outputs": [
    {
     "data": {
      "text/plain": [
       "Text(0, 0.5, 'y')"
      ]
     },
     "execution_count": 13,
     "metadata": {},
     "output_type": "execute_result"
    },
    {
     "data": {
      "image/png": "[encoded data removed]",
      "text/plain": [
       "<Figure size 432x216 with 2 Axes>"
      ]
     },
     "metadata": {
      "needs_background": "light"
     },
     "output_type": "display_data"
    }
   ],
   "source": [
    "# 2D Gaussian\n",
    "x = np.linspace(-3,3,151)\n",
    "y = np.linspace(-2,2,101)\n",
    "X,Y = np.meshgrid(x,y)\n",
    "\n",
    "def gaussian2d(x,y,x0=0,y0=0,sx=1.0,sy=1.0,rho=0.0):\n",
    "    Xc = x - x0\n",
    "    Yc = y - y0\n",
    "    Z = np.exp(-0.5*((Xc/sx)**2 + (Yc/sy)**2 - 2*rho*(Xc/sx)*(Yc/sy)))\n",
    "    return Z\n",
    "\n",
    "Z = gaussian2d(X,Y, x0=0.5, y0=-0.2, sx=0.8, sy=0.5)\n",
    "\n",
    "plt.figure(figsize=(6,3))\n",
    "plt.contourf(X, Y, Z, levels=30)\n",
    "plt.colorbar(label='amplitude')\n",
    "plt.title('2D Gaussian')\n",
    "plt.xlabel('x'); plt.ylabel('y')\n"
   ]
  },
  {
   "cell_type": "markdown",
   "id": "a47093da",
   "metadata": {
    "id": "a47093da",
    "slideshow": {
     "slide_type": "slide"
    },
    "tags": []
   },
   "source": [
    "\n",
    "## What is SciPy?\n",
    "\n",
    "**SciPy** (short for *Scientific Python*) extends NumPy by providing high-level scientific algorithms. It includes many specialized modules, such as:\n",
    "\n",
    "| Submodule | Description |\n",
    "|------------|--------------|\n",
    "| `scipy.linalg` | Advanced linear algebra (beyond NumPy’s `linalg`) |\n",
    "| `scipy.optimize` | Optimization and curve fitting |\n",
    "| `scipy.interpolate` | Interpolation and splines |\n",
    "| `scipy.stats` | Probability distributions and statistics |\n",
    "| `scipy.constants` | Physical constants |\n",
    "| `scipy.signal` | Signal processing and filtering |\n",
    "| `scipy.sparse` | Sparse matrices and solvers |\n",
    "| `scipy.fft` | Fast Fourier transforms |\n",
    "\n",
    "Let’s look at some simple examples from these modules.\n"
   ]
  },
  {
   "cell_type": "code",
   "execution_count": 14,
   "id": "aa5e8667",
   "metadata": {
    "id": "aa5e8667",
    "slideshow": {
     "slide_type": "slide"
    },
    "tags": []
   },
   "outputs": [
    {
     "name": "stdout",
     "output_type": "stream",
     "text": [
      "Speed of light (m/s): 299792458.0\n",
      "Avogadro's number: 6.02214076e+23\n",
      "Interpolated value at x=5.5: -0.7049859623693028\n",
      "Mean and std of sample: 0.027212102803808976 0.9957774434827026\n"
     ]
    }
   ],
   "source": [
    "\n",
    "from scipy import constants, stats, interpolate\n",
    "\n",
    "print(\"Speed of light (m/s):\", constants.c)\n",
    "print(\"Avogadro's number:\", constants.N_A)\n",
    "\n",
    "# Simple interpolation example\n",
    "x = np.linspace(0, 10, 10)\n",
    "y = np.sin(x)\n",
    "f_interp = interpolate.interp1d(x, y, kind='cubic')\n",
    "print(\"Interpolated value at x=5.5:\", f_interp(5.5))\n",
    "\n",
    "# Sampling from a normal distribution\n",
    "data = stats.norm.rvs(size=1000)\n",
    "print(\"Mean and std of sample:\", np.mean(data), np.std(data))\n"
   ]
  },
  {
   "cell_type": "markdown",
   "id": "774749e5",
   "metadata": {
    "id": "774749e5",
    "slideshow": {
     "slide_type": "slide"
    },
    "tags": []
   },
   "source": [
    "## Linear algebra with NumPy and SciPy\n",
    "\n",
    "Use SciPy to solve linear systems, compute eigenvalues, etc with specific specialized routines."
   ]
  },
  {
   "cell_type": "markdown",
   "id": "52d95461",
   "metadata": {
    "slideshow": {
     "slide_type": "fragment"
    }
   },
   "source": [
    "In numerical computations, matrices might be close to singular (non-invertible).\n",
    "Adding a small value to the diagonal — a trick called regularization or Tikhonov stabilization, to ensure one can safely solve the system. Ill-conditioned matrices amplify noise!"
   ]
  },
  {
   "cell_type": "code",
   "execution_count": 32,
   "id": "64d6e2a8",
   "metadata": {
    "id": "64d6e2a8",
    "slideshow": {
     "slide_type": "slide"
    },
    "tags": []
   },
   "outputs": [
    {
     "name": "stdout",
     "output_type": "stream",
     "text": [
      "np.linalg.solve: 0.0098 s, scipy.linalg.solve: 0.0123 s\n",
      "residual norm: 1.478061834033116e-11\n"
     ]
    }
   ],
   "source": [
    "# Solve Ax = b using numpy and scipy.\n",
    "# Note @ = np.dot() for 2D arrays (matrices).\n",
    "N = 200\n",
    "A = rng.normal(size=(N,N))\n",
    "# Tikhonov stabilization: make symmetric positive definite. \n",
    "A = A.T @ A + 1e-3*np.eye(N) ## np.eye adds a small multiple (1e-3) of the identity matrix. \n",
    "b = rng.normal(size=(N,))\n",
    "\n",
    "start = perf_counter(); x_np = np.linalg.solve(A,b); t_np = perf_counter()-start\n",
    "start = perf_counter(); x_sp = la.solve(A,b); t_sp = perf_counter()-start\n",
    "print(f'np.linalg.solve: {t_np:.4f} s, scipy.linalg.solve: {t_sp:.4f} s')\n",
    "print('residual norm:', np.linalg.norm(A@x_np-b))\n"
   ]
  },
  {
   "cell_type": "markdown",
   "id": "d5d1e472",
   "metadata": {
    "id": "d5d1e472",
    "slideshow": {
     "slide_type": "slide"
    },
    "tags": []
   },
   "source": [
    "### Eigenvalues and eigenvectors\n",
    "\n",
    "Compute eigenvalues for symmetric matrices using `la.eigh`."
   ]
  },
  {
   "cell_type": "code",
   "execution_count": 34,
   "id": "2478c46e",
   "metadata": {
    "id": "2478c46e",
    "slideshow": {
     "slide_type": "fragment"
    },
    "tags": []
   },
   "outputs": [
    {
     "name": "stdout",
     "output_type": "stream",
     "text": [
      "smallest eigenvalue: -24.728797948509314\n",
      "first eigenvector: [ 0.19554278 -0.05329844  0.0659406  -0.02892178  0.09859904 -0.02335454\n",
      "  0.11688494  0.1622831  -0.05905784  0.00817115 -0.07331356  0.12102389\n",
      " -0.13155997 -0.02682465 -0.03516737  0.08607032 -0.08443019 -0.01810881\n",
      " -0.0198124  -0.00545706 -0.11139418 -0.02837197  0.08645945 -0.1581442\n",
      "  0.04715134 -0.00523616 -0.02242555  0.00995116 -0.01803874 -0.15184858\n",
      " -0.03024793  0.01802136 -0.06792031  0.1791517  -0.14663142 -0.10793698\n",
      " -0.07759081  0.11248423 -0.03112629  0.05705951 -0.06372366  0.13737431\n",
      "  0.03461514  0.00217995  0.12765998 -0.14878972  0.22160386  0.03216484\n",
      "  0.12574887  0.27081157 -0.17649869  0.26442177 -0.06874385  0.05311465\n",
      "  0.1748406   0.02476288  0.10527649 -0.05058282 -0.04969695  0.20339441\n",
      "  0.10088929 -0.06294632 -0.08556253  0.06485362  0.18228531 -0.02970261\n",
      "  0.07719989 -0.0908565   0.14208854  0.03453308 -0.07523414  0.04926855\n",
      " -0.05011728 -0.08521307 -0.04042056  0.10994954 -0.19479531 -0.13074908\n",
      " -0.28715284  0.12574789]\n"
     ]
    }
   ],
   "source": [
    "# small symmetric matrix eigen decomposition\n",
    "M = rng.normal(size=(80,80))\n",
    "M = M + M.T\n",
    "w, v = la.eigh(M)\n",
    "print('smallest eigenvalue:', w[0])\n",
    "print('first eigenvector:',v[0])"
   ]
  },
  {
   "cell_type": "markdown",
   "id": "c794f30b",
   "metadata": {
    "id": "c794f30b",
    "slideshow": {
     "slide_type": "slide"
    },
    "tags": []
   },
   "source": [
    "## Interpolation and smoothing (`scipy.interpolate`)\n",
    "\n",
    "Common tools: `interp1d`, `UnivariateSpline`, `LSQUnivariateSpline`, and `griddata` for scattered data.\n"
   ]
  },
  {
   "cell_type": "code",
   "execution_count": 20,
   "id": "5b73fe97",
   "metadata": {
    "id": "5b73fe97",
    "slideshow": {
     "slide_type": "slide"
    },
    "tags": []
   },
   "outputs": [
    {
     "data": {
      "text/plain": [
       "Text(0.5, 1.0, 'interp1d linear vs cubic')"
      ]
     },
     "execution_count": 20,
     "metadata": {},
     "output_type": "execute_result"
    },
    {
     "data": {
      "image/png": "[encoded data removed]",
      "text/plain": [
       "<Figure size 432x216 with 1 Axes>"
      ]
     },
     "metadata": {
      "needs_background": "light"
     },
     "output_type": "display_data"
    }
   ],
   "source": [
    "# Cubic interpolation of noisy data\n",
    "xs = np.linspace(0,10,20)\n",
    "ys = np.sin(xs) + 0.2*rng.standard_normal(xs.shape)\n",
    "\n",
    "f_lin = interp.interp1d(xs, ys, kind='linear')\n",
    "f_cubic = interp.interp1d(xs, ys, kind='cubic')\n",
    "\n",
    "xs_fine = np.linspace(0,10,400)\n",
    "plt.figure(figsize=(6,3))\n",
    "plt.plot(xs, ys, 'o', label='data')\n",
    "plt.plot(xs_fine, f_cubic(xs_fine), '-', label='cubic')\n",
    "plt.plot(xs_fine, f_lin(xs_fine), '--', label='linear')\n",
    "plt.legend(); plt.title('interp1d linear vs cubic')\n"
   ]
  },
  {
   "cell_type": "code",
   "execution_count": 21,
   "id": "c048e986",
   "metadata": {
    "id": "c048e986",
    "slideshow": {
     "slide_type": "slide"
    },
    "tags": []
   },
   "outputs": [
    {
     "data": {
      "text/plain": [
       "Text(0.5, 1.0, 'Smoothing spline')"
      ]
     },
     "execution_count": 21,
     "metadata": {},
     "output_type": "execute_result"
    },
    {
     "data": {
      "image/png": "[encoded data removed]",
      "text/plain": [
       "<Figure size 432x216 with 1 Axes>"
      ]
     },
     "metadata": {
      "needs_background": "light"
     },
     "output_type": "display_data"
    }
   ],
   "source": [
    "# UnivariateSpline smoothing (s parameter controls smoothing)\n",
    "sp = interp.UnivariateSpline(xs, ys, s=1.0)\n",
    "plt.figure(figsize=(6,3))\n",
    "plt.plot(xs, ys, 'o', label='data')\n",
    "plt.plot(xs_fine, sp(xs_fine), '-', label='UnivariateSpline (s=1)')\n",
    "plt.legend(); plt.title('Smoothing spline')\n"
   ]
  },
  {
   "cell_type": "markdown",
   "id": "b9e3b46d",
   "metadata": {
    "id": "b9e3b46d",
    "slideshow": {
     "slide_type": "slide"
    },
    "tags": []
   },
   "source": [
    "### Scattered data interpolation (`griddata`)\n",
    "\n",
    "Useful when data points are irregularly spaced in 2D.\n"
   ]
  },
  {
   "cell_type": "code",
   "execution_count": 22,
   "id": "fa9af915",
   "metadata": {
    "id": "fa9af915",
    "slideshow": {
     "slide_type": "slide"
    },
    "tags": []
   },
   "outputs": [
    {
     "data": {
      "text/plain": [
       "<matplotlib.colorbar.Colorbar at 0x1443503d0>"
      ]
     },
     "execution_count": 22,
     "metadata": {},
     "output_type": "execute_result"
    },
    {
     "data": {
      "image/png": "[encoded data removed]",
      "text/plain": [
       "<Figure size 432x216 with 2 Axes>"
      ]
     },
     "metadata": {
      "needs_background": "light"
     },
     "output_type": "display_data"
    }
   ],
   "source": [
    "from scipy.interpolate import griddata\n",
    "\n",
    "# create scattered samples from a smooth 2D function\n",
    "pts = rng.random((300,2))*2 - 1\n",
    "vals = np.sin(pts[:,0]*3)*np.cos(pts[:,1]*2)\n",
    "# grid\n",
    "gx = np.linspace(-1,1,100)\n",
    "gy = np.linspace(-1,1,80)\n",
    "GX, GY = np.meshgrid(gx, gy)\n",
    "ZI = griddata(pts, vals, (GX, GY), method='cubic')\n",
    "\n",
    "plt.figure(figsize=(6,3))\n",
    "plt.imshow(ZI, extent=(-1,1,-1,1), origin='lower', aspect='auto')\n",
    "plt.scatter(pts[:,0], pts[:,1], s=6, c='k')\n",
    "plt.title('griddata interpolation (cubic)')\n",
    "plt.colorbar()\n"
   ]
  },
  {
   "cell_type": "markdown",
   "id": "4e3b5d81",
   "metadata": {
    "id": "4e3b5d81",
    "slideshow": {
     "slide_type": "slide"
    },
    "tags": []
   },
   "source": [
    "## Optimization (`scipy.optimize`)\n",
    "\n",
    "Methods include `minimize`, `least_squares`, `curve_fit` (wrapper), and root-finding utilities. We'll focus on optimization and fitting.\n"
   ]
  },
  {
   "cell_type": "code",
   "execution_count": 23,
   "id": "cba597ea",
   "metadata": {
    "id": "cba597ea",
    "slideshow": {
     "slide_type": "fragment"
    },
    "tags": []
   },
   "outputs": [
    {
     "name": "stdout",
     "output_type": "stream",
     "text": [
      "success: True x: [0.99999336 0.9999867 ]\n"
     ]
    }
   ],
   "source": [
    "# minimize a 2D Rosenbrock function\n",
    "from scipy.optimize import minimize\n",
    "\n",
    "def rosen(x):\n",
    "    return (1-x[0])**2 + 100*(x[1]-x[0]**2)**2\n",
    "\n",
    "res = minimize(rosen, x0=[-1.2,1.0], method='BFGS')\n",
    "print('success:', res.success, 'x:', res.x)\n"
   ]
  },
  {
   "cell_type": "markdown",
   "id": "22eb1d6b",
   "metadata": {
    "id": "22eb1d6b",
    "slideshow": {
     "slide_type": "slide"
    },
    "tags": []
   },
   "source": [
    "## Curve fitting: `scipy.optimize.curve_fit`\n",
    "\n",
    "Convenient wrapper around least-squares for common curve-fitting tasks. It returns best-fit parameters and covariance estimate.\n"
   ]
  },
  {
   "cell_type": "code",
   "execution_count": 24,
   "id": "0663c198",
   "metadata": {
    "id": "0663c198",
    "slideshow": {
     "slide_type": "slide"
    },
    "tags": []
   },
   "outputs": [
    {
     "name": "stdout",
     "output_type": "stream",
     "text": [
      "popt: [2.08287799 1.24574969 0.51542965]\n",
      "1-sigma errors: [0.06006817 0.09172756 0.03800748]\n"
     ]
    },
    {
     "data": {
      "text/plain": [
       "Text(0.5, 1.0, 'curve_fit example')"
      ]
     },
     "execution_count": 24,
     "metadata": {},
     "output_type": "execute_result"
    },
    {
     "data": {
      "image/png": "[encoded data removed]",
      "text/plain": [
       "<Figure size 432x216 with 1 Axes>"
      ]
     },
     "metadata": {
      "needs_background": "light"
     },
     "output_type": "display_data"
    }
   ],
   "source": [
    "from scipy.optimize import curve_fit\n",
    "\n",
    "# synthetic data: exponential decay + offset\n",
    "def exp_model(x, A, tau, C):\n",
    "    return A * np.exp(-x/tau) + C\n",
    "\n",
    "xdata = np.linspace(0,5,50)\n",
    "ydata = exp_model(xdata, 2.0, 1.3, 0.5) + 0.1*rng.standard_normal(xdata.shape)\n",
    "\n",
    "popt, pcov = curve_fit(exp_model, xdata, ydata, p0=[1.5,1.0,0.4])\n",
    "perr = np.sqrt(np.diag(pcov))\n",
    "print('popt:', popt)\n",
    "print('1-sigma errors:', perr)\n",
    "\n",
    "plt.figure(figsize=(6,3))\n",
    "plt.plot(xdata, ydata, 'o', label='data')\n",
    "plt.plot(xdata, exp_model(xdata, *popt), '-', label='fit')\n",
    "plt.legend(); plt.title('curve_fit example')\n"
   ]
  },
  {
   "cell_type": "markdown",
   "id": "3dbab231",
   "metadata": {
    "id": "3dbab231",
    "slideshow": {
     "slide_type": "slide"
    },
    "tags": []
   },
   "source": [
    "### `least_squares` for more control\n",
    "\n",
    "`least_squares` lets you supply bounds, robust loss functions, and retrieve Jacobians for uncertainty estimation.\n"
   ]
  },
  {
   "cell_type": "code",
   "execution_count": 36,
   "id": "9beb76a4",
   "metadata": {
    "id": "9beb76a4",
    "slideshow": {
     "slide_type": "slide"
    },
    "tags": []
   },
   "outputs": [
    {
     "name": "stdout",
     "output_type": "stream",
     "text": [
      "success: True\n",
      "params: [1.20375306 2.0973376  0.52054018 0.100315  ]\n",
      "[[  0.49734884   0.           1.04431675   1.        ]\n",
      " [  0.55693029   0.03343773   0.99978822   1.        ]\n",
      " [  0.61377259   0.06356806   0.95034243   1.        ]\n",
      " ...\n",
      " [  0.59520646  -9.6083308   -0.96730325   1.        ]\n",
      " [  0.5374223  -10.11745906  -1.01514093   1.        ]\n",
      " [  0.47699492 -10.57985935  -1.05798585   1.        ]]\n"
     ]
    },
    {
     "data": {
      "image/png": "[encoded data removed]",
      "text/plain": [
       "<Figure size 432x216 with 1 Axes>"
      ]
     },
     "metadata": {
      "needs_background": "light"
     },
     "output_type": "display_data"
    }
   ],
   "source": [
    "from scipy.optimize import least_squares\n",
    "\n",
    "# Fit a sinusoid: A*sin(omega t + phi) + offset\n",
    "def sin_model(t, p):\n",
    "    A, omega, phi, C = p\n",
    "    return A * np.sin(omega*t + phi) + C\n",
    "\n",
    "# generate data\n",
    "t = np.linspace(0,10,300)\n",
    "true_p = [1.2, 2.1, 0.5, 0.1]\n",
    "y = sin_model(t, true_p) + 0.2*rng.standard_normal(t.shape)\n",
    "\n",
    "# residuals function\n",
    "def residuals(p, t, y):\n",
    "    return sin_model(t,p) - y\n",
    "\n",
    "res = least_squares(residuals, x0=[1.0,2.0,0.0,0.0], args=(t,y))\n",
    "print('success:', res.success)\n",
    "print('params:', res.x)\n",
    "\n",
    "plt.figure(figsize=(6,3))\n",
    "plt.plot(t, y, '.', markersize=3, label='data')\n",
    "plt.plot(t, sin_model(t, res.x), '-', label='fit')\n",
    "plt.legend(); plt.title('least_squares sinusoid fit')\n",
    "print(res.jac)"
   ]
  },
  {
   "cell_type": "markdown",
   "id": "33b166c2",
   "metadata": {
    "id": "33b166c2",
    "slideshow": {
     "slide_type": "slide"
    },
    "tags": []
   },
   "source": [
    "## Polynomial fitting with numpy\n",
    "\n",
    "An alternative implies the use of NumPy. For instance, for polynomials, `np.polyfit`, provides an easy alternative.\n"
   ]
  },
  {
   "cell_type": "code",
   "execution_count": 37,
   "id": "ab416c67",
   "metadata": {
    "id": "ab416c67",
    "slideshow": {
     "slide_type": "slide"
    },
    "tags": []
   },
   "outputs": [
    {
     "name": "stdout",
     "output_type": "stream",
     "text": [
      "coeffs: [ 1.63071049  0.04957606 -0.76070343  0.17433876]\n"
     ]
    },
    {
     "data": {
      "text/plain": [
       "<matplotlib.legend.Legend at 0x144833610>"
      ]
     },
     "execution_count": 37,
     "metadata": {},
     "output_type": "execute_result"
    },
    {
     "data": {
      "image/png": "[encoded data removed]",
      "text/plain": [
       "<Figure size 432x216 with 1 Axes>"
      ]
     },
     "metadata": {
      "needs_background": "light"
     },
     "output_type": "display_data"
    }
   ],
   "source": [
    "# polynomial fit with np.polyfit\n",
    "x = np.linspace(-1,1,50)\n",
    "y = 1.5*x**3 - 0.7*x + 0.2 + 0.1*rng.standard_normal(x.shape)\n",
    "coeffs = np.polyfit(x,y,3)\n",
    "print('coeffs:', coeffs)\n",
    "\n",
    "# evaluate\n",
    "p = np.poly1d(coeffs)\n",
    "plt.figure(figsize=(6,3))\n",
    "plt.plot(x,y,'o',label='data')\n",
    "xs = np.linspace(-1,1,200)\n",
    "plt.plot(xs, p(xs), '-', label='polyfit deg3')\n",
    "plt.legend()\n"
   ]
  },
  {
   "cell_type": "code",
   "execution_count": 38,
   "id": "2270cb9c",
   "metadata": {
    "id": "2270cb9c",
    "slideshow": {
     "slide_type": "slide"
    },
    "tags": []
   },
   "outputs": [
    {
     "data": {
      "text/plain": [
       "Text(0.5, 1.0, 'Overfitting example')"
      ]
     },
     "execution_count": 38,
     "metadata": {},
     "output_type": "execute_result"
    },
    {
     "data": {
      "image/png": "[encoded data removed]",
      "text/plain": [
       "<Figure size 432x216 with 1 Axes>"
      ]
     },
     "metadata": {
      "needs_background": "light"
     },
     "output_type": "display_data"
    }
   ],
   "source": [
    "# overfitting demonstration: high-degree polynomial on noisy data\n",
    "coeffs_over = np.polyfit(x,y,15)\n",
    "po = np.poly1d(coeffs_over)\n",
    "plt.figure(figsize=(6,3))\n",
    "plt.plot(x,y,'o',label='data')\n",
    "plt.plot(xs, po(xs), '-', label='deg 15 poly (overfit)')\n",
    "plt.legend(); plt.title('Overfitting example')\n"
   ]
  },
  {
   "cell_type": "markdown",
   "id": "11baf77d",
   "metadata": {
    "id": "11baf77d",
    "slideshow": {
     "slide_type": "slide"
    },
    "tags": []
   },
   "source": [
    "## Practical example: fit a sum of Gaussians to noisy data\n",
    "\n",
    "This is a common physics use-case (spectral peaks). We show model definition, initial guesses, bounds, and covariance estimation.\n"
   ]
  },
  {
   "cell_type": "code",
   "execution_count": 30,
   "id": "f698e21a",
   "metadata": {
    "id": "f698e21a",
    "slideshow": {
     "slide_type": "slide"
    },
    "tags": []
   },
   "outputs": [
    {
     "name": "stdout",
     "output_type": "stream",
     "text": [
      "params: [ 1.20679997 -0.99963881  0.50650907  0.80758558  1.20733631  0.78259604]\n",
      "1sigma errors: [0.01169519 0.00666799 0.00673831 0.00966414 0.01218648 0.01345366]\n"
     ]
    },
    {
     "data": {
      "text/plain": [
       "Text(0.5, 1.0, 'Sum of Gaussians fit')"
      ]
     },
     "execution_count": 30,
     "metadata": {},
     "output_type": "execute_result"
    },
    {
     "data": {
      "image/png": "[encoded data removed]",
      "text/plain": [
       "<Figure size 432x216 with 1 Axes>"
      ]
     },
     "metadata": {
      "needs_background": "light"
     },
     "output_type": "display_data"
    }
   ],
   "source": [
    "# generate synthetic spectrum\n",
    "xs = np.linspace(-5,5,300)\n",
    "def gauss(x,A,mu,sigma):\n",
    "    return A*np.exp(-0.5*((x-mu)/sigma)**2)\n",
    "\n",
    "true = gauss(xs, 1.2, -1.0, 0.5) + gauss(xs, 0.8, 1.2, 0.8)\n",
    "ys = true + 0.05*rng.standard_normal(xs.shape)\n",
    "\n",
    "# model: sum of two gaussians\n",
    "def model_sum2(x, A1, mu1, s1, A2, mu2, s2):\n",
    "    return gauss(x,A1,mu1,s1) + gauss(x,A2,mu2,s2)\n",
    "\n",
    "p0 = [1.0, -0.8, 0.6, 0.7, 1.0, 1.0]\n",
    "params, pcov = curve_fit(model_sum2, xs, ys, p0=p0)\n",
    "perr = np.sqrt(np.diag(pcov))\n",
    "print('params:', params)\n",
    "print('1sigma errors:', perr)\n",
    "\n",
    "plt.figure(figsize=(6,3))\n",
    "plt.plot(xs, ys, '.', markersize=3, label='data')\n",
    "plt.plot(xs, model_sum2(xs, *params), '-', label='fit')\n",
    "plt.plot(xs, true, '--', label='true')\n",
    "plt.legend(); plt.title('Sum of Gaussians fit')\n"
   ]
  },
  {
   "cell_type": "markdown",
   "id": "59dd9273",
   "metadata": {
    "id": "59dd9273",
    "slideshow": {
     "slide_type": "slide"
    },
    "tags": []
   },
   "source": [
    "### Residual diagnostics and goodness-of-fit\n",
    "\n",
    "Plot residuals, compute reduced chi-square, and look for structure in residuals that indicates model mismatch.\n"
   ]
  },
  {
   "cell_type": "code",
   "execution_count": 31,
   "id": "9c9d63bc",
   "metadata": {
    "id": "9c9d63bc",
    "slideshow": {
     "slide_type": "slide"
    },
    "tags": []
   },
   "outputs": [
    {
     "name": "stdout",
     "output_type": "stream",
     "text": [
      "chi2: 285.48663947737515 reduced chi2: 0.9710429914196433\n"
     ]
    },
    {
     "data": {
      "text/plain": [
       "Text(0.5, 1.0, 'Residuals')"
      ]
     },
     "execution_count": 31,
     "metadata": {},
     "output_type": "execute_result"
    },
    {
     "data": {
      "image/png": "[encoded data removed]",
      "text/plain": [
       "<Figure size 432x144 with 1 Axes>"
      ]
     },
     "metadata": {
      "needs_background": "light"
     },
     "output_type": "display_data"
    }
   ],
   "source": [
    "resid = ys - model_sum2(xs, *params)\n",
    "chi2 = np.sum((resid/0.05)**2)\n",
    "ndof = len(xs) - len(params)\n",
    "print('chi2:', chi2, 'reduced chi2:', chi2/ndof)\n",
    "\n",
    "plt.figure(figsize=(6,2))\n",
    "plt.plot(xs, resid, '.')\n",
    "plt.hlines(0, xs[0], xs[-1], colors='k', linestyles='--')\n",
    "plt.title('Residuals')\n"
   ]
  },
  {
   "cell_type": "markdown",
   "id": "88beca9a",
   "metadata": {
    "id": "88beca9a",
    "slideshow": {
     "slide_type": "slide"
    },
    "tags": []
   },
   "source": [
    "### Exercises\n",
    "\n",
    "#### Hints and tips\n",
    "\n",
    "- Use vectorized operations and avoid Python loops when possible.\n",
    "- When fitting, good initial guesses and sensible bounds dramatically improve convergence.\n",
    "- Check residuals and reduced chi-square to evaluate fit quality.\n",
    "\n",
    "\n",
    "1. Numpy tasks:\n",
    "     - Implement two ways to compute the NxN distance matrix for N points in 3D:\n",
    "       - naive Python loops\n",
    "       - full broadcasting (create (N,1,3)-(1,N,3))\n",
    "    - Time each approach for increasing N (e.g., N=200,500,1000) and plot runtime vs N.\n",
    "\n",
    "2. Interpolation & reconstruction: reconstruct missing data from an irregularly sampled signal.\n",
    "     - Create a 1D signal defined on [0,1] with a few sharp features and additive noise.\n",
    "     - Randomly remove 30-50% of samples and reconstruct the signal using:\n",
    "       - linear/cubic `interp1d`\n",
    "       - smoothing spline (`UnivariateSpline`) with tuned `s`\n",
    "       - basis regression (e.g., fit with a limited Fourier series)\n",
    "     - Compare reconstructions with RMSE and visually.\n",
    "       \n",
    "3. Fit a model to noisy data, compute parameter uncertainties\n",
    "     - Generate your own 1D spectrum, similar to the sum-of-Gaussians dataset above\n",
    "     - Fit using `curve_fit` and `least_squares`, compute covariance.\n",
    "     - Report best-fit parameters, 1-sigma errors, and a short discussion about the different results.\n",
    "\n"
   ]
  },
  {
   "cell_type": "markdown",
   "id": "2aa81a65",
   "metadata": {
    "id": "2aa81a65",
    "slideshow": {
     "slide_type": "slide"
    },
    "tags": []
   },
   "source": [
    "### ++ Exercise\n",
    "\n",
    "Fit a 2D Gaussian model to a noisy image (2D array) using `least_squares` and estimate parameter uncertainties.\n",
    " - Generate a synthetic 2D image containing a tilted 2D Gaussian plus background and noise.\n",
    " - Implement a vectorized residual function and fit with `least_squares` (parameters: amplitude, x0, y0, sx, sy, theta, background).\n",
    " - Report fitted parameters, uncertainties, and show fitted image and residual map.\n"
   ]
  }
 ],
 "metadata": {
  "celltoolbar": "Slideshow",
  "colab": {
   "provenance": []
  },
  "kernelspec": {
   "display_name": "Python 3",
   "language": "python",
   "name": "python3"
  },
  "language_info": {
   "codemirror_mode": {
    "name": "ipython",
    "version": 3
   },
   "file_extension": ".py",
   "mimetype": "text/x-python",
   "name": "python",
   "nbconvert_exporter": "python",
   "pygments_lexer": "ipython3",
   "version": "3.7.16"
  }
 },
 "nbformat": 4,
 "nbformat_minor": 5
}
