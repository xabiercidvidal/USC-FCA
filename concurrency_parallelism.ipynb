{
 "cells": [
  {
   "cell_type": "markdown",
   "id": "62dddef1",
   "metadata": {
    "editable": true,
    "slideshow": {
     "slide_type": "slide"
    },
    "tags": []
   },
   "source": [
    "# Advanced Computational Physics \n",
    "\n",
    "\n",
    "## More about Python: Functions, Classes and Symbolic computing\n",
    "### Subprocesses, concurrency and parallelism in Python\n",
    "\n",
    "\n",
    "#### *X. Cid Vidal*\n",
    "####  USC, October 2024 \n"
   ]
  },
  {
   "cell_type": "code",
   "execution_count": 16,
   "id": "058ac9d1-1953-45a1-8596-9634fae5bc0f",
   "metadata": {},
   "outputs": [
    {
     "name": "stdout",
     "output_type": "stream",
     "text": [
      " Last revision  Mon Oct 14 14:15:37 2024\n"
     ]
    }
   ],
   "source": [
    "import time\n",
    "print(' Last revision ', time.asctime())"
   ]
  },
  {
   "cell_type": "markdown",
   "id": "7f22572a-7d12-447d-8c51-c25350c6e537",
   "metadata": {},
   "source": [
    "## 1. Working with Subprocesses in Python\n",
    "The `subprocess` module in Python allows you to spawn new processes, connect to their input/output pipes, and retrieve their results. It's a powerful tool for running shell commands or integrating Python with external programs.\n",
    "\n",
    "You can use `subprocess.run()`, `subprocess.Popen()`, and other functions depending on the level of control you need. Here are some common uses of `subprocess`:\n",
    "- Running shell commands\n",
    "- Communicating with a process (passing input and receiving output)\n",
    "- Handling errors raised by subprocesses\n",
    "- Running background tasks"
   ]
  },
  {
   "cell_type": "code",
   "execution_count": 17,
   "id": "f346c610",
   "metadata": {},
   "outputs": [
    {
     "name": "stdout",
     "output_type": "stream",
     "text": [
      "Hello from subprocess\n",
      "\n"
     ]
    }
   ],
   "source": [
    "import subprocess\n",
    "\n",
    "# Example of running a shell command with subprocess\n",
    "result = subprocess.run(['echo', 'Hello from subprocess'], stdout=subprocess.PIPE, text=True)\n",
    "\n",
    "# Print the output\n",
    "print(result.stdout)"
   ]
  },
  {
   "cell_type": "markdown",
   "id": "5b7cd71a-d801-4d9b-a58b-c0630c1abf0b",
   "metadata": {},
   "source": [
    "### Explanation: `subprocess.run`\n",
    "- The `subprocess.run()` function runs a command, waits for it to finish, and returns a `CompletedProcess` object.\n",
    "- `stdout=subprocess.PIPE` captures the output of the command.\n",
    "- `text=True` ensures the output is in string format rather than bytes.\n"
   ]
  },
  {
   "cell_type": "markdown",
   "id": "b16567b8-2732-430b-ba9b-e74880bb4980",
   "metadata": {},
   "source": [
    "### Example: Run a Shell Command Using Subprocess\n",
    "Write a Python script that uses the `subprocess` module to list all files and directories in the current directory using the shell command `ls` (or `dir` on Windows). Capture and print the output in Python."
   ]
  },
  {
   "cell_type": "code",
   "execution_count": 18,
   "id": "b703b62c",
   "metadata": {},
   "outputs": [
    {
     "name": "stdout",
     "output_type": "stream",
     "text": [
      "README.md\n",
      "about_functions.ipynb\n",
      "about_list_expressions.ipynb\n",
      "about_testing.ipynb\n",
      "classes.ipynb\n",
      "classes_intro.ipynb\n",
      "concurrency_parallelism.ipynb\n",
      "cookbook_numpy.ipynb\n",
      "cookbook_pandas.ipynb\n",
      "environment.yml\n",
      "\u001b[34mimg\u001b[m\u001b[m\n",
      "index.ipynb\n",
      "python_intro.ipynb\n",
      "\u001b[31msetup.ipynb\u001b[m\u001b[m\n",
      "shortcut_matplotlib1.ipynb\n",
      "shortcut_matplotlib2.ipynb\n",
      "sympy.ipynb\n",
      "vector.py\n",
      "\n"
     ]
    }
   ],
   "source": [
    "# Use subprocess to list all files and directories\n",
    "result = subprocess.run(['ls'], stdout=subprocess.PIPE, text=True)\n",
    "\n",
    "# Print the output\n",
    "print(result.stdout)"
   ]
  },
  {
   "cell_type": "markdown",
   "id": "8caaaa02-4697-490b-b0b9-d83f573974af",
   "metadata": {},
   "source": [
    "### 1.1 Running a Subprocess with Input\n",
    "You can also pass input to a subprocess. In the following example, we'll run the `bc` command (basic calculator) and pass input to it to perform a mathematical operation."
   ]
  },
  {
   "cell_type": "code",
   "execution_count": 19,
   "id": "60b85414",
   "metadata": {},
   "outputs": [
    {
     "name": "stdout",
     "output_type": "stream",
     "text": [
      "Result from bc calculator: 15\n",
      "\n"
     ]
    }
   ],
   "source": [
    "# Example of subprocess with input\n",
    "result = subprocess.run(['bc'], input='5 + 10', stdout=subprocess.PIPE, text=True)\n",
    "\n",
    "# Print the output\n",
    "print('Result from bc calculator:', result.stdout)"
   ]
  },
  {
   "cell_type": "markdown",
   "id": "7bbeb000-2749-4855-a448-1553fe73c69b",
   "metadata": {},
   "source": [
    "### Example: Subprocess with Input\n",
    "Use the `subprocess` module to call a calculator program (like `bc` on Unix-like systems) and pass multiple calculations to it. Capture and print the result of each calculation."
   ]
  },
  {
   "cell_type": "code",
   "execution_count": 20,
   "id": "923f7895",
   "metadata": {},
   "outputs": [
    {
     "name": "stdout",
     "output_type": "stream",
     "text": [
      "Results from bc calculator:\n",
      "1025\n",
      "\n"
     ]
    }
   ],
   "source": [
    "# Solution \n",
    "\n",
    "# Using subprocess to pass multiple inputs to bc calculator\n",
    "calculations = '5 + 510 * 2'\n",
    "result = subprocess.run(['bc'], input=calculations, stdout=subprocess.PIPE, text=True)\n",
    "\n",
    "# Print the result of each calculation\n",
    "print('Results from bc calculator:')\n",
    "print(result.stdout)"
   ]
  },
  {
   "cell_type": "markdown",
   "id": "44a55ccc-cc6a-4be1-b584-5595168af463",
   "metadata": {},
   "source": [
    "### 1.2 Running a Subprocess with Error Handling and Timeout\n",
    "Here’s an example of using `subprocess.run()` with error handling. This command will attempt to ping a non-existent address, and we’ll handle the error using `subprocess.CalledProcessError` and set a timeout in case the process hangs."
   ]
  },
  {
   "cell_type": "code",
   "execution_count": 29,
   "id": "36fca598-a2be-46e3-b203-5d51cc653764",
   "metadata": {},
   "outputs": [
    {
     "name": "stdout",
     "output_type": "stream",
     "text": [
      "Error occurred: ping: cannot resolve 256.256.256.256: Unknown host\n",
      "\n"
     ]
    }
   ],
   "source": [
    "import subprocess\n",
    "\n",
    "try:\n",
    "    # Run the command with timeout and check for errors\n",
    "    result = subprocess.run(['ping', '-c', '4', '256.256.256.256'], \n",
    "                            stdout=subprocess.PIPE, stderr=subprocess.PIPE, \n",
    "                            text=True, timeout=5, check=True)\n",
    "except subprocess.CalledProcessError as e:\n",
    "    print(f\"Error occurred: {e.stderr}\")\n",
    "except subprocess.TimeoutExpired:\n",
    "    print(\"The subprocess timed out!\")\n",
    "else:\n",
    "    print(result.stdout)"
   ]
  },
  {
   "cell_type": "markdown",
   "id": "55b1a5fd-9823-41e0-ab74-7da29ef9b91d",
   "metadata": {},
   "source": [
    "### 1.3 Using `subprocess.Popen` for Advanced Control\n",
    "`subprocess.Popen` gives you more flexibility than `subprocess.run` as it allows you to interact with the process while it's running. You can send input and read output in real-time, making it useful for more complex tasks."
   ]
  },
  {
   "cell_type": "code",
   "execution_count": 30,
   "id": "8fc7d9aa-a107-4a9d-b94e-4f8407588880",
   "metadata": {},
   "outputs": [
    {
     "name": "stdout",
     "output_type": "stream",
     "text": [
      "Output from bc: 25\n",
      "\n"
     ]
    }
   ],
   "source": [
    "import subprocess\n",
    "\n",
    "# Start a process with Popen and communicate with it\n",
    "process = subprocess.Popen(['bc'], stdin=subprocess.PIPE, stdout=subprocess.PIPE, stderr=subprocess.PIPE, text=True)\n",
    "\n",
    "# Send input to the process\n",
    "output, error = process.communicate(input='5 * 5')\n",
    "\n",
    "print('Output from bc:', output)"
   ]
  },
  {
   "cell_type": "markdown",
   "id": "153c496a-bed9-45b7-a95b-fb07e413d2a9",
   "metadata": {},
   "source": [
    "## 2. Concurrency and parallelism\n",
    "We will now explore **concurrency** and **parallelism** in Python. These are powerful techniques for improving the performance of Python programs by allowing multiple operations to happen simultaneously or concurrently.\n",
    "\n",
    "We'll cover:\n",
    "- Multi-threading with the `threading` module\n",
    "- Multi-processing with the `multiprocessing` module\n",
    "- Asynchronous programming with `asyncio`"
   ]
  },
  {
   "cell_type": "markdown",
   "id": "323f0c9c",
   "metadata": {},
   "source": [
    "### What is Concurrency and Parallelism?\n",
    "- **Concurrency**: Multiple tasks can start, run, and complete in overlapping time periods.\n",
    "- **Parallelism**: Multiple tasks are executed at the same time on multiple processors or cores.\n",
    "Python’s **GIL** (Global Interpreter Lock) affects how parallel threads are executed, but it can be bypassed using multi-processing or asynchronous programming.\n",
    "\n",
    "<center><img src=\"https://miro.medium.com/v2/resize:fit:4800/format:webp/0*zp67gXLSUUlcGeg4.png\" width=\"700\"></center>\n"
   ]
  },
  {
   "cell_type": "markdown",
   "id": "6b3f8576",
   "metadata": {},
   "source": [
    "## 2.1 Multi-threading with the `threading` Module\n",
    "Multi-threading is useful for I/O-bound tasks like reading/writing files or handling network requests. Threads share the same memory space and can be used to handle tasks that do not require much CPU power."
   ]
  },
  {
   "cell_type": "code",
   "execution_count": 4,
   "id": "ad03fb80",
   "metadata": {},
   "outputs": [
    {
     "name": "stdout",
     "output_type": "stream",
     "text": [
      "start\n",
      "0\n",
      "0\n",
      "join\n",
      "11\n",
      "\n",
      "22\n",
      "\n",
      "33\n",
      "\n",
      "44\n",
      "\n"
     ]
    }
   ],
   "source": [
    "import threading\n",
    "import time\n",
    "\n",
    "# Example of multi-threading\n",
    "def print_numbers():\n",
    "    for i in range(5):\n",
    "        print(i)\n",
    "        time.sleep(1)  # Simulate I/O-bound task with delay\n",
    "\n",
    "# Create two threads\n",
    "thread1 = threading.Thread(target=print_numbers)\n",
    "thread2 = threading.Thread(target=print_numbers)\n",
    "\n",
    "print(\"start\")\n",
    "# Start the threads\n",
    "thread1.start()\n",
    "thread2.start()\n",
    "\n",
    "print(\"join\")\n",
    "# Wait for threads to complete\n",
    "thread1.join()\n",
    "thread2.join()"
   ]
  },
  {
   "cell_type": "markdown",
   "id": "02342797",
   "metadata": {},
   "source": [
    "### Multi-threading example\n",
    "Create two threads, one that prints numbers from 1 to 5 with a delay of 1 second, and another that prints letters from 'A' to 'E' with a delay of 1.5 seconds. Both should run concurrently."
   ]
  },
  {
   "cell_type": "code",
   "execution_count": 6,
   "id": "5ed3c996",
   "metadata": {},
   "outputs": [
    {
     "name": "stdout",
     "output_type": "stream",
     "text": [
      "start\n",
      "1\n",
      "A\n",
      "join\n",
      "2\n",
      "B\n",
      "3\n",
      "C\n",
      "4\n",
      "5\n",
      "D\n",
      "E\n"
     ]
    }
   ],
   "source": [
    "# Solution\n",
    "\n",
    "def print_numbers():\n",
    "    for i in range(1, 6):\n",
    "        print(i)\n",
    "        time.sleep(1)\n",
    "\n",
    "def print_letters():\n",
    "    for letter in 'ABCDE':\n",
    "        print(letter)\n",
    "        time.sleep(1.5)\n",
    "\n",
    "# Create threads\n",
    "thread1 = threading.Thread(target=print_numbers)\n",
    "thread2 = threading.Thread(target=print_letters)\n",
    "\n",
    "print(\"start\")\n",
    "# Start threads\n",
    "thread1.start()\n",
    "thread2.start()\n",
    "\n",
    "print(\"join\")\n",
    "# Wait for threads to finish\n",
    "thread1.join()\n",
    "thread2.join()"
   ]
  },
  {
   "cell_type": "markdown",
   "id": "4cf6ca14",
   "metadata": {},
   "source": [
    "## 2.2 Multi-processing with the `multiprocessing` Module\n",
    "Multi-processing allows you to bypass Python's GIL by running processes in separate memory spaces. This is ideal for CPU-bound tasks that need to run in parallel across multiple cores."
   ]
  },
  {
   "cell_type": "code",
   "execution_count": 8,
   "id": "7546b351",
   "metadata": {},
   "outputs": [
    {
     "name": "stdout",
     "output_type": "stream",
     "text": [
      "Square of 1 is 1\n",
      "Square of 2 is 4\n",
      "Square of 3 is 9\n",
      "Square of 4 is 16\n",
      "Square of 5 is 25\n"
     ]
    }
   ],
   "source": [
    "#import multiprocessing as mp\n",
    "import multiprocess as mp ## in ipython, use multiprocess instead (mostly the same)\n",
    "\n",
    "# Example of multi-processing\n",
    "def square_numbers(numbers):\n",
    "    for number in numbers:\n",
    "        print(f\"Square of {number} is {number ** 2}\")\n",
    "\n",
    "numbers = [1, 2, 3, 4, 5]\n",
    "\n",
    "# Create a process\n",
    "process = mp.Process(target=square_numbers, args=(numbers,))\n",
    "\n",
    "# Start and join the process\n",
    "process.start()\n",
    "process.join()"
   ]
  },
  {
   "cell_type": "markdown",
   "id": "733fe2f1",
   "metadata": {},
   "source": [
    "### Multi-processing example\n",
    "Write a function that calculates the cube of numbers in a list. Use the `multiprocessing` module to run two processes simultaneously: one for squaring numbers and the other for cubing them."
   ]
  },
  {
   "cell_type": "code",
   "execution_count": 9,
   "id": "26dcfdcc",
   "metadata": {},
   "outputs": [
    {
     "name": "stdout",
     "output_type": "stream",
     "text": [
      "Square of 1 is 1\n",
      "Square of 2 is 4Cube of 1 is 1\n",
      "\n",
      "Square of 3 is 9Cube of 2 is 8\n",
      "\n",
      "Square of 4 is 16Cube of 3 is 27\n",
      "\n",
      "Square of 5 is 25Cube of 4 is 64\n",
      "\n",
      "Cube of 5 is 125\n"
     ]
    }
   ],
   "source": [
    "# Solution \n",
    "\n",
    "def cube_numbers(numbers):\n",
    "    for number in numbers:\n",
    "        print(f\"Cube of {number} is {number ** 3}\")\n",
    "\n",
    "# Create processes\n",
    "process1 = mp.Process(target=square_numbers, args=(numbers,))\n",
    "process2 = mp.Process(target=cube_numbers, args=(numbers,))\n",
    "\n",
    "# Start processes\n",
    "process1.start()\n",
    "process2.start()\n",
    "\n",
    "# Join processes\n",
    "process1.join()\n",
    "process2.join()"
   ]
  },
  {
   "cell_type": "markdown",
   "id": "786f65f2",
   "metadata": {},
   "source": [
    "## 2.3 Asynchronous example with `asyncio`\n",
    "The `asyncio` module allows for concurrent code execution without using multiple threads or processes. It is best suited for I/O-bound tasks, such as network operations or reading large files asynchronously."
   ]
  },
  {
   "cell_type": "code",
   "execution_count": 25,
   "id": "9284f509",
   "metadata": {},
   "outputs": [
    {
     "name": "stdout",
     "output_type": "stream",
     "text": [
      "1\n",
      "A\n",
      "2\n",
      "B\n",
      "3\n",
      "C\n",
      "4\n",
      "5\n",
      "D\n",
      "E\n"
     ]
    }
   ],
   "source": [
    "import asyncio\n",
    "\n",
    "# Example of asyncio for concurrent tasks\n",
    "async def print_numbers_async():\n",
    "    for i in range(1, 6):\n",
    "        print(i)\n",
    "        await asyncio.sleep(1)\n",
    "\n",
    "async def print_letters_async():\n",
    "    for letter in 'ABCDE':\n",
    "        print(letter)\n",
    "        await asyncio.sleep(1.5)\n",
    "\n",
    "# Run asyncio tasks concurrently\n",
    "async def main():\n",
    "    await asyncio.gather(print_numbers_async(), print_letters_async())\n",
    "\n",
    "# Run the asyncio program\n",
    "await main()"
   ]
  },
  {
   "cell_type": "markdown",
   "id": "a9da38ad",
   "metadata": {},
   "source": [
    "### Async example\n",
    "Modify the `print_numbers_async` and `print_letters_async` functions to print numbers 1-10 and letters 'A' to 'J'. Use the `asyncio.gather` method to run them concurrently."
   ]
  },
  {
   "cell_type": "code",
   "execution_count": 26,
   "id": "e328b42d",
   "metadata": {},
   "outputs": [
    {
     "name": "stdout",
     "output_type": "stream",
     "text": [
      "1\n",
      "A\n",
      "2\n",
      "B\n",
      "3\n",
      "C\n",
      "4\n",
      "5\n",
      "D\n",
      "6\n",
      "E\n",
      "7\n",
      "8\n",
      "F\n",
      "9\n",
      "G\n",
      "10\n",
      "H\n",
      "I\n",
      "J\n"
     ]
    }
   ],
   "source": [
    "# Solution\n",
    "\n",
    "async def print_numbers_async():\n",
    "    for i in range(1, 11):\n",
    "        print(i)\n",
    "        await asyncio.sleep(1)\n",
    "\n",
    "async def print_letters_async():\n",
    "    for letter in 'ABCDEFGHIJ':\n",
    "        print(letter)\n",
    "        await asyncio.sleep(1.5)\n",
    "\n",
    "# Run asyncio tasks concurrently\n",
    "async def main():\n",
    "    await asyncio.gather(print_numbers_async(), print_letters_async())\n",
    "\n",
    "# Run the asyncio program\n",
    "await main()"
   ]
  },
  {
   "cell_type": "markdown",
   "id": "453b50d0",
   "metadata": {},
   "source": [
    "## 2.4 Best Practices for Concurrency and Parallelism\n",
    "- **Use multi-threading** for I/O-bound tasks (e.g., file I/O, network requests).\n",
    "- **Use multi-processing** for CPU-bound tasks that require significant computational power.\n",
    "- **Use `asyncio`** for lightweight I/O-bound tasks, such as web scraping or reading files.\n",
    "- Avoid shared state between threads or processes to prevent race conditions and deadlocks."
   ]
  },
  {
   "cell_type": "markdown",
   "id": "1e103112",
   "metadata": {},
   "source": [
    "### Exercises\n",
    "1. Write a script using subprocess.Popen to run a shell command that lists files in a directory, then filters the results to only display files that contain a specific string (e.g., '.txt'). Capture and print the filtered output.\n",
    "2. Write a script that uses the subprocess module to:\n",
    "   - Create a directory called test_subprocess_dir if it doesn't already exist.\n",
    "   - Inside that directory, create three empty text files named file1.txt, file2.txt, and file3.txt.\n",
    "   - Use the ls (or dir for Windows) command to list the contents of the directory and print the results.\n",
    "  4. Create a script that uses multiple threads to perform both I/O-bound and CPU-bound tasks concurrently. One thread should write to a file while the other calculates the factorial of a number.\n",
    "  5. Write a script that uses multi-processing to perform two CPU-intensive tasks: calculating the factorial of a number and generating Fibonacci numbers. Run both tasks in parallel using the `multiprocessing` module."
   ]
  },
  {
   "cell_type": "markdown",
   "id": "aedf4ebd-184d-4111-b09d-d69ae911568d",
   "metadata": {},
   "source": [
    "### ++ Exercise\n",
    "Write a Python script that:\n",
    "- Uses `multiprocessing` to spawn three parallel processes\n",
    "- Each process will use `subprocess` to perform a task (e.g., pinging a website, checking a directory for files, or calling a shell command)\n",
    "- Combine the results and print the output from each process."
   ]
  }
 ],
 "metadata": {
  "kernelspec": {
   "display_name": "Python (my-local-env)",
   "language": "python",
   "name": "my-local-env"
  },
  "language_info": {
   "codemirror_mode": {
    "name": "ipython",
    "version": 3
   },
   "file_extension": ".py",
   "mimetype": "text/x-python",
   "name": "python",
   "nbconvert_exporter": "python",
   "pygments_lexer": "ipython3",
   "version": "3.9.6"
  }
 },
 "nbformat": 4,
 "nbformat_minor": 5
}
