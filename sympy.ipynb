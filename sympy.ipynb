{
 "cells": [
  {
   "cell_type": "markdown",
   "id": "d34172c1",
   "metadata": {
    "slideshow": {
     "slide_type": "slide"
    }
   },
   "source": [
    "# Advanced Computational Physics \n",
    "\n",
    "\n",
    "## More about Python: Functions, Classes and Symbolic computing\n",
    "### Symbolic computing\n",
    "\n",
    "\n",
    "#### *X. Cid Vidal, J.A. Hernando Morata*, in collaboration wtih *G. Martínez-Lema*, *M. Kekic*.\n",
    "####  USC, October 2023 "
   ]
  },
  {
   "cell_type": "code",
   "execution_count": 53,
   "id": "3d31617e",
   "metadata": {
    "slideshow": {
     "slide_type": "fragment"
    }
   },
   "outputs": [
    {
     "name": "stdout",
     "output_type": "stream",
     "text": [
      "Last revision  Wed Nov  8 14:13:12 2023\n"
     ]
    }
   ],
   "source": [
    "import time\n",
    "print('Last revision ', time.asctime())"
   ]
  },
  {
   "cell_type": "markdown",
   "id": "018fa833",
   "metadata": {
    "slideshow": {
     "slide_type": "slide"
    }
   },
   "source": [
    "### 1. Introduction to symbolic computing\n",
    "Symbolic computing is a very handy tool to manipulate math expressions symbolically, not numerically. With symbolic computing we can:\n",
    " - Represent precise mathematical objects for exact manipulation.\n",
    " - Perform tasks like simplification, differentiation, and integration symbolically.\n",
    " - Handle complex math as that used in science and engineering."
   ]
  },
  {
   "cell_type": "markdown",
   "id": "96f1a1a3",
   "metadata": {
    "slideshow": {
     "slide_type": "fragment"
    }
   },
   "source": [
    "<img src=\"https://miro.medium.com/v2/resize:fit:563/1*DVd8MRxm1kYxwgucciLiXw.png\" alt=\"drawing\" width=\"450\"/>"
   ]
  },
  {
   "cell_type": "markdown",
   "id": "73855066",
   "metadata": {
    "slideshow": {
     "slide_type": "slide"
    }
   },
   "source": [
    "### 1.1 Sympy\n",
    "Sympy is the **very powerful** Python library for symbolic mathematics. It allows to perform various symbolic operations like algebra and calculus, supporting tasks such as simplification, differentiation, and integration.\n",
    "An excellent documentation can be found [here](https://docs.sympy.org/latest/index.html).\n",
    "Let's see an example:"
   ]
  },
  {
   "cell_type": "code",
   "execution_count": 54,
   "id": "20b8386f",
   "metadata": {
    "slideshow": {
     "slide_type": "slide"
    }
   },
   "outputs": [
    {
     "name": "stdout",
     "output_type": "stream",
     "text": [
      "3.4641016151377544\n",
      "2*sqrt(3)\n"
     ]
    }
   ],
   "source": [
    "import sympy\n",
    "import math\n",
    "print (math.sqrt(12))\n",
    "print (sympy.sqrt(12))"
   ]
  },
  {
   "cell_type": "code",
   "execution_count": 55,
   "id": "8dc21e56",
   "metadata": {
    "slideshow": {
     "slide_type": "subslide"
    }
   },
   "outputs": [
    {
     "name": "stdout",
     "output_type": "stream",
     "text": [
      "Unicode\n",
      "         2   \n",
      "2⋅x + sin (x)\n",
      "2⋅sin(x)⋅cos(x) + 2\n",
      "LaTex\n",
      "2 x + \\sin^{2}{\\left(x \\right)}\n",
      "2 \\sin{\\left(x \\right)} \\cos{\\left(x \\right)} + 2\n"
     ]
    }
   ],
   "source": [
    "from sympy import *\n",
    "\n",
    "x = symbols(\"x\")\n",
    "expr = sin(x)**2 + 2*x\n",
    "exprd = diff(expr)\n",
    "print(\"Unicode\")\n",
    "pprint(expr,use_unicode=True)\n",
    "pprint(exprd,use_unicode=True)\n",
    "print(\"LaTex\")\n",
    "print(latex(expr))\n",
    "print(latex(exprd))"
   ]
  },
  {
   "cell_type": "markdown",
   "id": "9402412f",
   "metadata": {
    "slideshow": {
     "slide_type": "slide"
    }
   },
   "source": [
    "### 1.2 Symbols\n",
    "The most crucial category within the SymPy library is the 'Symbol' class, which is essential for carrying out symbolic computations. The variables in SymPy are instances of the 'Symbols' class."
   ]
  },
  {
   "cell_type": "code",
   "execution_count": 56,
   "id": "ff250b01",
   "metadata": {
    "slideshow": {
     "slide_type": "subslide"
    }
   },
   "outputs": [
    {
     "data": {
      "text/latex": [
       "$\\displaystyle x^{2} + y^{2}$"
      ],
      "text/plain": [
       "x**2 + y**2"
      ]
     },
     "execution_count": 56,
     "metadata": {},
     "output_type": "execute_result"
    }
   ],
   "source": [
    "from sympy import Symbol, symbols\n",
    "x=Symbol('x') \n",
    "y=Symbol('y') \n",
    "expr=x**2+y**2 \n",
    "expr"
   ]
  },
  {
   "cell_type": "markdown",
   "id": "26f74d62",
   "metadata": {
    "slideshow": {
     "slide_type": "slide"
    }
   },
   "source": [
    "Other definitions are possible"
   ]
  },
  {
   "cell_type": "code",
   "execution_count": 57,
   "id": "f89415da",
   "metadata": {
    "slideshow": {
     "slide_type": "subslide"
    }
   },
   "outputs": [
    {
     "name": "stdout",
     "output_type": "stream",
     "text": [
      "x y c d\n",
      "side**3\n",
      "(mark1, mark2, mark3)\n"
     ]
    }
   ],
   "source": [
    "x,y=symbols('x y')\n",
    "c,d=symbols('c,d')\n",
    "print(x,y,c,d)\n",
    "######\n",
    "s=Symbol('side') \n",
    "print(s**3)\n",
    "######\n",
    "print(symbols('mark(1:4)'))\n"
   ]
  },
  {
   "cell_type": "markdown",
   "id": "9cc4e649",
   "metadata": {
    "slideshow": {
     "slide_type": "slide"
    }
   },
   "source": [
    "One can easily replace a symbol by:\n",
    "\n",
    " a) another one\n",
    "\n",
    " b) an expression\n",
    "\n",
    " c) a number"
   ]
  },
  {
   "cell_type": "code",
   "execution_count": 62,
   "id": "a5b827b6",
   "metadata": {
    "slideshow": {
     "slide_type": "subslide"
    }
   },
   "outputs": [
    {
     "name": "stdout",
     "output_type": "stream",
     "text": [
      "expr0=\n",
      " 2    2\n",
      "x  + y \n",
      "expr1=\n",
      "   2\n",
      "2⋅x \n",
      "expr2=\n",
      " 2      2   \n",
      "x  + sin (x)\n",
      "expr3=\n",
      "13\n"
     ]
    }
   ],
   "source": [
    "expr=x**2+y**2\n",
    "print(\"expr0=\")\n",
    "pprint(expr)\n",
    "print(\"expr1=\")\n",
    "pprint(expr.subs(y,x))\n",
    "print(\"expr2=\")\n",
    "pprint(expr.subs(y,sin(x)))\n",
    "print(\"expr3=\")\n",
    "pprint(expr.subs(x,2).subs(y,3))"
   ]
  },
  {
   "cell_type": "markdown",
   "id": "aca07eb7",
   "metadata": {
    "slideshow": {
     "slide_type": "slide"
    }
   },
   "source": [
    "### 1.3 Simpify, evalf and Lambdify\n",
    "One cool feature of sympy is that it allows to parse a simple string and covert into a sympy expression"
   ]
  },
  {
   "cell_type": "code",
   "execution_count": 59,
   "id": "19f3e2ff",
   "metadata": {
    "slideshow": {
     "slide_type": "subslide"
    }
   },
   "outputs": [
    {
     "name": "stdout",
     "output_type": "stream",
     "text": [
      "<class 'str'>\n",
      "<class 'sympy.core.add.Add'>\n",
      " 2          \n",
      "x  + 3⋅x + 2\n",
      "6\n",
      "10   4\n",
      "── + ─\n",
      "5    2\n"
     ]
    }
   ],
   "source": [
    "expr=\"x**2+3*x+2\" \n",
    "print(type(expr))\n",
    "expr1=sympify(expr) \n",
    "print(type(expr1))\n",
    "pprint(expr1)\n",
    "print(expr1.subs(x,1))\n",
    "## yet another example\n",
    "pprint(sympify(\"10/5+4/2\", evaluate=False))"
   ]
  },
  {
   "cell_type": "markdown",
   "id": "2107a00f",
   "metadata": {
    "slideshow": {
     "slide_type": "slide"
    }
   },
   "source": [
    "Let's look at another example, now introducing evalf\n"
   ]
  },
  {
   "cell_type": "code",
   "execution_count": 64,
   "id": "0f1d9bc5",
   "metadata": {
    "slideshow": {
     "slide_type": "subslide"
    }
   },
   "outputs": [
    {
     "data": {
      "text/latex": [
       "$\\displaystyle 33.333333333333333333$"
      ],
      "text/plain": [
       "33.333333333333333333"
      ]
     },
     "execution_count": 64,
     "metadata": {},
     "output_type": "execute_result"
    }
   ],
   "source": [
    "a,b=symbols(\"a b\")\n",
    "expr=sympify(\"a/b\")\n",
    "## evaluate the expression, with 20 digits of precision\n",
    "expr.evalf(20, subs={a:100, b:3})"
   ]
  },
  {
   "cell_type": "markdown",
   "id": "b13d367c",
   "metadata": {
    "slideshow": {
     "slide_type": "slide"
    }
   },
   "source": [
    "The opposite to sympify is done by Lambdify. It converts and expression into a python function!"
   ]
  },
  {
   "cell_type": "code",
   "execution_count": 66,
   "id": "bd6c6d97",
   "metadata": {
    "slideshow": {
     "slide_type": "subslide"
    }
   },
   "outputs": [
    {
     "name": "stdout",
     "output_type": "stream",
     "text": [
      "13\n"
     ]
    }
   ],
   "source": [
    "expr=a**2+b**2 \n",
    "f=lambdify([a,b],expr) \n",
    "print(f(2,3))"
   ]
  },
  {
   "cell_type": "code",
   "execution_count": null,
   "id": "32cf1eae",
   "metadata": {},
   "outputs": [],
   "source": []
  }
 ],
 "metadata": {
  "celltoolbar": "Slideshow",
  "kernelspec": {
   "display_name": "Python 3",
   "language": "python",
   "name": "python3"
  },
  "language_info": {
   "codemirror_mode": {
    "name": "ipython",
    "version": 3
   },
   "file_extension": ".py",
   "mimetype": "text/x-python",
   "name": "python",
   "nbconvert_exporter": "python",
   "pygments_lexer": "ipython3",
   "version": "3.7.9"
  }
 },
 "nbformat": 4,
 "nbformat_minor": 5
}
