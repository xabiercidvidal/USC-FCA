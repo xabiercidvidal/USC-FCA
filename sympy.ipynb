{
 "cells": [
  {
   "cell_type": "markdown",
   "id": "d34172c1",
   "metadata": {
    "slideshow": {
     "slide_type": "slide"
    }
   },
   "source": [
    "# Advanced Computational Physics \n",
    "\n",
    "\n",
    "## More about Python: Functions, Classes and Symbolic computing\n",
    "### Symbolic computing\n",
    "\n",
    "\n",
    "#### *X. Cid Vidal*\n",
    "####  USC, October 2024 "
   ]
  },
  {
   "cell_type": "code",
   "execution_count": 1,
   "id": "3d31617e",
   "metadata": {
    "slideshow": {
     "slide_type": "fragment"
    }
   },
   "outputs": [
    {
     "name": "stdout",
     "output_type": "stream",
     "text": [
      "Last revision  Wed Nov  6 14:03:29 2024\n"
     ]
    }
   ],
   "source": [
    "import time\n",
    "print('Last revision ', time.asctime())"
   ]
  },
  {
   "cell_type": "markdown",
   "id": "018fa833",
   "metadata": {
    "slideshow": {
     "slide_type": "slide"
    }
   },
   "source": [
    "### 1. Introduction to symbolic computing\n",
    "Symbolic computing is a very handy tool to manipulate math expressions symbolically, not numerically. With symbolic computing we can:\n",
    " - Represent precise mathematical objects for exact manipulation.\n",
    " - Perform tasks like simplification, differentiation, and integration symbolically.\n",
    " - Handle complex math as that used in science and engineering."
   ]
  },
  {
   "cell_type": "markdown",
   "id": "96f1a1a3",
   "metadata": {
    "slideshow": {
     "slide_type": "fragment"
    }
   },
   "source": [
    "<img src=\"https://miro.medium.com/v2/resize:fit:563/1*DVd8MRxm1kYxwgucciLiXw.png\" alt=\"drawing\" width=\"450\"/>"
   ]
  },
  {
   "cell_type": "markdown",
   "id": "73855066",
   "metadata": {
    "slideshow": {
     "slide_type": "slide"
    }
   },
   "source": [
    "### 1.1 Sympy\n",
    "Sympy is the **very powerful** Python library for symbolic mathematics. It allows to perform various symbolic operations like algebra and calculus, supporting tasks such as simplification, differentiation, and integration.\n",
    "An excellent documentation can be found [here](https://docs.sympy.org/latest/index.html).\n",
    "Let's see an example:"
   ]
  },
  {
   "cell_type": "code",
   "execution_count": 2,
   "id": "20b8386f",
   "metadata": {
    "slideshow": {
     "slide_type": "slide"
    }
   },
   "outputs": [
    {
     "name": "stdout",
     "output_type": "stream",
     "text": [
      "3.4641016151377544\n",
      "2*sqrt(3)\n"
     ]
    }
   ],
   "source": [
    "import sympy\n",
    "import math\n",
    "print (math.sqrt(12))\n",
    "print (sympy.sqrt(12))"
   ]
  },
  {
   "cell_type": "code",
   "execution_count": 3,
   "id": "8dc21e56",
   "metadata": {
    "slideshow": {
     "slide_type": "fragment"
    }
   },
   "outputs": [
    {
     "name": "stdout",
     "output_type": "stream",
     "text": [
      "Unicode\n",
      "         2   \n",
      "2⋅x + sin (x)\n",
      "2⋅sin(x)⋅cos(x) + 2\n",
      "LaTex\n",
      "2 x + \\sin^{2}{\\left(x \\right)}\n",
      "2 \\sin{\\left(x \\right)} \\cos{\\left(x \\right)} + 2\n"
     ]
    }
   ],
   "source": [
    "from sympy import *\n",
    "\n",
    "x = symbols(\"x\")\n",
    "expr = sin(x)**2 + 2*x\n",
    "exprd = diff(expr)\n",
    "print(\"Unicode\")\n",
    "pprint(expr,use_unicode=True)\n",
    "pprint(exprd,use_unicode=True)\n",
    "print(\"LaTex\")\n",
    "print(latex(expr))\n",
    "print(latex(exprd))"
   ]
  },
  {
   "cell_type": "markdown",
   "id": "9402412f",
   "metadata": {
    "slideshow": {
     "slide_type": "slide"
    }
   },
   "source": [
    "### 1.2 Symbols\n",
    "The most crucial category within the SymPy library is the 'Symbol' class, which is essential for carrying out symbolic computations. The variables in SymPy are instances of the 'Symbols' class."
   ]
  },
  {
   "cell_type": "code",
   "execution_count": 4,
   "id": "ff250b01",
   "metadata": {
    "slideshow": {
     "slide_type": "fragment"
    }
   },
   "outputs": [
    {
     "data": {
      "text/latex": [
       "$\\displaystyle x^{2} + y^{2}$"
      ],
      "text/plain": [
       "x**2 + y**2"
      ]
     },
     "execution_count": 4,
     "metadata": {},
     "output_type": "execute_result"
    }
   ],
   "source": [
    "from sympy import Symbol, symbols\n",
    "x=Symbol('x') \n",
    "y=Symbol('y') \n",
    "expr=x**2+y**2 \n",
    "expr"
   ]
  },
  {
   "cell_type": "markdown",
   "id": "26f74d62",
   "metadata": {
    "slideshow": {
     "slide_type": "slide"
    }
   },
   "source": [
    "Other definitions are possible"
   ]
  },
  {
   "cell_type": "code",
   "execution_count": 5,
   "id": "f89415da",
   "metadata": {
    "slideshow": {
     "slide_type": "fragment"
    }
   },
   "outputs": [
    {
     "name": "stdout",
     "output_type": "stream",
     "text": [
      "x y c d\n",
      "side**3\n",
      "(mark1, mark2, mark3)\n"
     ]
    }
   ],
   "source": [
    "x,y=symbols('x y')\n",
    "c,d=symbols('c,d')\n",
    "print(x,y,c,d)\n",
    "######\n",
    "s=Symbol('side') \n",
    "print(s**3)\n",
    "######\n",
    "print(symbols('mark(1:4)'))\n"
   ]
  },
  {
   "cell_type": "markdown",
   "id": "9cc4e649",
   "metadata": {
    "slideshow": {
     "slide_type": "slide"
    }
   },
   "source": [
    "One can easily replace a symbol by:\n",
    "\n",
    " a) another one\n",
    "\n",
    " b) an expression\n",
    "\n",
    " c) a number"
   ]
  },
  {
   "cell_type": "code",
   "execution_count": 6,
   "id": "a5b827b6",
   "metadata": {
    "slideshow": {
     "slide_type": "fragment"
    }
   },
   "outputs": [
    {
     "name": "stdout",
     "output_type": "stream",
     "text": [
      "expr0=\n",
      " 2    2\n",
      "x  + y \n",
      "expr1=\n",
      "   2\n",
      "2⋅x \n",
      "expr2=\n",
      " 2      2   \n",
      "x  + sin (x)\n",
      "expr3=\n",
      "13\n"
     ]
    }
   ],
   "source": [
    "expr=x**2+y**2\n",
    "print(\"expr0=\")\n",
    "pprint(expr)\n",
    "print(\"expr1=\")\n",
    "pprint(expr.subs(y,x))\n",
    "print(\"expr2=\")\n",
    "pprint(expr.subs(y,sin(x)))\n",
    "print(\"expr3=\")\n",
    "pprint(expr.subs(x,2).subs(y,3))"
   ]
  },
  {
   "cell_type": "markdown",
   "id": "aca07eb7",
   "metadata": {
    "slideshow": {
     "slide_type": "slide"
    }
   },
   "source": [
    "### 1.3 Simpify, evalf and Lambdify\n",
    "One cool feature of sympy is that it allows to parse a simple string and covert into a sympy expression"
   ]
  },
  {
   "cell_type": "code",
   "execution_count": 7,
   "id": "19f3e2ff",
   "metadata": {
    "slideshow": {
     "slide_type": "fragment"
    }
   },
   "outputs": [
    {
     "name": "stdout",
     "output_type": "stream",
     "text": [
      "<class 'str'>\n",
      "<class 'sympy.core.add.Add'>\n",
      " 2          \n",
      "x  + 3⋅x + 2\n",
      "6\n",
      "10   4\n",
      "── + ─\n",
      "5    2\n"
     ]
    }
   ],
   "source": [
    "expr=\"x**2+3*x+2\" \n",
    "print(type(expr))\n",
    "expr1=sympify(expr) \n",
    "print(type(expr1))\n",
    "pprint(expr1)\n",
    "print(expr1.subs(x,1))\n",
    "## yet another example\n",
    "pprint(sympify(\"10/5+4/2\", evaluate=False))"
   ]
  },
  {
   "cell_type": "markdown",
   "id": "2107a00f",
   "metadata": {
    "slideshow": {
     "slide_type": "slide"
    }
   },
   "source": [
    "Let's look at another example, now introducing evalf\n"
   ]
  },
  {
   "cell_type": "code",
   "execution_count": 8,
   "id": "0f1d9bc5",
   "metadata": {
    "slideshow": {
     "slide_type": "fragment"
    }
   },
   "outputs": [
    {
     "data": {
      "text/latex": [
       "$\\displaystyle 33.333333333333333333$"
      ],
      "text/plain": [
       "33.333333333333333333"
      ]
     },
     "execution_count": 8,
     "metadata": {},
     "output_type": "execute_result"
    }
   ],
   "source": [
    "a,b=symbols(\"a b\")\n",
    "expr=sympify(\"a/b\")\n",
    "## evaluate the expression, with 20 digits of precision\n",
    "expr.evalf(20, subs={a:100, b:3})"
   ]
  },
  {
   "cell_type": "markdown",
   "id": "b13d367c",
   "metadata": {
    "slideshow": {
     "slide_type": "slide"
    }
   },
   "source": [
    "The opposite to sympify is done by Lambdify. It converts an expression into a python function!"
   ]
  },
  {
   "cell_type": "code",
   "execution_count": 9,
   "id": "bd6c6d97",
   "metadata": {
    "slideshow": {
     "slide_type": "fragment"
    }
   },
   "outputs": [
    {
     "name": "stdout",
     "output_type": "stream",
     "text": [
      "13\n"
     ]
    }
   ],
   "source": [
    "expr=a**2+b**2 \n",
    "f=lambdify([a,b],expr) \n",
    "print(f(2,3))"
   ]
  },
  {
   "cell_type": "markdown",
   "id": "a018d6b4",
   "metadata": {
    "slideshow": {
     "slide_type": "slide"
    }
   },
   "source": [
    "### 1.4 Simplification\n",
    "\n",
    "Sympy allows the manipulation of mathematical expressions: simplification, expansion, factorization...\n",
    "\n",
    "For instance, **simplify** just tries to *generally* arrive to the simplest form of mathematical expressions. **Expand** does the opposite"
   ]
  },
  {
   "cell_type": "code",
   "execution_count": 10,
   "id": "90d87bd7",
   "metadata": {
    "slideshow": {
     "slide_type": "fragment"
    }
   },
   "outputs": [
    {
     "name": "stdout",
     "output_type": "stream",
     "text": [
      "simplify sin(x)**2 + cos(x)**2 -> 1\n",
      "expand: (a+b)**2\n"
     ]
    },
    {
     "data": {
      "text/latex": [
       "$\\displaystyle a^{2} + 2 a b + b^{2}$"
      ],
      "text/plain": [
       "a**2 + 2*a*b + b**2"
      ]
     },
     "execution_count": 10,
     "metadata": {},
     "output_type": "execute_result"
    }
   ],
   "source": [
    "from sympy import * \n",
    "x=Symbol('x')\n",
    "expr=sin(x)**2 + cos(x)**2 \n",
    "print(\"simplify\",expr,'->',simplify(expr))\n",
    "########\n",
    "a,b=symbols('a b') \n",
    "print(\"expand: (a+b)**2\")\n",
    "expand((a+b)**2)\n"
   ]
  },
  {
   "cell_type": "markdown",
   "id": "0ec4b17c",
   "metadata": {
    "slideshow": {
     "slide_type": "slide"
    }
   },
   "source": [
    "Other methods for you to explore are **factor**, **collect**, **cancel**, **trigsimp**..."
   ]
  },
  {
   "cell_type": "markdown",
   "id": "90bf9f10",
   "metadata": {
    "slideshow": {
     "slide_type": "slide"
    }
   },
   "source": [
    "### 1.5 Derivative and integration\n",
    "This is one of the most handy aspects of sympy... Would have been useful in many undergrad courses! :-)\n",
    "\n",
    "The derivatives are just done with **diff**, where one needs to provide an expression and the variable we're differentiating"
   ]
  },
  {
   "cell_type": "code",
   "execution_count": 11,
   "id": "f898b348",
   "metadata": {
    "slideshow": {
     "slide_type": "fragment"
    }
   },
   "outputs": [
    {
     "name": "stdout",
     "output_type": "stream",
     "text": [
      "     ⎛ 2⎞    \n",
      "x⋅sin⎝x ⎠ + 1\n",
      "   2    ⎛ 2⎞      ⎛ 2⎞\n",
      "2⋅x ⋅cos⎝x ⎠ + sin⎝x ⎠\n",
      "0\n"
     ]
    }
   ],
   "source": [
    "from sympy import diff, sin, exp \n",
    "from sympy.abc import x,y \n",
    "expr=x*sin(x*x)+1\n",
    "pprint(expr)\n",
    "pprint(diff(expr,x))\n",
    "pprint(diff(expr,y))"
   ]
  },
  {
   "cell_type": "markdown",
   "id": "e9cd958a",
   "metadata": {
    "slideshow": {
     "slide_type": "slide"
    }
   },
   "source": [
    "One can also compute derivatives of higher order!"
   ]
  },
  {
   "cell_type": "code",
   "execution_count": 12,
   "id": "d286292a",
   "metadata": {
    "slideshow": {
     "slide_type": "fragment"
    }
   },
   "outputs": [
    {
     "data": {
      "text/plain": [
       "[5*x**4, 20*x**3, 60*x**2, 120*x, 120, 0]"
      ]
     },
     "execution_count": 12,
     "metadata": {},
     "output_type": "execute_result"
    }
   ],
   "source": [
    "expr = x**5\n",
    "[diff(expr,x,i) for i in range(1,7)]"
   ]
  },
  {
   "cell_type": "markdown",
   "id": "0e387d7c",
   "metadata": {
    "slideshow": {
     "slide_type": "slide"
    }
   },
   "source": [
    "To integrate, the syntax is what you would expect: integrate(expression,variable) or integrate(expression,(variable,lower_limit,upper_limit))"
   ]
  },
  {
   "cell_type": "code",
   "execution_count": 13,
   "id": "e05174ab",
   "metadata": {
    "slideshow": {
     "slide_type": "fragment"
    }
   },
   "outputs": [
    {
     "data": {
      "text/latex": [
       "$\\displaystyle \\frac{x^{3}}{3} + \\frac{x^{2}}{2} + x$"
      ],
      "text/plain": [
       "x**3/3 + x**2/2 + x"
      ]
     },
     "execution_count": 13,
     "metadata": {},
     "output_type": "execute_result"
    }
   ],
   "source": [
    "from sympy import * \n",
    "x,y = symbols('x y') \n",
    "expr=x**2 + x + 1 \n",
    "integrate(expr, x)"
   ]
  },
  {
   "cell_type": "code",
   "execution_count": 14,
   "id": "4b4339a6",
   "metadata": {
    "slideshow": {
     "slide_type": "fragment"
    }
   },
   "outputs": [
    {
     "data": {
      "text/latex": [
       "$\\displaystyle \\sqrt{\\pi}$"
      ],
      "text/plain": [
       "sqrt(pi)"
      ]
     },
     "execution_count": 14,
     "metadata": {},
     "output_type": "execute_result"
    }
   ],
   "source": [
    "## a definite example, note notation for infinity\n",
    "integrate(exp(-x**2),(x,-oo,oo))"
   ]
  },
  {
   "cell_type": "markdown",
   "id": "d5836851",
   "metadata": {
    "slideshow": {
     "slide_type": "slide"
    }
   },
   "source": [
    "You can also do n-dimensional integrals! Let's get the volume of a radius 1 sphere"
   ]
  },
  {
   "cell_type": "code",
   "execution_count": 15,
   "id": "44bc1d61",
   "metadata": {
    "slideshow": {
     "slide_type": "fragment"
    }
   },
   "outputs": [
    {
     "data": {
      "text/latex": [
       "$\\displaystyle \\frac{4 \\pi}{3}$"
      ],
      "text/plain": [
       "4*pi/3"
      ]
     },
     "execution_count": 15,
     "metadata": {},
     "output_type": "execute_result"
    }
   ],
   "source": [
    "r,theta,phi = symbols(\"r theta phi\")\n",
    "integrate(r**2*sin(theta),(r,0,1),(theta,0,pi),(phi,0,2*pi))"
   ]
  },
  {
   "cell_type": "markdown",
   "id": "ae846c84",
   "metadata": {
    "slideshow": {
     "slide_type": "slide"
    }
   },
   "source": [
    "Sympy also supports the well-know integral transforms\n",
    " - laplace_transform\n",
    " - fourier_transform\n",
    " - sine_transform\n",
    " - cosine_transform\n",
    " - hankel_transform\n",
    " \n",
    " as well as other important operations, such as limits, Fourier series..."
   ]
  },
  {
   "cell_type": "code",
   "execution_count": 16,
   "id": "643fcfb3",
   "metadata": {
    "slideshow": {
     "slide_type": "fragment"
    }
   },
   "outputs": [
    {
     "data": {
      "text/latex": [
       "$\\displaystyle \\frac{2 \\sin{\\left(x \\right)}}{\\pi} + \\frac{2 \\sin{\\left(3 x \\right)}}{3 \\pi} + \\frac{1}{2} + \\ldots$"
      ],
      "text/plain": [
       "FourierSeries(Piecewise((0, x < 0), (1, True)), (x, -pi, pi), (1/2, SeqFormula(Piecewise((sin(_n*pi)/_n, (_n > -oo) & (_n < oo) & Ne(_n, 0)), (pi, True))*cos(_n*x)/pi, (_n, 1, oo)), SeqFormula(Piecewise((-cos(_n*pi)/_n + 1/_n, (_n > -oo) & (_n < oo) & Ne(_n, 0)), (0, True))*sin(_n*x)/pi, (_n, 1, oo))))"
      ]
     },
     "execution_count": 16,
     "metadata": {},
     "output_type": "execute_result"
    }
   ],
   "source": [
    "k = Symbol(\"k\")\n",
    "##piecewise function 0<x,1>x\n",
    "f = Piecewise((0,x<0),(1,True))\n",
    "fourier_series(f, (x,-pi,pi))\n"
   ]
  },
  {
   "cell_type": "code",
   "execution_count": 17,
   "id": "4517370a",
   "metadata": {
    "slideshow": {
     "slide_type": "fragment"
    }
   },
   "outputs": [
    {
     "data": {
      "text/latex": [
       "$\\displaystyle 1$"
      ],
      "text/plain": [
       "1"
      ]
     },
     "execution_count": 17,
     "metadata": {},
     "output_type": "execute_result"
    }
   ],
   "source": [
    "limit(sin(x)/x,x,0)"
   ]
  },
  {
   "cell_type": "markdown",
   "id": "0492bad4",
   "metadata": {
    "slideshow": {
     "slide_type": "slide"
    }
   },
   "source": [
    "### 1.6 Matrices\n",
    "Matrices can also dealt with by sympy in a very intuitive way. It allows all sort of operations!"
   ]
  },
  {
   "cell_type": "code",
   "execution_count": 18,
   "id": "d5041e57",
   "metadata": {
    "slideshow": {
     "slide_type": "fragment"
    }
   },
   "outputs": [
    {
     "data": {
      "text/latex": [
       "$\\displaystyle \\left[\\begin{matrix}1 & 2 & 3\\\\2 & 3 & 1\\\\3 & 0 & 1\\end{matrix}\\right]$"
      ],
      "text/plain": [
       "Matrix([\n",
       "[1, 2, 3],\n",
       "[2, 3, 1],\n",
       "[3, 0, 1]])"
      ]
     },
     "execution_count": 18,
     "metadata": {},
     "output_type": "execute_result"
    }
   ],
   "source": [
    "from sympy.matrices import Matrix\n",
    "m=Matrix([[1,2,3],[2,3,1],[3,0,1]]) \n",
    "m"
   ]
  },
  {
   "cell_type": "code",
   "execution_count": 19,
   "id": "4e28babb",
   "metadata": {
    "slideshow": {
     "slide_type": "fragment"
    }
   },
   "outputs": [
    {
     "data": {
      "text/plain": [
       "['C',\n",
       " 'D',\n",
       " 'H',\n",
       " 'LDLdecomposition',\n",
       " 'LDLsolve',\n",
       " 'LUdecomposition',\n",
       " 'LUdecompositionFF',\n",
       " 'LUdecomposition_Simple',\n",
       " 'LUsolve',\n",
       " 'QRdecomposition',\n",
       " 'QRsolve',\n",
       " 'T',\n",
       " '__abs__',\n",
       " '__add__',\n",
       " '__annotations__',\n",
       " '__array__',\n",
       " '__array_priority__',\n",
       " '__class__',\n",
       " '__delattr__',\n",
       " '__dict__',\n",
       " '__dir__',\n",
       " '__doc__',\n",
       " '__eq__',\n",
       " '__format__',\n",
       " '__ge__',\n",
       " '__getattribute__',\n",
       " '__getitem__',\n",
       " '__gt__',\n",
       " '__hash__',\n",
       " '__init__',\n",
       " '__init_subclass__',\n",
       " '__le__',\n",
       " '__len__',\n",
       " '__lt__',\n",
       " '__matmul__',\n",
       " '__mod__',\n",
       " '__module__',\n",
       " '__mul__',\n",
       " '__ne__',\n",
       " '__neg__',\n",
       " '__new__',\n",
       " '__pow__',\n",
       " '__radd__',\n",
       " '__reduce__',\n",
       " '__reduce_ex__',\n",
       " '__repr__',\n",
       " '__rmatmul__',\n",
       " '__rmul__',\n",
       " '__rsub__',\n",
       " '__setattr__',\n",
       " '__setitem__',\n",
       " '__sizeof__',\n",
       " '__slots__',\n",
       " '__str__',\n",
       " '__sub__',\n",
       " '__subclasshook__',\n",
       " '__truediv__',\n",
       " '__weakref__',\n",
       " '_class_priority',\n",
       " '_diff_wrt',\n",
       " '_dod_to_DomainMatrix',\n",
       " '_eval_Abs',\n",
       " '_eval_Mod',\n",
       " '_eval_add',\n",
       " '_eval_adjoint',\n",
       " '_eval_applyfunc',\n",
       " '_eval_as_real_imag',\n",
       " '_eval_atoms',\n",
       " '_eval_col_del',\n",
       " '_eval_col_insert',\n",
       " '_eval_col_join',\n",
       " '_eval_col_op_add_multiple_to_other_col',\n",
       " '_eval_col_op_multiply_col_by_const',\n",
       " '_eval_col_op_swap',\n",
       " '_eval_conjugate',\n",
       " '_eval_derivative',\n",
       " '_eval_det_bareiss',\n",
       " '_eval_det_berkowitz',\n",
       " '_eval_det_lu',\n",
       " '_eval_determinant',\n",
       " '_eval_diag',\n",
       " '_eval_extract',\n",
       " '_eval_eye',\n",
       " '_eval_free_symbols',\n",
       " '_eval_get_diag_blocks',\n",
       " '_eval_has',\n",
       " '_eval_inverse',\n",
       " '_eval_is_Identity',\n",
       " '_eval_is_anti_symmetric',\n",
       " '_eval_is_diagonal',\n",
       " '_eval_is_lower',\n",
       " '_eval_is_lower_hessenberg',\n",
       " '_eval_is_matrix_hermitian',\n",
       " '_eval_is_symbolic',\n",
       " '_eval_is_symmetric',\n",
       " '_eval_is_upper_hessenberg',\n",
       " '_eval_is_zero_matrix',\n",
       " '_eval_jordan_block',\n",
       " '_eval_matrix_exp_jblock',\n",
       " '_eval_matrix_log_jblock',\n",
       " '_eval_matrix_mul',\n",
       " '_eval_matrix_mul_elementwise',\n",
       " '_eval_matrix_rmul',\n",
       " '_eval_ones',\n",
       " '_eval_permute_cols',\n",
       " '_eval_permute_rows',\n",
       " '_eval_pow_by_cayley',\n",
       " '_eval_pow_by_recursion',\n",
       " '_eval_pow_by_recursion_dotprodsimp',\n",
       " '_eval_row_del',\n",
       " '_eval_row_insert',\n",
       " '_eval_row_join',\n",
       " '_eval_row_op_add_multiple_to_other_row',\n",
       " '_eval_row_op_multiply_row_by_const',\n",
       " '_eval_row_op_swap',\n",
       " '_eval_scalar_mul',\n",
       " '_eval_scalar_rmul',\n",
       " '_eval_simplify',\n",
       " '_eval_todok',\n",
       " '_eval_tolist',\n",
       " '_eval_trace',\n",
       " '_eval_transpose',\n",
       " '_eval_trigsimp',\n",
       " '_eval_values',\n",
       " '_eval_vec',\n",
       " '_eval_vech',\n",
       " '_eval_wilkinson',\n",
       " '_eval_zeros',\n",
       " '_flat_list_to_DomainMatrix',\n",
       " '_format_str',\n",
       " '_fromrep',\n",
       " '_handle_creation_inputs',\n",
       " '_handle_ndarray',\n",
       " '_has_nonnegative_diagonals',\n",
       " '_has_positive_diagonals',\n",
       " '_legacy_array_dot',\n",
       " '_mat',\n",
       " '_matrix_pow_by_jordan_blocks',\n",
       " '_new',\n",
       " '_normalize_op_args',\n",
       " '_op_priority',\n",
       " '_rep',\n",
       " '_repr_disabled',\n",
       " '_repr_latex_',\n",
       " '_repr_png_',\n",
       " '_repr_svg_',\n",
       " '_sage_',\n",
       " '_setitem',\n",
       " '_simplify',\n",
       " '_smat_to_DomainMatrix',\n",
       " '_sympify',\n",
       " '_unify_element_sympy',\n",
       " 'add',\n",
       " 'adjoint',\n",
       " 'adjugate',\n",
       " 'analytic_func',\n",
       " 'applyfunc',\n",
       " 'as_immutable',\n",
       " 'as_mutable',\n",
       " 'as_real_imag',\n",
       " 'atoms',\n",
       " 'berkowitz',\n",
       " 'berkowitz_charpoly',\n",
       " 'berkowitz_det',\n",
       " 'berkowitz_eigenvals',\n",
       " 'berkowitz_minors',\n",
       " 'bidiagonal_decomposition',\n",
       " 'bidiagonalize',\n",
       " 'charpoly',\n",
       " 'cholesky',\n",
       " 'cholesky_solve',\n",
       " 'cofactor',\n",
       " 'cofactorMatrix',\n",
       " 'cofactor_matrix',\n",
       " 'col',\n",
       " 'col_del',\n",
       " 'col_insert',\n",
       " 'col_join',\n",
       " 'col_op',\n",
       " 'col_swap',\n",
       " 'cols',\n",
       " 'columnspace',\n",
       " 'companion',\n",
       " 'condition_number',\n",
       " 'conjugate',\n",
       " 'connected_components',\n",
       " 'connected_components_decomposition',\n",
       " 'copy',\n",
       " 'copyin_list',\n",
       " 'copyin_matrix',\n",
       " 'cross',\n",
       " 'det',\n",
       " 'det_LU_decomposition',\n",
       " 'det_bareis',\n",
       " 'diag',\n",
       " 'diagonal',\n",
       " 'diagonal_solve',\n",
       " 'diagonalize',\n",
       " 'diff',\n",
       " 'doit',\n",
       " 'dot',\n",
       " 'dual',\n",
       " 'echelon_form',\n",
       " 'eigenvals',\n",
       " 'eigenvects',\n",
       " 'elementary_col_op',\n",
       " 'elementary_row_op',\n",
       " 'equals',\n",
       " 'evalf',\n",
       " 'exp',\n",
       " 'expand',\n",
       " 'extract',\n",
       " 'eye',\n",
       " 'fill',\n",
       " 'flat',\n",
       " 'free_symbols',\n",
       " 'gauss_jordan_solve',\n",
       " 'get_diag_blocks',\n",
       " 'has',\n",
       " 'hstack',\n",
       " 'integrate',\n",
       " 'inv',\n",
       " 'inv_mod',\n",
       " 'inverse_ADJ',\n",
       " 'inverse_BLOCK',\n",
       " 'inverse_CH',\n",
       " 'inverse_GE',\n",
       " 'inverse_LDL',\n",
       " 'inverse_LU',\n",
       " 'inverse_QR',\n",
       " 'irregular',\n",
       " 'is_Identity',\n",
       " 'is_Matrix',\n",
       " 'is_MatrixExpr',\n",
       " 'is_anti_symmetric',\n",
       " 'is_diagonal',\n",
       " 'is_diagonalizable',\n",
       " 'is_echelon',\n",
       " 'is_hermitian',\n",
       " 'is_indefinite',\n",
       " 'is_lower',\n",
       " 'is_lower_hessenberg',\n",
       " 'is_negative_definite',\n",
       " 'is_negative_semidefinite',\n",
       " 'is_nilpotent',\n",
       " 'is_positive_definite',\n",
       " 'is_positive_semidefinite',\n",
       " 'is_square',\n",
       " 'is_strongly_diagonally_dominant',\n",
       " 'is_symbolic',\n",
       " 'is_symmetric',\n",
       " 'is_upper',\n",
       " 'is_upper_hessenberg',\n",
       " 'is_weakly_diagonally_dominant',\n",
       " 'is_zero',\n",
       " 'is_zero_matrix',\n",
       " 'jacobian',\n",
       " 'jordan_block',\n",
       " 'jordan_cell',\n",
       " 'jordan_cells',\n",
       " 'jordan_form',\n",
       " 'key2bounds',\n",
       " 'key2ij',\n",
       " 'kind',\n",
       " 'left_eigenvects',\n",
       " 'limit',\n",
       " 'log',\n",
       " 'lower_triangular',\n",
       " 'lower_triangular_solve',\n",
       " 'minor',\n",
       " 'minorEntry',\n",
       " 'minorMatrix',\n",
       " 'minor_submatrix',\n",
       " 'multiply',\n",
       " 'multiply_elementwise',\n",
       " 'n',\n",
       " 'norm',\n",
       " 'normalized',\n",
       " 'nullspace',\n",
       " 'one',\n",
       " 'ones',\n",
       " 'orthogonalize',\n",
       " 'per',\n",
       " 'permute',\n",
       " 'permuteBkwd',\n",
       " 'permuteFwd',\n",
       " 'permute_cols',\n",
       " 'permute_rows',\n",
       " 'pinv',\n",
       " 'pinv_solve',\n",
       " 'pow',\n",
       " 'print_nonzero',\n",
       " 'project',\n",
       " 'rank',\n",
       " 'rank_decomposition',\n",
       " 'refine',\n",
       " 'replace',\n",
       " 'reshape',\n",
       " 'rmultiply',\n",
       " 'rot90',\n",
       " 'row',\n",
       " 'row_del',\n",
       " 'row_insert',\n",
       " 'row_join',\n",
       " 'row_op',\n",
       " 'row_swap',\n",
       " 'rows',\n",
       " 'rowspace',\n",
       " 'rref',\n",
       " 'shape',\n",
       " 'simplify',\n",
       " 'singular_value_decomposition',\n",
       " 'singular_values',\n",
       " 'solve',\n",
       " 'solve_least_squares',\n",
       " 'strongly_connected_components',\n",
       " 'strongly_connected_components_decomposition',\n",
       " 'subs',\n",
       " 'table',\n",
       " 'todod',\n",
       " 'todok',\n",
       " 'tolist',\n",
       " 'trace',\n",
       " 'transpose',\n",
       " 'upper_hessenberg_decomposition',\n",
       " 'upper_triangular',\n",
       " 'upper_triangular_solve',\n",
       " 'values',\n",
       " 'vec',\n",
       " 'vech',\n",
       " 'vstack',\n",
       " 'wilkinson',\n",
       " 'xreplace',\n",
       " 'zero',\n",
       " 'zeros',\n",
       " 'zip_row_op']"
      ]
     },
     "execution_count": 19,
     "metadata": {},
     "output_type": "execute_result"
    }
   ],
   "source": [
    "dir(m)"
   ]
  },
  {
   "cell_type": "code",
   "execution_count": 20,
   "id": "7b81c5e9",
   "metadata": {
    "slideshow": {
     "slide_type": "slide"
    }
   },
   "outputs": [
    {
     "data": {
      "text/latex": [
       "$\\displaystyle \\left[\\begin{matrix}- \\frac{3}{22} & \\frac{1}{11} & \\frac{7}{22}\\\\- \\frac{1}{22} & \\frac{4}{11} & - \\frac{5}{22}\\\\\\frac{9}{22} & - \\frac{3}{11} & \\frac{1}{22}\\end{matrix}\\right]$"
      ],
      "text/plain": [
       "Matrix([\n",
       "[-3/22,  1/11,  7/22],\n",
       "[-1/22,  4/11, -5/22],\n",
       "[ 9/22, -3/11,  1/22]])"
      ]
     },
     "execution_count": 20,
     "metadata": {},
     "output_type": "execute_result"
    }
   ],
   "source": [
    "m.inv()"
   ]
  },
  {
   "cell_type": "code",
   "execution_count": 21,
   "id": "49ceced3",
   "metadata": {
    "slideshow": {
     "slide_type": "fragment"
    }
   },
   "outputs": [
    {
     "data": {
      "text/latex": [
       "$\\displaystyle \\left[\\begin{matrix}1 & 6 & 6\\\\4 & 3 & 2\\\\4 & 0 & 2\\end{matrix}\\right]$"
      ],
      "text/plain": [
       "Matrix([\n",
       "[1, 6, 6],\n",
       "[4, 3, 2],\n",
       "[4, 0, 2]])"
      ]
     },
     "execution_count": 21,
     "metadata": {},
     "output_type": "execute_result"
    }
   ],
   "source": [
    "m2=Matrix([[0,4,3],[2,0,1],[1,0,1]])\n",
    "m+m2"
   ]
  },
  {
   "cell_type": "code",
   "execution_count": 22,
   "id": "8dbcfe81",
   "metadata": {
    "slideshow": {
     "slide_type": "fragment"
    }
   },
   "outputs": [
    {
     "data": {
      "text/latex": [
       "$\\displaystyle \\left[\\begin{matrix}7 & 4 & 8\\\\7 & 8 & 10\\\\1 & 12 & 10\\end{matrix}\\right]$"
      ],
      "text/plain": [
       "Matrix([\n",
       "[7,  4,  8],\n",
       "[7,  8, 10],\n",
       "[1, 12, 10]])"
      ]
     },
     "execution_count": 22,
     "metadata": {},
     "output_type": "execute_result"
    }
   ],
   "source": [
    "m*m2"
   ]
  },
  {
   "cell_type": "markdown",
   "id": "67872922",
   "metadata": {
    "slideshow": {
     "slide_type": "slide"
    }
   },
   "source": [
    "### 1.7 Geometry\n",
    "The geometry module is very handy to deal with 2D or even 3D entities!"
   ]
  },
  {
   "cell_type": "code",
   "execution_count": 23,
   "id": "5df2e009",
   "metadata": {
    "slideshow": {
     "slide_type": "fragment"
    }
   },
   "outputs": [
    {
     "name": "stdout",
     "output_type": "stream",
     "text": [
      "True\n",
      "False\n"
     ]
    }
   ],
   "source": [
    "from sympy.geometry import Point \n",
    "from sympy import * \n",
    "x=Point(0,0) \n",
    "y=Point(2,2) \n",
    "z=Point(4,4) \n",
    "print(Point.is_collinear(x,y,z))\n",
    "######\n",
    "x=Point(0,0,0) \n",
    "y=Point(2,2,2) \n",
    "z=Point(4,4,0) \n",
    "print(Point.is_collinear(x,y,z))"
   ]
  },
  {
   "cell_type": "code",
   "execution_count": 24,
   "id": "dd8923da",
   "metadata": {
    "slideshow": {
     "slide_type": "slide"
    }
   },
   "outputs": [
    {
     "data": {
      "text/plain": [
       "[Point2D(5/2, 5/2)]"
      ]
     },
     "execution_count": 24,
     "metadata": {},
     "output_type": "execute_result"
    }
   ],
   "source": [
    "from sympy.geometry import Point, Line \n",
    "p1, p2=Point(0,5), Point(5,0) \n",
    "l1=Line(p1,p2)\n",
    "l2=Line(Point(0,0), Point(5,5)) \n",
    "l1.intersection(l2)"
   ]
  },
  {
   "cell_type": "code",
   "execution_count": 25,
   "id": "570e2db1",
   "metadata": {
    "slideshow": {
     "slide_type": "fragment"
    }
   },
   "outputs": [
    {
     "data": {
      "text/latex": [
       "$\\displaystyle \\sqrt{x^{2} + y^{2} + z^{2}}$"
      ],
      "text/plain": [
       "sqrt(x**2 + y**2 + z**2)"
      ]
     },
     "execution_count": 25,
     "metadata": {},
     "output_type": "execute_result"
    }
   ],
   "source": [
    "## yet another example...\n",
    "x,y,z=symbols('x y z') \n",
    "p=Point(x,y,z) \n",
    "p.distance(Point(0,0,0))"
   ]
  },
  {
   "cell_type": "code",
   "execution_count": 26,
   "id": "96d15184",
   "metadata": {
    "slideshow": {
     "slide_type": "fragment"
    }
   },
   "outputs": [
    {
     "data": {
      "text/latex": [
       "$\\displaystyle x^{2} + y^{2} - 25$"
      ],
      "text/plain": [
       "x**2 + y**2 - 25"
      ]
     },
     "execution_count": 26,
     "metadata": {},
     "output_type": "execute_result"
    }
   ],
   "source": [
    "## and one more\n",
    "c1 = Circle(Point(0, 0), 5)\n",
    "c1.equation(x,y)"
   ]
  },
  {
   "cell_type": "markdown",
   "id": "6615dd33",
   "metadata": {
    "slideshow": {
     "slide_type": "slide"
    }
   },
   "source": [
    "### 1.8 Solvers\n",
    "Sympy also provides a number of solvers, useful to deal with linear or non linear systems. They can provide numeric or algebraic solutions.\n",
    "By default, the solvers provide a solution assuming an expr equals 0.\n",
    "The easiest solves are **solve** and **nsolve**. Nsolve just works numerically!"
   ]
  },
  {
   "cell_type": "code",
   "execution_count": 27,
   "id": "85bf46c0",
   "metadata": {
    "slideshow": {
     "slide_type": "fragment"
    }
   },
   "outputs": [
    {
     "name": "stdout",
     "output_type": "stream",
     "text": [
      "sols for y are:\n",
      "[-x, x]\n",
      "sols for x are:\n",
      "[1]\n",
      "sols for x are:\n",
      "8.09071740515548\n",
      "test\n",
      "4.44089209850063e-16\n"
     ]
    }
   ],
   "source": [
    "from sympy import *\n",
    "x,y = symbols(\"x y\")\n",
    "## solve the expression x**2-y**2=0, where the variable is y\n",
    "print(\"sols for y are:\")\n",
    "print(solve(x**2-y**2,y))\n",
    "\n",
    "## now numerically\n",
    "print(\"sols for x are:\")\n",
    "print(solve(x**2-2*x+1,x))\n",
    "\n",
    "\n",
    "\n",
    "## more complex case\n",
    "print(\"sols for x are:\")\n",
    "### note, the third argument is an initial value to start looking around\n",
    "expr=log(x)-x+6\n",
    "res=nsolve(expr,x,5)\n",
    "print(res)\n",
    "print(\"test\")\n",
    "print(expr.subs(x,res))\n"
   ]
  },
  {
   "cell_type": "markdown",
   "id": "8f14b0c3",
   "metadata": {
    "slideshow": {
     "slide_type": "slide"
    }
   },
   "source": [
    "**linsolve** allows to solve a set of linear equations\n",
    "\n",
    "\\begin{cases}\n",
    " & x-y=1 \\\\ \n",
    " & x+y=2 \n",
    "\\end{cases}"
   ]
  },
  {
   "cell_type": "code",
   "execution_count": 28,
   "id": "b985e2ac",
   "metadata": {
    "slideshow": {
     "slide_type": "fragment"
    }
   },
   "outputs": [
    {
     "data": {
      "text/latex": [
       "$\\displaystyle \\left\\{\\left( \\frac{3}{2}, \\  \\frac{1}{2}\\right)\\right\\}$"
      ],
      "text/plain": [
       "{(3/2, 1/2)}"
      ]
     },
     "execution_count": 28,
     "metadata": {},
     "output_type": "execute_result"
    }
   ],
   "source": [
    "linsolve([x-y-1,x+y-2],(x,y))"
   ]
  },
  {
   "cell_type": "markdown",
   "id": "4bb4b95d",
   "metadata": {
    "slideshow": {
     "slide_type": "slide"
    }
   },
   "source": [
    "**nonlinesolve** works for other cases\n",
    "\n",
    "\\begin{cases}\n",
    " & a^2+a=0 \\\\ \n",
    " & a-b=0 \n",
    "\\end{cases}"
   ]
  },
  {
   "cell_type": "code",
   "execution_count": 29,
   "id": "47d9c41d",
   "metadata": {
    "slideshow": {
     "slide_type": "fragment"
    }
   },
   "outputs": [
    {
     "data": {
      "text/latex": [
       "$\\displaystyle \\left\\{\\left( -1, \\  -1\\right), \\left( 0, \\  0\\right)\\right\\}$"
      ],
      "text/plain": [
       "{(-1, -1), (0, 0)}"
      ]
     },
     "execution_count": 29,
     "metadata": {},
     "output_type": "execute_result"
    }
   ],
   "source": [
    "a,b=symbols('a b') \n",
    "nonlinsolve([a**2 + a, a - b], [a, b])"
   ]
  },
  {
   "cell_type": "markdown",
   "id": "80ec84f1",
   "metadata": {
    "slideshow": {
     "slide_type": "slide"
    }
   },
   "source": [
    "One can even solve differential equations with **dsolve**!!\n",
    "It's fairly easy, let's try to solve\n",
    "\n",
    "$f(x)-f'(x)=sin(x)$"
   ]
  },
  {
   "cell_type": "code",
   "execution_count": 30,
   "id": "30622a26",
   "metadata": {
    "slideshow": {
     "slide_type": "fragment"
    }
   },
   "outputs": [
    {
     "data": {
      "text/latex": [
       "$\\displaystyle f{\\left(x \\right)} = C_{1} e^{x} + \\frac{\\sin{\\left(x \\right)}}{2} + \\frac{\\cos{\\left(x \\right)}}{2}$"
      ],
      "text/plain": [
       "Eq(f(x), C1*exp(x) + sin(x)/2 + cos(x)/2)"
      ]
     },
     "execution_count": 30,
     "metadata": {},
     "output_type": "execute_result"
    }
   ],
   "source": [
    "x=Symbol('x') \n",
    "f=symbols('f', cls=Function) \n",
    "dsolve(f(x)-diff(f(x),x)- sin(x), f(x))\n"
   ]
  },
  {
   "cell_type": "markdown",
   "id": "45d8c205",
   "metadata": {
    "slideshow": {
     "slide_type": "slide"
    }
   },
   "source": [
    "### 1.9 Plotters\n",
    "Together with matplotlib, sympy can also plot expressions!\n",
    "Let's see some examples"
   ]
  },
  {
   "cell_type": "code",
   "execution_count": 31,
   "id": "cd59c2df",
   "metadata": {
    "slideshow": {
     "slide_type": "fragment"
    }
   },
   "outputs": [
    {
     "data": {
      "image/png": "[encoded data removed]",
      "text/plain": [
       "<Figure size 432x288 with 1 Axes>"
      ]
     },
     "metadata": {
      "needs_background": "light"
     },
     "output_type": "display_data"
    },
    {
     "data": {
      "text/plain": [
       "<sympy.plotting.plot.Plot at 0x12e269110>"
      ]
     },
     "execution_count": 31,
     "metadata": {},
     "output_type": "execute_result"
    }
   ],
   "source": [
    "from sympy.plotting import plot \n",
    "from sympy import * \n",
    "x=Symbol('x') \n",
    "plot(x**2, line_color='red')"
   ]
  },
  {
   "cell_type": "code",
   "execution_count": 32,
   "id": "7d26f36e",
   "metadata": {
    "slideshow": {
     "slide_type": "slide"
    }
   },
   "outputs": [
    {
     "data": {
      "image/png": "[encoded data removed]",
      "text/plain": [
       "<Figure size 432x288 with 1 Axes>"
      ]
     },
     "metadata": {
      "needs_background": "light"
     },
     "output_type": "display_data"
    },
    {
     "data": {
      "text/plain": [
       "<sympy.plotting.plot.Plot at 0x140def2d0>"
      ]
     },
     "execution_count": 32,
     "metadata": {},
     "output_type": "execute_result"
    }
   ],
   "source": [
    "plot( sin(x),cos(x), (x, -pi, pi),xlabel=\"x (m)\",ylabel=\"something\")"
   ]
  },
  {
   "cell_type": "code",
   "execution_count": 33,
   "id": "20a21e26",
   "metadata": {
    "slideshow": {
     "slide_type": "slide"
    }
   },
   "outputs": [
    {
     "data": {
      "image/png": "[encoded data removed]",
      "text/plain": [
       "<Figure size 432x288 with 1 Axes>"
      ]
     },
     "metadata": {
      "needs_background": "light"
     },
     "output_type": "display_data"
    },
    {
     "data": {
      "text/plain": [
       "<sympy.plotting.plot.Plot at 0x1419aaf50>"
      ]
     },
     "execution_count": 33,
     "metadata": {},
     "output_type": "execute_result"
    }
   ],
   "source": [
    "from sympy.plotting import plot3d \n",
    "x,y=symbols('x y') \n",
    "plot3d(x**2+y**2, (x, -10,10), (y, -10,10))"
   ]
  },
  {
   "cell_type": "markdown",
   "id": "f841dee9",
   "metadata": {
    "slideshow": {
     "slide_type": "slide"
    }
   },
   "source": [
    "### Exercises\n",
    "\n",
    "1. Create a symbol x and an expression $f = x^2 + 2x - 3$. Then, find the value of f when x = 5.\n",
    "\n",
    "2. Factor the polynomial $x^3 - 3x^2 + 2x - 6$ and find its roots.\n",
    "\n",
    "3. Integrate the function $sin(x)cos(x)$ with respect to x, both generally and in the interval $-\\pi,\\pi$\n",
    "\n",
    "4. Solve the system of equations $2x + 3y = 5, 3x - 2y = 7$ for x and y\n",
    "\n",
    "5. Create a 2x2 matrix A = [[1, 2], [3, 4]] and find its inverse, determinant, and eigenvalues."
   ]
  },
  {
   "cell_type": "markdown",
   "id": "f1daf6c9",
   "metadata": {
    "slideshow": {
     "slide_type": "slide"
    }
   },
   "source": [
    "### ++ Exercise\n",
    "\n",
    "I really love Audi cars, so I am seriously considering to build a small gold keychain of the Audi logo.\n",
    "\n",
    "<img src=\"https://media.printables.com/media/prints/639027/images/5050615_37130c9e-4c22-45c9-b13c-16489c50498b_3d2be0fe-c9c7-417d-9594-d251d58ffb59/audi-symbol.png\" alt=\"drawing\" width=\"250\"/>\n",
    "\n",
    "Each outer ring would have an outer radius of 3/4 cm, and an inner radius of $\\sqrt{7}/4$ cm, and the center of each ring would be located at -2,-1,0 and 1 cm. Then the thickness of the keychain would be 0.5 cm. Could you please use sympy to:\n",
    "\n",
    "1. Parameterize the rings\n",
    "\n",
    "2. Plot them\n",
    "\n",
    "3. Obtain the combined volume of all the rings (you can neglect the intersections)\n",
    "\n",
    "4. Provide me with an estimate of the price, assuming the cost of gold to be 59 €/g and its density 19.32 g/cm$^3$"
   ]
  },
  {
   "cell_type": "code",
   "execution_count": null,
   "id": "96537aa8",
   "metadata": {},
   "outputs": [],
   "source": []
  }
 ],
 "metadata": {
  "celltoolbar": "Slideshow",
  "kernelspec": {
   "display_name": "Python 3",
   "language": "python",
   "name": "python3"
  },
  "language_info": {
   "codemirror_mode": {
    "name": "ipython",
    "version": 3
   },
   "file_extension": ".py",
   "mimetype": "text/x-python",
   "name": "python",
   "nbconvert_exporter": "python",
   "pygments_lexer": "ipython3",
   "version": "3.7.16"
  }
 },
 "nbformat": 4,
 "nbformat_minor": 5
}
