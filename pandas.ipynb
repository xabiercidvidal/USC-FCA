{
 "cells": [
  {
   "cell_type": "markdown",
   "id": "8d4185a5",
   "metadata": {
    "slideshow": {
     "slide_type": "slide"
    },
    "tags": []
   },
   "source": [
    "# Advanced Computational Physics \n",
    "\n",
    "\n",
    "## More about Python: Functions, Classes and Symbolic computing\n",
    "### Introduction to Pandas\n",
    "\n",
    "\n",
    "#### *X. Cid Vidal*\n",
    "####  USC, October 2025 "
   ]
  },
  {
   "cell_type": "code",
   "execution_count": 1,
   "id": "265a7f9b",
   "metadata": {
    "slideshow": {
     "slide_type": "skip"
    },
    "tags": []
   },
   "outputs": [
    {
     "name": "stdout",
     "output_type": "stream",
     "text": [
      "pandas 1.2.3\n",
      "numpy 1.21.6\n"
     ]
    }
   ],
   "source": [
    "## Setup and imports\n",
    "import pandas as pd\n",
    "import numpy as np\n",
    "import matplotlib.pyplot as plt\n",
    "from pathlib import Path\n",
    "pd.set_option('display.max_columns', 40)\n",
    "pd.set_option('display.max_rows', 100)\n",
    "np.random.seed(42)\n",
    "print('pandas', pd.__version__)\n",
    "print('numpy', np.__version__)\n",
    "import matplotlib.pyplot as plt"
   ]
  },
  {
   "cell_type": "markdown",
   "id": "7ed80e35",
   "metadata": {
    "slideshow": {
     "slide_type": "slide"
    },
    "tags": []
   },
   "source": [
    "### Introduction to pandas\n",
    "\n",
    "`pandas` is one of the core libraries of the Python scientific ecosystem.  \n",
    "It provides powerful, flexible, and efficient tools for data manipulation, exploration, and analysis — all built on top of **NumPy**.\n",
    "\n",
    "At its heart, pandas offers two fundamental data structures:\n",
    "\n",
    "- **`Series`** — a one-dimensional labeled array that can hold any data type (integers, floats, strings, Python objects, etc.).\n",
    "- **`DataFrame`** — a two-dimensional labeled table with potentially heterogeneous columns, similar to a spreadsheet or SQL table."
   ]
  },
  {
   "cell_type": "markdown",
   "id": "5fbaa6f8",
   "metadata": {
    "slideshow": {
     "slide_type": "slide"
    }
   },
   "source": [
    "<img src=\"https://geo-python.github.io/site/_images/pandas-structures-annotated.png\" alt=\"Pandas Structures Annotated\" width=\"600px\"/>"
   ]
  },
  {
   "cell_type": "markdown",
   "id": "2fe9119c",
   "metadata": {
    "slideshow": {
     "slide_type": "slide"
    }
   },
   "source": [
    "## Why pandas?\n",
    "\n",
    "In scientific computing and data analysis, we often need to:\n",
    "- Read structured data from files (CSV, JSON, ROOT, etc.),\n",
    "- Clean and transform it,\n",
    "- Compute derived quantities,\n",
    "- Merge datasets from different sources,\n",
    "- Perform grouping, aggregation, and statistical analysis,\n",
    "- Visualize results efficiently.\n",
    "\n",
    "pandas makes these tasks *concise*, *readable*, and *fast*, leveraging vectorized operations under the hood."
   ]
  },
  {
   "cell_type": "markdown",
   "id": "ec02bc92",
   "metadata": {
    "slideshow": {
     "slide_type": "slide"
    },
    "tags": []
   },
   "source": [
    "### pandas in Physics and Data Science\n",
    "\n",
    "In experimental and computational physics, pandas is particularly useful for:\n",
    "- Inspecting and cleaning detector or simulation data,\n",
    "- Managing event-based datasets (e.g. one row per collision event),\n",
    "- Computing derived variables (transverse momentum, invariant mass, etc.),\n",
    "- Cross-checking reconstruction vs. truth quantities,\n",
    "- Interfacing with HDF5, ROOT, or Parquet files.\n",
    "\n",
    "Even though high-energy physics frameworks such as **ROOT** or **awkward-array** dominate in large-scale analysis, pandas remains an invaluable tool for **prototyping**, **exploration**, and **data wrangling**."
   ]
  },
  {
   "cell_type": "markdown",
   "id": "08178bb9-cbc6-487d-bc49-967af881714f",
   "metadata": {
    "slideshow": {
     "slide_type": ""
    },
    "tags": []
   },
   "source": [
    "## Further reading & related tools\n",
    "\n",
    "- pandas docs: https://pandas.pydata.org\n",
    "- Polars (fast DataFrame alternative)\n",
    "- Dask for distributed processing\n",
    "- Uproot for ROOT files\n",
    "- PyArrow / Parquet for fast IO\n"
   ]
  },
  {
   "cell_type": "markdown",
   "id": "e371cabd",
   "metadata": {
    "slideshow": {
     "slide_type": "slide"
    }
   },
   "source": [
    "## Series vs ndarray\n",
    "\n",
    "Why pandas Series exist, index semantics, alignment behavior and metadata attached to Series."
   ]
  },
  {
   "cell_type": "code",
   "execution_count": 2,
   "id": "56b35feb",
   "metadata": {
    "slideshow": {
     "slide_type": "fragment"
    }
   },
   "outputs": [
    {
     "data": {
      "text/plain": [
       "(array([10, 20, 30]),\n",
       " a    10\n",
       " b    20\n",
       " c    30\n",
       " Name: values, dtype: int64,\n",
       " Index(['a', 'b', 'c'], dtype='object'),\n",
       " 'values')"
      ]
     },
     "execution_count": 2,
     "metadata": {},
     "output_type": "execute_result"
    }
   ],
   "source": [
    "arr = np.array([10,20,30])\n",
    "ser = pd.Series([10,20,30], index=['a','b','c'], name='values')\n",
    "arr, ser, ser.index, ser.name"
   ]
  },
  {
   "cell_type": "markdown",
   "id": "363d60a5",
   "metadata": {
    "slideshow": {
     "slide_type": "slide"
    }
   },
   "source": [
    "### Series creation"
   ]
  },
  {
   "cell_type": "code",
   "execution_count": 3,
   "id": "929be192",
   "metadata": {
    "slideshow": {
     "slide_type": "fragment"
    },
    "tags": []
   },
   "outputs": [
    {
     "data": {
      "text/plain": [
       "0    1\n",
       "1    2\n",
       "2    3\n",
       "dtype: int64"
      ]
     },
     "metadata": {},
     "output_type": "display_data"
    },
    {
     "data": {
      "text/plain": [
       "2025-01-01    0.496714\n",
       "2025-01-02   -0.138264\n",
       "2025-01-03    0.647689\n",
       "2025-01-04    1.523030\n",
       "Freq: D, dtype: float64"
      ]
     },
     "metadata": {},
     "output_type": "display_data"
    },
    {
     "data": {
      "text/plain": [
       "x    10\n",
       "y    20\n",
       "dtype: int64"
      ]
     },
     "metadata": {},
     "output_type": "display_data"
    }
   ],
   "source": [
    "s1 = pd.Series([1,2,3])\n",
    "s2 = pd.Series(np.random.randn(4), index=pd.date_range('2025-01-01', periods=4))\n",
    "s3 = pd.Series({'x': 10, 'y': 20})\n",
    "display(s1)\n",
    "display(s2)\n",
    "display(s3)"
   ]
  },
  {
   "cell_type": "markdown",
   "id": "a9778555",
   "metadata": {
    "slideshow": {
     "slide_type": "slide"
    },
    "tags": []
   },
   "source": [
    "## DataFrame creation\n",
    "\n",
    "Create DataFrames from dicts, lists of dicts, ndarrays, structured arrays, and from Series (alignment)."
   ]
  },
  {
   "cell_type": "code",
   "execution_count": 4,
   "id": "0327ef07",
   "metadata": {
    "slideshow": {
     "slide_type": "fragment"
    },
    "tags": []
   },
   "outputs": [
    {
     "data": {
      "text/html": [
       "<div>\n",
       "<style scoped>\n",
       "    .dataframe tbody tr th:only-of-type {\n",
       "        vertical-align: middle;\n",
       "    }\n",
       "\n",
       "    .dataframe tbody tr th {\n",
       "        vertical-align: top;\n",
       "    }\n",
       "\n",
       "    .dataframe thead th {\n",
       "        text-align: right;\n",
       "    }\n",
       "</style>\n",
       "<table border=\"1\" class=\"dataframe\">\n",
       "  <thead>\n",
       "    <tr style=\"text-align: right;\">\n",
       "      <th></th>\n",
       "      <th>A</th>\n",
       "      <th>B</th>\n",
       "    </tr>\n",
       "  </thead>\n",
       "  <tbody>\n",
       "    <tr>\n",
       "      <th>0</th>\n",
       "      <td>1</td>\n",
       "      <td>x</td>\n",
       "    </tr>\n",
       "    <tr>\n",
       "      <th>1</th>\n",
       "      <td>2</td>\n",
       "      <td>y</td>\n",
       "    </tr>\n",
       "    <tr>\n",
       "      <th>2</th>\n",
       "      <td>3</td>\n",
       "      <td>z</td>\n",
       "    </tr>\n",
       "  </tbody>\n",
       "</table>\n",
       "</div>"
      ],
      "text/plain": [
       "   A  B\n",
       "0  1  x\n",
       "1  2  y\n",
       "2  3  z"
      ]
     },
     "metadata": {},
     "output_type": "display_data"
    },
    {
     "data": {
      "text/html": [
       "<div>\n",
       "<style scoped>\n",
       "    .dataframe tbody tr th:only-of-type {\n",
       "        vertical-align: middle;\n",
       "    }\n",
       "\n",
       "    .dataframe tbody tr th {\n",
       "        vertical-align: top;\n",
       "    }\n",
       "\n",
       "    .dataframe thead th {\n",
       "        text-align: right;\n",
       "    }\n",
       "</style>\n",
       "<table border=\"1\" class=\"dataframe\">\n",
       "  <thead>\n",
       "    <tr style=\"text-align: right;\">\n",
       "      <th></th>\n",
       "      <th>W</th>\n",
       "      <th>X</th>\n",
       "      <th>Y</th>\n",
       "      <th>Z</th>\n",
       "    </tr>\n",
       "  </thead>\n",
       "  <tbody>\n",
       "    <tr>\n",
       "      <th>0</th>\n",
       "      <td>-0.234153</td>\n",
       "      <td>-0.234137</td>\n",
       "      <td>1.579213</td>\n",
       "      <td>0.767435</td>\n",
       "    </tr>\n",
       "    <tr>\n",
       "      <th>1</th>\n",
       "      <td>-0.469474</td>\n",
       "      <td>0.542560</td>\n",
       "      <td>-0.463418</td>\n",
       "      <td>-0.465730</td>\n",
       "    </tr>\n",
       "    <tr>\n",
       "      <th>2</th>\n",
       "      <td>0.241962</td>\n",
       "      <td>-1.913280</td>\n",
       "      <td>-1.724918</td>\n",
       "      <td>-0.562288</td>\n",
       "    </tr>\n",
       "  </tbody>\n",
       "</table>\n",
       "</div>"
      ],
      "text/plain": [
       "          W         X         Y         Z\n",
       "0 -0.234153 -0.234137  1.579213  0.767435\n",
       "1 -0.469474  0.542560 -0.463418 -0.465730\n",
       "2  0.241962 -1.913280 -1.724918 -0.562288"
      ]
     },
     "metadata": {},
     "output_type": "display_data"
    }
   ],
   "source": [
    "df_from_dict = pd.DataFrame({'A': [1,2,3], 'B': ['x','y','z']})\n",
    "rows = [{'A':1,'B':'x'},{'A':2,'B':'y'}]\n",
    "df_from_rows = pd.DataFrame(rows)\n",
    "arr = np.random.randn(3,4)\n",
    "df_from_array = pd.DataFrame(arr, columns=list('WXYZ'))\n",
    "display(df_from_dict)\n",
    "display(df_from_array.head())"
   ]
  },
  {
   "cell_type": "markdown",
   "id": "1b0a6895",
   "metadata": {
    "slideshow": {
     "slide_type": "slide"
    },
    "tags": []
   },
   "source": [
    "### Index types and MultiIndex\n",
    "\n",
    "Demonstrate RangeIndex, DatetimeIndex, CategoricalIndex, and MultiIndex creation & usage.\n",
    "\n",
    "| Index Type           | Description                        | Common Use Case                     |\n",
    "| -------------------- | ---------------------------------- | ----------------------------------- |\n",
    "| **RangeIndex**       | Sequential integer index (default) | Simple tables                       |\n",
    "| **DatetimeIndex**    | Time-aware index                   | Time series, e.g detector logs          |\n",
    "| **CategoricalIndex** | Discrete label index               | Detector types, e.g particle categories |\n",
    "| **MultiIndex**       | Hierarchical index                 | Grouped data, e.g. run × detector       |\n"
   ]
  },
  {
   "cell_type": "code",
   "execution_count": 5,
   "id": "a9dc5d64",
   "metadata": {
    "slideshow": {
     "slide_type": "slide"
    },
    "tags": []
   },
   "outputs": [
    {
     "name": "stdout",
     "output_type": "stream",
     "text": [
      "RangeIndex RangeIndex(start=0, stop=5, step=1)\n",
      "DatetimeIndex DatetimeIndex(['2025-01-01', '2025-01-02', '2025-01-03', '2025-01-04',\n",
      "               '2025-01-05'],\n",
      "              dtype='datetime64[ns]', freq='D')\n",
      "CategoricalIndex CategoricalIndex(['a', 'a', 'b', 'c', 'c'], categories=['a', 'b', 'c'], ordered=False, dtype='category')\n",
      "MultiIndex MultiIndex([('US', 2019),\n",
      "            ('US', 2020),\n",
      "            ('EU', 2019),\n",
      "            ('EU', 2020)],\n",
      "           names=['region', 'year'])\n"
     ]
    }
   ],
   "source": [
    "ri = pd.RangeIndex(0,5)\n",
    "di = pd.date_range('2025-01-01', periods=5)\n",
    "ci = pd.CategoricalIndex(list('aabcc'))\n",
    "mi = pd.MultiIndex.from_product([['US','EU'], [2019,2020]], names=['region','year'])\n",
    "print('RangeIndex', ri)\n",
    "print('DatetimeIndex', di)\n",
    "print('CategoricalIndex', ci)\n",
    "print('MultiIndex', mi)"
   ]
  },
  {
   "cell_type": "markdown",
   "id": "7cbf1c1b",
   "metadata": {
    "slideshow": {
     "slide_type": "slide"
    }
   },
   "source": [
    "### DataFrame with MultiIndex (columns and rows)"
   ]
  },
  {
   "cell_type": "code",
   "execution_count": 6,
   "id": "70b0d3ba",
   "metadata": {
    "slideshow": {
     "slide_type": "fragment"
    },
    "tags": []
   },
   "outputs": [
    {
     "data": {
      "text/html": [
       "<div>\n",
       "<style scoped>\n",
       "    .dataframe tbody tr th:only-of-type {\n",
       "        vertical-align: middle;\n",
       "    }\n",
       "\n",
       "    .dataframe tbody tr th {\n",
       "        vertical-align: top;\n",
       "    }\n",
       "\n",
       "    .dataframe thead tr th {\n",
       "        text-align: left;\n",
       "    }\n",
       "</style>\n",
       "<table border=\"1\" class=\"dataframe\">\n",
       "  <thead>\n",
       "    <tr>\n",
       "      <th>metric</th>\n",
       "      <th colspan=\"2\" halign=\"left\">sales</th>\n",
       "      <th>costs</th>\n",
       "    </tr>\n",
       "    <tr>\n",
       "      <th>quarter</th>\n",
       "      <th>Q1</th>\n",
       "      <th>Q2</th>\n",
       "      <th>Q1</th>\n",
       "    </tr>\n",
       "  </thead>\n",
       "  <tbody>\n",
       "    <tr>\n",
       "      <th>A</th>\n",
       "      <td>-1.012831</td>\n",
       "      <td>0.314247</td>\n",
       "      <td>-0.908024</td>\n",
       "    </tr>\n",
       "    <tr>\n",
       "      <th>B</th>\n",
       "      <td>-1.412304</td>\n",
       "      <td>1.465649</td>\n",
       "      <td>-0.225776</td>\n",
       "    </tr>\n",
       "    <tr>\n",
       "      <th>C</th>\n",
       "      <td>0.067528</td>\n",
       "      <td>-1.424748</td>\n",
       "      <td>-0.544383</td>\n",
       "    </tr>\n",
       "  </tbody>\n",
       "</table>\n",
       "</div>"
      ],
      "text/plain": [
       "metric      sales               costs\n",
       "quarter        Q1        Q2        Q1\n",
       "A       -1.012831  0.314247 -0.908024\n",
       "B       -1.412304  1.465649 -0.225776\n",
       "C        0.067528 -1.424748 -0.544383"
      ]
     },
     "execution_count": 6,
     "metadata": {},
     "output_type": "execute_result"
    }
   ],
   "source": [
    "arrays = [['sales','sales','costs'], ['Q1','Q2','Q1']]\n",
    "cols = pd.MultiIndex.from_arrays(arrays, names=['metric','quarter'])\n",
    "df_mi = pd.DataFrame(np.random.randn(3,3), columns=cols, index=list('ABC'))\n",
    "df_mi"
   ]
  },
  {
   "cell_type": "markdown",
   "id": "6e9ba336",
   "metadata": {
    "slideshow": {
     "slide_type": "slide"
    },
    "tags": []
   },
   "source": [
    "## Indexing, selection, slicing\n",
    "\n",
    "Label-based vs position based indexing: `.loc`, `.iloc`, boolean masks, `at`, `iat`, and `xs` for cross-section in MultiIndex."
   ]
  },
  {
   "cell_type": "code",
   "execution_count": 7,
   "id": "c036b9fa",
   "metadata": {
    "slideshow": {
     "slide_type": "slide"
    },
    "tags": []
   },
   "outputs": [
    {
     "name": "stdout",
     "output_type": "stream",
     "text": [
      "   A   B\n",
      "a  0   0\n",
      "b  1   2\n",
      "c  2   4\n",
      "d  3   6\n",
      "e  4   8\n",
      "f  5  10\n",
      "\n",
      "loc single row:\n",
      " A    2\n",
      "B    4\n",
      "Name: c, dtype: int64\n",
      "\n",
      "iloc slice:\n",
      "    A  B\n",
      "b  1  2\n",
      "c  2  4\n",
      "d  3  6\n",
      "\n",
      "boolean mask:\n",
      "    A  B\n",
      "a  0  0\n",
      "c  2  4\n",
      "e  4  8\n",
      "\n",
      "at and iat:\n",
      " 1 4\n"
     ]
    }
   ],
   "source": [
    "df = pd.DataFrame({'A': range(6), 'B': np.arange(6)*2}, index=list('abcdef'))\n",
    "print(df)\n",
    "print('\\nloc single row:\\n', df.loc['c'])\n",
    "print('\\niloc slice:\\n', df.iloc[1:4])\n",
    "print('\\nboolean mask:\\n', df[df['A']%2==0])\n",
    "print('\\nat and iat:\\n', df.at['b','A'], df.iat[2,1])"
   ]
  },
  {
   "cell_type": "markdown",
   "id": "3cede66e",
   "metadata": {
    "slideshow": {
     "slide_type": "slide"
    },
    "tags": []
   },
   "source": [
    "### Setting values and avoiding chained-assignment pitfalls\n",
    "\n",
    "Use `.loc` for assignment to avoid SettingWithCopyWarning."
   ]
  },
  {
   "cell_type": "code",
   "execution_count": 8,
   "id": "cc44371e",
   "metadata": {
    "slideshow": {
     "slide_type": "fragment"
    },
    "tags": []
   },
   "outputs": [
    {
     "data": {
      "text/html": [
       "<div>\n",
       "<style scoped>\n",
       "    .dataframe tbody tr th:only-of-type {\n",
       "        vertical-align: middle;\n",
       "    }\n",
       "\n",
       "    .dataframe tbody tr th {\n",
       "        vertical-align: top;\n",
       "    }\n",
       "\n",
       "    .dataframe thead th {\n",
       "        text-align: right;\n",
       "    }\n",
       "</style>\n",
       "<table border=\"1\" class=\"dataframe\">\n",
       "  <thead>\n",
       "    <tr style=\"text-align: right;\">\n",
       "      <th></th>\n",
       "      <th>A</th>\n",
       "      <th>B</th>\n",
       "    </tr>\n",
       "  </thead>\n",
       "  <tbody>\n",
       "    <tr>\n",
       "      <th>a</th>\n",
       "      <td>100</td>\n",
       "      <td>0</td>\n",
       "    </tr>\n",
       "    <tr>\n",
       "      <th>b</th>\n",
       "      <td>1</td>\n",
       "      <td>2</td>\n",
       "    </tr>\n",
       "    <tr>\n",
       "      <th>c</th>\n",
       "      <td>2</td>\n",
       "      <td>4</td>\n",
       "    </tr>\n",
       "    <tr>\n",
       "      <th>d</th>\n",
       "      <td>3</td>\n",
       "      <td>6</td>\n",
       "    </tr>\n",
       "    <tr>\n",
       "      <th>e</th>\n",
       "      <td>4</td>\n",
       "      <td>8</td>\n",
       "    </tr>\n",
       "    <tr>\n",
       "      <th>f</th>\n",
       "      <td>5</td>\n",
       "      <td>10</td>\n",
       "    </tr>\n",
       "  </tbody>\n",
       "</table>\n",
       "</div>"
      ],
      "text/plain": [
       "     A   B\n",
       "a  100   0\n",
       "b    1   2\n",
       "c    2   4\n",
       "d    3   6\n",
       "e    4   8\n",
       "f    5  10"
      ]
     },
     "metadata": {},
     "output_type": "display_data"
    }
   ],
   "source": [
    "df2 = df.copy()\n",
    "df2.loc['a','A'] = 100\n",
    "# risky chained assignment example\n",
    "slice_view = df2[df2['A']>0]\n",
    "# slice_view['B'] = 999  # would raise a chained-assignment warning if uncommented\n",
    "display(df2)"
   ]
  },
  {
   "cell_type": "markdown",
   "id": "ba046c0a",
   "metadata": {
    "slideshow": {
     "slide_type": "slide"
    },
    "tags": []
   },
   "source": [
    "### Advanced selection: `.query()`, `.eval()`, and callable selection\n",
    "\n",
    "For fast and expressive filtering or computation, pandas provides two powerful methods:\n",
    "\n",
    "- **`DataFrame.query()`** — allows you to select rows using a logical expression written as a string.\n",
    "- **`DataFrame.eval()`** — lets you compute new columns or expressions efficiently, also using string-based syntax.\n",
    "\n",
    "Both methods make your code more readable and can internally optimize performance, especially on large datasets.\n"
   ]
  },
  {
   "cell_type": "code",
   "execution_count": 9,
   "id": "540270b8",
   "metadata": {
    "slideshow": {
     "slide_type": "slide"
    },
    "tags": []
   },
   "outputs": [
    {
     "data": {
      "text/html": [
       "<div>\n",
       "<style scoped>\n",
       "    .dataframe tbody tr th:only-of-type {\n",
       "        vertical-align: middle;\n",
       "    }\n",
       "\n",
       "    .dataframe tbody tr th {\n",
       "        vertical-align: top;\n",
       "    }\n",
       "\n",
       "    .dataframe thead th {\n",
       "        text-align: right;\n",
       "    }\n",
       "</style>\n",
       "<table border=\"1\" class=\"dataframe\">\n",
       "  <thead>\n",
       "    <tr style=\"text-align: right;\">\n",
       "      <th></th>\n",
       "      <th>x</th>\n",
       "      <th>y</th>\n",
       "    </tr>\n",
       "  </thead>\n",
       "  <tbody>\n",
       "    <tr>\n",
       "      <th>6</th>\n",
       "      <td>1.852278</td>\n",
       "      <td>-1.668584</td>\n",
       "    </tr>\n",
       "    <tr>\n",
       "      <th>9</th>\n",
       "      <td>0.822545</td>\n",
       "      <td>-0.483186</td>\n",
       "    </tr>\n",
       "    <tr>\n",
       "      <th>11</th>\n",
       "      <td>0.208864</td>\n",
       "      <td>-1.225766</td>\n",
       "    </tr>\n",
       "    <tr>\n",
       "      <th>16</th>\n",
       "      <td>0.171368</td>\n",
       "      <td>-0.458884</td>\n",
       "    </tr>\n",
       "    <tr>\n",
       "      <th>22</th>\n",
       "      <td>1.057122</td>\n",
       "      <td>-1.576392</td>\n",
       "    </tr>\n",
       "  </tbody>\n",
       "</table>\n",
       "</div>"
      ],
      "text/plain": [
       "           x         y\n",
       "6   1.852278 -1.668584\n",
       "9   0.822545 -0.483186\n",
       "11  0.208864 -1.225766\n",
       "16  0.171368 -0.458884\n",
       "22  1.057122 -1.576392"
      ]
     },
     "execution_count": 9,
     "metadata": {},
     "output_type": "execute_result"
    }
   ],
   "source": [
    "df_big = pd.DataFrame({'x': np.random.randn(1000), 'y': np.random.randn(1000)})\n",
    "res = df_big.query('x > 0 and y < 0')\n",
    "res.head()"
   ]
  },
  {
   "cell_type": "code",
   "execution_count": 10,
   "id": "d3ba8530",
   "metadata": {
    "slideshow": {
     "slide_type": "slide"
    },
    "tags": []
   },
   "outputs": [
    {
     "name": "stdout",
     "output_type": "stream",
     "text": [
      "\n",
      "DataFrame with new computed column r = x**2 + y**2:\n"
     ]
    },
    {
     "data": {
      "text/html": [
       "<div>\n",
       "<style scoped>\n",
       "    .dataframe tbody tr th:only-of-type {\n",
       "        vertical-align: middle;\n",
       "    }\n",
       "\n",
       "    .dataframe tbody tr th {\n",
       "        vertical-align: top;\n",
       "    }\n",
       "\n",
       "    .dataframe thead th {\n",
       "        text-align: right;\n",
       "    }\n",
       "</style>\n",
       "<table border=\"1\" class=\"dataframe\">\n",
       "  <thead>\n",
       "    <tr style=\"text-align: right;\">\n",
       "      <th></th>\n",
       "      <th>x</th>\n",
       "      <th>y</th>\n",
       "      <th>r</th>\n",
       "    </tr>\n",
       "  </thead>\n",
       "  <tbody>\n",
       "    <tr>\n",
       "      <th>0</th>\n",
       "      <td>0.110923</td>\n",
       "      <td>0.436324</td>\n",
       "      <td>0.202682</td>\n",
       "    </tr>\n",
       "    <tr>\n",
       "      <th>1</th>\n",
       "      <td>-1.150994</td>\n",
       "      <td>0.038003</td>\n",
       "      <td>1.326230</td>\n",
       "    </tr>\n",
       "    <tr>\n",
       "      <th>2</th>\n",
       "      <td>0.375698</td>\n",
       "      <td>0.120031</td>\n",
       "      <td>0.155557</td>\n",
       "    </tr>\n",
       "    <tr>\n",
       "      <th>3</th>\n",
       "      <td>-0.600639</td>\n",
       "      <td>0.613518</td>\n",
       "      <td>0.737171</td>\n",
       "    </tr>\n",
       "    <tr>\n",
       "      <th>4</th>\n",
       "      <td>-0.291694</td>\n",
       "      <td>-1.022793</td>\n",
       "      <td>1.131190</td>\n",
       "    </tr>\n",
       "  </tbody>\n",
       "</table>\n",
       "</div>"
      ],
      "text/plain": [
       "          x         y         r\n",
       "0  0.110923  0.436324  0.202682\n",
       "1 -1.150994  0.038003  1.326230\n",
       "2  0.375698  0.120031  0.155557\n",
       "3 -0.600639  0.613518  0.737171\n",
       "4 -0.291694 -1.022793  1.131190"
      ]
     },
     "metadata": {},
     "output_type": "display_data"
    },
    {
     "name": "stdout",
     "output_type": "stream",
     "text": [
      "\n",
      "Rows where r < 1:\n"
     ]
    },
    {
     "data": {
      "text/html": [
       "<div>\n",
       "<style scoped>\n",
       "    .dataframe tbody tr th:only-of-type {\n",
       "        vertical-align: middle;\n",
       "    }\n",
       "\n",
       "    .dataframe tbody tr th {\n",
       "        vertical-align: top;\n",
       "    }\n",
       "\n",
       "    .dataframe thead th {\n",
       "        text-align: right;\n",
       "    }\n",
       "</style>\n",
       "<table border=\"1\" class=\"dataframe\">\n",
       "  <thead>\n",
       "    <tr style=\"text-align: right;\">\n",
       "      <th></th>\n",
       "      <th>x</th>\n",
       "      <th>y</th>\n",
       "      <th>r</th>\n",
       "    </tr>\n",
       "  </thead>\n",
       "  <tbody>\n",
       "    <tr>\n",
       "      <th>0</th>\n",
       "      <td>0.110923</td>\n",
       "      <td>0.436324</td>\n",
       "      <td>0.202682</td>\n",
       "    </tr>\n",
       "    <tr>\n",
       "      <th>2</th>\n",
       "      <td>0.375698</td>\n",
       "      <td>0.120031</td>\n",
       "      <td>0.155557</td>\n",
       "    </tr>\n",
       "    <tr>\n",
       "      <th>3</th>\n",
       "      <td>-0.600639</td>\n",
       "      <td>0.613518</td>\n",
       "      <td>0.737171</td>\n",
       "    </tr>\n",
       "    <tr>\n",
       "      <th>5</th>\n",
       "      <td>-0.601707</td>\n",
       "      <td>-0.257377</td>\n",
       "      <td>0.428294</td>\n",
       "    </tr>\n",
       "    <tr>\n",
       "      <th>7</th>\n",
       "      <td>-0.013497</td>\n",
       "      <td>0.399223</td>\n",
       "      <td>0.159561</td>\n",
       "    </tr>\n",
       "  </tbody>\n",
       "</table>\n",
       "</div>"
      ],
      "text/plain": [
       "          x         y         r\n",
       "0  0.110923  0.436324  0.202682\n",
       "2  0.375698  0.120031  0.155557\n",
       "3 -0.600639  0.613518  0.737171\n",
       "5 -0.601707 -0.257377  0.428294\n",
       "7 -0.013497  0.399223  0.159561"
      ]
     },
     "execution_count": 10,
     "metadata": {},
     "output_type": "execute_result"
    }
   ],
   "source": [
    "df_eval = df_big.eval('r = x**2 + y**2')  # Compute radial distance squared\n",
    "print(\"\\nDataFrame with new computed column r = x**2 + y**2:\")\n",
    "display(df_eval.head())\n",
    "\n",
    "# You can also combine eval() with query() for expressive operations\n",
    "filtered = df_big.eval('r = x**2 + y**2').query('r < 1')\n",
    "print(\"\\nRows where r < 1:\")\n",
    "filtered.head()"
   ]
  },
  {
   "cell_type": "markdown",
   "id": "43a8dc6a",
   "metadata": {
    "slideshow": {
     "slide_type": "slide"
    },
    "tags": []
   },
   "source": [
    "## Operations and broadcasting\n",
    "\n",
    "Elementwise, reduction, alignment across indexes, add/align with fill_value."
   ]
  },
  {
   "cell_type": "code",
   "execution_count": 11,
   "id": "673a61bd",
   "metadata": {
    "slideshow": {
     "slide_type": "fragment"
    },
    "tags": []
   },
   "outputs": [
    {
     "name": "stdout",
     "output_type": "stream",
     "text": [
      "A+B (alignment):\n",
      " a     NaN\n",
      "b    12.0\n",
      "c    23.0\n",
      "dtype: float64\n",
      "\n",
      "A.add(B, fill_value=0):\n",
      " a     1.0\n",
      "b    12.0\n",
      "c    23.0\n",
      "dtype: float64\n",
      "\n",
      "Broadcast column-wise (subtract mean):\n",
      "      A    B    C    D\n",
      "0 -4.0 -4.0 -4.0 -4.0\n",
      "1  0.0  0.0  0.0  0.0\n",
      "2  4.0  4.0  4.0  4.0\n"
     ]
    }
   ],
   "source": [
    "A = pd.Series([1,2,3], index=['a','b','c'])\n",
    "B = pd.Series([10,20], index=['b','c'])\n",
    "print('A+B (alignment):\\n', A+B)\n",
    "print('\\nA.add(B, fill_value=0):\\n', A.add(B, fill_value=0))\n",
    "\n",
    "DF = pd.DataFrame(np.arange(12).reshape(3,4), columns=list('ABCD'))\n",
    "print('\\nBroadcast column-wise (subtract mean):\\n', DF - DF.mean())"
   ]
  },
  {
   "cell_type": "markdown",
   "id": "ca6e42ff",
   "metadata": {
    "slideshow": {
     "slide_type": "slide"
    },
    "tags": []
   },
   "source": [
    "### Missing data\n",
    "\n",
    "Detecting, counting, imputing, forward/backfill, interpolation, and dropping. Consider data types (nullable integer arrays)."
   ]
  },
  {
   "cell_type": "code",
   "execution_count": 12,
   "id": "2b1158ae",
   "metadata": {
    "slideshow": {
     "slide_type": "fragment"
    },
    "tags": []
   },
   "outputs": [
    {
     "name": "stdout",
     "output_type": "stream",
     "text": [
      "     A    B\n",
      "0  1.0  NaN\n",
      "1  NaN  2.0\n",
      "2  3.0  3.0\n",
      "\n",
      "df.isna():\n",
      "        A      B\n",
      "0  False   True\n",
      "1   True  False\n",
      "2  False  False\n",
      "\n",
      "fillna with median:\n",
      "      A    B\n",
      "0  1.0  2.5\n",
      "1  2.0  2.0\n",
      "2  3.0  3.0\n",
      "\n",
      "interpolate:\n",
      "      A    B\n",
      "0  1.0  NaN\n",
      "1  2.0  2.0\n",
      "2  3.0  3.0\n"
     ]
    }
   ],
   "source": [
    "df = pd.DataFrame({'A':[1,np.nan,3], 'B':[np.nan, 2, 3]})\n",
    "print(df)\n",
    "print('\\ndf.isna():\\n', df.isna())\n",
    "print('\\nfillna with median:\\n', df.fillna(df.median()))\n",
    "print('\\ninterpolate:\\n', df.interpolate())"
   ]
  },
  {
   "cell_type": "markdown",
   "id": "99be6167",
   "metadata": {
    "slideshow": {
     "slide_type": "slide"
    },
    "tags": []
   },
   "source": [
    "### Grouping and aggregation\n",
    "Grouping is one of the most powerful and expressive features in pandas. It allows you to **split** data into groups, **apply** functions independently to each group, and then **combine** the results — the classic *split–apply–combine* strategy.\n",
    "\n",
    "#### GroupBy mechanics\n",
    "When you call `df.groupby('key')`, pandas creates a `GroupBy` object that knows which rows belong to each group but does **not** yet perform any computation. Computation happens only when you call an operation such as `.mean()`, `.sum()`, `.apply()`, or `.agg()`.\n",
    "\n",
    "#### Named aggregation\n",
    "The `.agg()` method allows **named aggregations**, giving fine control over the resulting column names:\n",
    "```python\n",
    "df.groupby('key').agg(mean_val=('col', 'mean'), max_val=('col', 'max'))"
   ]
  },
  {
   "cell_type": "code",
   "execution_count": 13,
   "id": "26343bc6",
   "metadata": {
    "slideshow": {
     "slide_type": "slide"
    },
    "tags": []
   },
   "outputs": [
    {
     "data": {
      "text/html": [
       "<div>\n",
       "<style scoped>\n",
       "    .dataframe tbody tr th:only-of-type {\n",
       "        vertical-align: middle;\n",
       "    }\n",
       "\n",
       "    .dataframe tbody tr th {\n",
       "        vertical-align: top;\n",
       "    }\n",
       "\n",
       "    .dataframe thead th {\n",
       "        text-align: right;\n",
       "    }\n",
       "</style>\n",
       "<table border=\"1\" class=\"dataframe\">\n",
       "  <thead>\n",
       "    <tr style=\"text-align: right;\">\n",
       "      <th></th>\n",
       "      <th>key</th>\n",
       "      <th>val</th>\n",
       "      <th>w</th>\n",
       "    </tr>\n",
       "  </thead>\n",
       "  <tbody>\n",
       "    <tr>\n",
       "      <th>0</th>\n",
       "      <td>a</td>\n",
       "      <td>1</td>\n",
       "      <td>1</td>\n",
       "    </tr>\n",
       "    <tr>\n",
       "      <th>1</th>\n",
       "      <td>a</td>\n",
       "      <td>2</td>\n",
       "      <td>2</td>\n",
       "    </tr>\n",
       "    <tr>\n",
       "      <th>2</th>\n",
       "      <td>a</td>\n",
       "      <td>3</td>\n",
       "      <td>1</td>\n",
       "    </tr>\n",
       "    <tr>\n",
       "      <th>3</th>\n",
       "      <td>b</td>\n",
       "      <td>4</td>\n",
       "      <td>1</td>\n",
       "    </tr>\n",
       "    <tr>\n",
       "      <th>4</th>\n",
       "      <td>b</td>\n",
       "      <td>5</td>\n",
       "      <td>2</td>\n",
       "    </tr>\n",
       "    <tr>\n",
       "      <th>5</th>\n",
       "      <td>b</td>\n",
       "      <td>6</td>\n",
       "      <td>1</td>\n",
       "    </tr>\n",
       "  </tbody>\n",
       "</table>\n",
       "</div>"
      ],
      "text/plain": [
       "  key  val  w\n",
       "0   a    1  1\n",
       "1   a    2  2\n",
       "2   a    3  1\n",
       "3   b    4  1\n",
       "4   b    5  2\n",
       "5   b    6  1"
      ]
     },
     "metadata": {},
     "output_type": "display_data"
    },
    {
     "data": {
      "text/html": [
       "<div>\n",
       "<style scoped>\n",
       "    .dataframe tbody tr th:only-of-type {\n",
       "        vertical-align: middle;\n",
       "    }\n",
       "\n",
       "    .dataframe tbody tr th {\n",
       "        vertical-align: top;\n",
       "    }\n",
       "\n",
       "    .dataframe thead th {\n",
       "        text-align: right;\n",
       "    }\n",
       "</style>\n",
       "<table border=\"1\" class=\"dataframe\">\n",
       "  <thead>\n",
       "    <tr style=\"text-align: right;\">\n",
       "      <th></th>\n",
       "      <th>count</th>\n",
       "      <th>sum</th>\n",
       "      <th>wmean</th>\n",
       "    </tr>\n",
       "    <tr>\n",
       "      <th>key</th>\n",
       "      <th></th>\n",
       "      <th></th>\n",
       "      <th></th>\n",
       "    </tr>\n",
       "  </thead>\n",
       "  <tbody>\n",
       "    <tr>\n",
       "      <th>a</th>\n",
       "      <td>3</td>\n",
       "      <td>6</td>\n",
       "      <td>2</td>\n",
       "    </tr>\n",
       "    <tr>\n",
       "      <th>b</th>\n",
       "      <td>3</td>\n",
       "      <td>15</td>\n",
       "      <td>5</td>\n",
       "    </tr>\n",
       "  </tbody>\n",
       "</table>\n",
       "</div>"
      ],
      "text/plain": [
       "     count  sum  wmean\n",
       "key                   \n",
       "a        3    6      2\n",
       "b        3   15      5"
      ]
     },
     "metadata": {},
     "output_type": "display_data"
    }
   ],
   "source": [
    "df = pd.DataFrame({'key': list('aaabbb'), 'val': [1,2,3,4,5,6], 'w':[1,2,1,1,2,1]})\n",
    "display(df)\n",
    "display(df.groupby('key').agg(count=('val','size'), sum=('val','sum'), wmean=('val', lambda x: np.average(x, weights=df.loc[x.index,'w']))))"
   ]
  },
  {
   "cell_type": "markdown",
   "id": "cee3ec8a-3df7-4511-b6bd-bcccf829fc64",
   "metadata": {
    "slideshow": {
     "slide_type": "slide"
    },
    "tags": []
   },
   "source": [
    "### apply/map/transform/agg\n",
    "\n",
    "`apply` is flexible but often slower than vectorized ops. Show `transform`, `map`, and `pipe` usage.\n",
    "\n",
    "| Method | Typical Use | Returns | Speed | Notes |\n",
    "|--------|--------------|----------|--------|-------|\n",
    "| **`map`** | Element-wise mapping of a Series | Series | Fast | Great for categorical remapping |\n",
    "| **`apply`** | Row/column-wise custom function | Series or DataFrame | Slow | Most flexible, least efficient |\n",
    "| **`transform`** | Element-wise, preserves shape | Series or DataFrame | Medium | Ideal for group-wise normalization |\n",
    "| **`pipe`** | Functional composition | Any | Fast | Enhances readability |\n"
   ]
  },
  {
   "cell_type": "code",
   "execution_count": 14,
   "id": "41cb18bd",
   "metadata": {
    "slideshow": {
     "slide_type": "slide"
    },
    "tags": []
   },
   "outputs": [
    {
     "name": "stdout",
     "output_type": "stream",
     "text": [
      "After map():\n"
     ]
    },
    {
     "data": {
      "text/html": [
       "<div>\n",
       "<style scoped>\n",
       "    .dataframe tbody tr th:only-of-type {\n",
       "        vertical-align: middle;\n",
       "    }\n",
       "\n",
       "    .dataframe tbody tr th {\n",
       "        vertical-align: top;\n",
       "    }\n",
       "\n",
       "    .dataframe thead th {\n",
       "        text-align: right;\n",
       "    }\n",
       "</style>\n",
       "<table border=\"1\" class=\"dataframe\">\n",
       "  <thead>\n",
       "    <tr style=\"text-align: right;\">\n",
       "      <th></th>\n",
       "      <th>g</th>\n",
       "      <th>v</th>\n",
       "      <th>g_long</th>\n",
       "    </tr>\n",
       "  </thead>\n",
       "  <tbody>\n",
       "    <tr>\n",
       "      <th>0</th>\n",
       "      <td>a</td>\n",
       "      <td>1</td>\n",
       "      <td>alpha</td>\n",
       "    </tr>\n",
       "    <tr>\n",
       "      <th>1</th>\n",
       "      <td>a</td>\n",
       "      <td>2</td>\n",
       "      <td>alpha</td>\n",
       "    </tr>\n",
       "    <tr>\n",
       "      <th>2</th>\n",
       "      <td>b</td>\n",
       "      <td>3</td>\n",
       "      <td>beta</td>\n",
       "    </tr>\n",
       "    <tr>\n",
       "      <th>3</th>\n",
       "      <td>b</td>\n",
       "      <td>4</td>\n",
       "      <td>beta</td>\n",
       "    </tr>\n",
       "  </tbody>\n",
       "</table>\n",
       "</div>"
      ],
      "text/plain": [
       "   g  v g_long\n",
       "0  a  1  alpha\n",
       "1  a  2  alpha\n",
       "2  b  3   beta\n",
       "3  b  4   beta"
      ]
     },
     "metadata": {},
     "output_type": "display_data"
    },
    {
     "name": "stdout",
     "output_type": "stream",
     "text": [
      "After apply():\n"
     ]
    },
    {
     "data": {
      "text/html": [
       "<div>\n",
       "<style scoped>\n",
       "    .dataframe tbody tr th:only-of-type {\n",
       "        vertical-align: middle;\n",
       "    }\n",
       "\n",
       "    .dataframe tbody tr th {\n",
       "        vertical-align: top;\n",
       "    }\n",
       "\n",
       "    .dataframe thead th {\n",
       "        text-align: right;\n",
       "    }\n",
       "</style>\n",
       "<table border=\"1\" class=\"dataframe\">\n",
       "  <thead>\n",
       "    <tr style=\"text-align: right;\">\n",
       "      <th></th>\n",
       "      <th>g</th>\n",
       "      <th>v</th>\n",
       "      <th>g_long</th>\n",
       "      <th>v_squared</th>\n",
       "    </tr>\n",
       "  </thead>\n",
       "  <tbody>\n",
       "    <tr>\n",
       "      <th>0</th>\n",
       "      <td>a</td>\n",
       "      <td>1</td>\n",
       "      <td>alpha</td>\n",
       "      <td>1</td>\n",
       "    </tr>\n",
       "    <tr>\n",
       "      <th>1</th>\n",
       "      <td>a</td>\n",
       "      <td>2</td>\n",
       "      <td>alpha</td>\n",
       "      <td>4</td>\n",
       "    </tr>\n",
       "    <tr>\n",
       "      <th>2</th>\n",
       "      <td>b</td>\n",
       "      <td>3</td>\n",
       "      <td>beta</td>\n",
       "      <td>9</td>\n",
       "    </tr>\n",
       "    <tr>\n",
       "      <th>3</th>\n",
       "      <td>b</td>\n",
       "      <td>4</td>\n",
       "      <td>beta</td>\n",
       "      <td>16</td>\n",
       "    </tr>\n",
       "  </tbody>\n",
       "</table>\n",
       "</div>"
      ],
      "text/plain": [
       "   g  v g_long  v_squared\n",
       "0  a  1  alpha          1\n",
       "1  a  2  alpha          4\n",
       "2  b  3   beta          9\n",
       "3  b  4   beta         16"
      ]
     },
     "metadata": {},
     "output_type": "display_data"
    },
    {
     "name": "stdout",
     "output_type": "stream",
     "text": [
      "After transform(): each value normalized by group mean\n"
     ]
    },
    {
     "data": {
      "text/html": [
       "<div>\n",
       "<style scoped>\n",
       "    .dataframe tbody tr th:only-of-type {\n",
       "        vertical-align: middle;\n",
       "    }\n",
       "\n",
       "    .dataframe tbody tr th {\n",
       "        vertical-align: top;\n",
       "    }\n",
       "\n",
       "    .dataframe thead th {\n",
       "        text-align: right;\n",
       "    }\n",
       "</style>\n",
       "<table border=\"1\" class=\"dataframe\">\n",
       "  <thead>\n",
       "    <tr style=\"text-align: right;\">\n",
       "      <th></th>\n",
       "      <th>g</th>\n",
       "      <th>v</th>\n",
       "      <th>g_long</th>\n",
       "      <th>v_squared</th>\n",
       "      <th>v_norm</th>\n",
       "    </tr>\n",
       "  </thead>\n",
       "  <tbody>\n",
       "    <tr>\n",
       "      <th>0</th>\n",
       "      <td>a</td>\n",
       "      <td>1</td>\n",
       "      <td>alpha</td>\n",
       "      <td>1</td>\n",
       "      <td>0.666667</td>\n",
       "    </tr>\n",
       "    <tr>\n",
       "      <th>1</th>\n",
       "      <td>a</td>\n",
       "      <td>2</td>\n",
       "      <td>alpha</td>\n",
       "      <td>4</td>\n",
       "      <td>1.333333</td>\n",
       "    </tr>\n",
       "    <tr>\n",
       "      <th>2</th>\n",
       "      <td>b</td>\n",
       "      <td>3</td>\n",
       "      <td>beta</td>\n",
       "      <td>9</td>\n",
       "      <td>0.857143</td>\n",
       "    </tr>\n",
       "    <tr>\n",
       "      <th>3</th>\n",
       "      <td>b</td>\n",
       "      <td>4</td>\n",
       "      <td>beta</td>\n",
       "      <td>16</td>\n",
       "      <td>1.142857</td>\n",
       "    </tr>\n",
       "  </tbody>\n",
       "</table>\n",
       "</div>"
      ],
      "text/plain": [
       "   g  v g_long  v_squared    v_norm\n",
       "0  a  1  alpha          1  0.666667\n",
       "1  a  2  alpha          4  1.333333\n",
       "2  b  3   beta          9  0.857143\n",
       "3  b  4   beta         16  1.142857"
      ]
     },
     "metadata": {},
     "output_type": "display_data"
    },
    {
     "name": "stdout",
     "output_type": "stream",
     "text": [
      "After pipe():\n"
     ]
    },
    {
     "data": {
      "text/html": [
       "<div>\n",
       "<style scoped>\n",
       "    .dataframe tbody tr th:only-of-type {\n",
       "        vertical-align: middle;\n",
       "    }\n",
       "\n",
       "    .dataframe tbody tr th {\n",
       "        vertical-align: top;\n",
       "    }\n",
       "\n",
       "    .dataframe thead th {\n",
       "        text-align: right;\n",
       "    }\n",
       "</style>\n",
       "<table border=\"1\" class=\"dataframe\">\n",
       "  <thead>\n",
       "    <tr style=\"text-align: right;\">\n",
       "      <th></th>\n",
       "      <th>g</th>\n",
       "      <th>v</th>\n",
       "      <th>g_long</th>\n",
       "      <th>v_squared</th>\n",
       "      <th>v_norm</th>\n",
       "      <th>v_centered</th>\n",
       "    </tr>\n",
       "  </thead>\n",
       "  <tbody>\n",
       "    <tr>\n",
       "      <th>0</th>\n",
       "      <td>a</td>\n",
       "      <td>1</td>\n",
       "      <td>alpha</td>\n",
       "      <td>1</td>\n",
       "      <td>0.666667</td>\n",
       "      <td>-1.5</td>\n",
       "    </tr>\n",
       "    <tr>\n",
       "      <th>1</th>\n",
       "      <td>a</td>\n",
       "      <td>2</td>\n",
       "      <td>alpha</td>\n",
       "      <td>4</td>\n",
       "      <td>1.333333</td>\n",
       "      <td>-0.5</td>\n",
       "    </tr>\n",
       "    <tr>\n",
       "      <th>2</th>\n",
       "      <td>b</td>\n",
       "      <td>3</td>\n",
       "      <td>beta</td>\n",
       "      <td>9</td>\n",
       "      <td>0.857143</td>\n",
       "      <td>0.5</td>\n",
       "    </tr>\n",
       "    <tr>\n",
       "      <th>3</th>\n",
       "      <td>b</td>\n",
       "      <td>4</td>\n",
       "      <td>beta</td>\n",
       "      <td>16</td>\n",
       "      <td>1.142857</td>\n",
       "      <td>1.5</td>\n",
       "    </tr>\n",
       "  </tbody>\n",
       "</table>\n",
       "</div>"
      ],
      "text/plain": [
       "   g  v g_long  v_squared    v_norm  v_centered\n",
       "0  a  1  alpha          1  0.666667        -1.5\n",
       "1  a  2  alpha          4  1.333333        -0.5\n",
       "2  b  3   beta          9  0.857143         0.5\n",
       "3  b  4   beta         16  1.142857         1.5"
      ]
     },
     "metadata": {},
     "output_type": "display_data"
    }
   ],
   "source": [
    "df = pd.DataFrame({'g': ['a','a','b','b'], 'v': [1,2,3,4]})\n",
    "\n",
    "# Here, we map letters to descriptive names\n",
    "df['g_long'] = df['g'].map({'a': 'alpha', 'b': 'beta'})\n",
    "print(\"After map():\")\n",
    "display(df)\n",
    "\n",
    "# Apply a lambda function to the numeric column\n",
    "df['v_squared'] = df['v'].apply(lambda x: x**2)\n",
    "print(\"After apply():\")\n",
    "display(df)\n",
    "\n",
    "# Compute deviation from group mean\n",
    "df['v_norm'] = df.groupby('g')['v'].transform(lambda x: x / x.mean())\n",
    "print(\"After transform(): each value normalized by group mean\")\n",
    "display(df)\n",
    "\n",
    "# pipe – chaining transformations in a functional style\n",
    "def add_centered_col(data):\n",
    "    data['v_centered'] = data['v'] - data['v'].mean()\n",
    "    return data\n",
    "\n",
    "df_piped = (df.pipe(add_centered_col))\n",
    "print(\"After pipe():\")\n",
    "display(df_piped)"
   ]
  },
  {
   "cell_type": "markdown",
   "id": "547c9b41",
   "metadata": {
    "slideshow": {
     "slide_type": "slide"
    },
    "tags": []
   },
   "source": [
    "## Merging, joining, concatenation\n",
    "\n",
    "`merge` with indicator, `on`, `how`, `suffixes`, and `join`/`concat` specifics. Index vs column merges.\n",
    "\n",
    "| Method | Typical Use | Join Key | Output Shape | Common Parameters |\n",
    "|:-------|:-------------|:----------|:--------------|:------------------|\n",
    "| `merge` | SQL-style joins | Columns or indices | Flexible | `on`, `how`, `indicator`, `suffixes` |\n",
    "| `join`  | Index-based merge | Index | Usually same rows | `how`, `lsuffix`, `rsuffix` |\n",
    "| `concat` | Stack or append frames | None (axis alignment) | Depends on axis | `axis`, `ignore_index`, `keys` |"
   ]
  },
  {
   "cell_type": "markdown",
   "id": "82ec6de2-bfa3-4e91-85cf-d40c00e3f799",
   "metadata": {
    "slideshow": {
     "slide_type": "slide"
    },
    "tags": []
   },
   "source": [
    "### `concat`: stacking DataFrames\n",
    "`pd.concat()` concatenates DataFrames along a chosen axis:\n",
    "- `axis=0` stacks rows (adds more events).  \n",
    "- `axis=1` adds columns (adds more variables).  \n",
    "You can preserve original indices or ignore them with `ignore_index=True`.\n"
   ]
  },
  {
   "cell_type": "code",
   "execution_count": 15,
   "id": "e4dfd1a9",
   "metadata": {
    "slideshow": {
     "slide_type": "slide"
    },
    "tags": []
   },
   "outputs": [
    {
     "name": "stdout",
     "output_type": "stream",
     "text": [
      "Row-wise concatenation (axis=0):\n"
     ]
    },
    {
     "data": {
      "text/html": [
       "<div>\n",
       "<style scoped>\n",
       "    .dataframe tbody tr th:only-of-type {\n",
       "        vertical-align: middle;\n",
       "    }\n",
       "\n",
       "    .dataframe tbody tr th {\n",
       "        vertical-align: top;\n",
       "    }\n",
       "\n",
       "    .dataframe thead th {\n",
       "        text-align: right;\n",
       "    }\n",
       "</style>\n",
       "<table border=\"1\" class=\"dataframe\">\n",
       "  <thead>\n",
       "    <tr style=\"text-align: right;\">\n",
       "      <th></th>\n",
       "      <th>id</th>\n",
       "      <th>left_val</th>\n",
       "      <th>right_val</th>\n",
       "    </tr>\n",
       "  </thead>\n",
       "  <tbody>\n",
       "    <tr>\n",
       "      <th>0</th>\n",
       "      <td>1</td>\n",
       "      <td>L1</td>\n",
       "      <td>NaN</td>\n",
       "    </tr>\n",
       "    <tr>\n",
       "      <th>1</th>\n",
       "      <td>2</td>\n",
       "      <td>L2</td>\n",
       "      <td>NaN</td>\n",
       "    </tr>\n",
       "    <tr>\n",
       "      <th>2</th>\n",
       "      <td>3</td>\n",
       "      <td>L3</td>\n",
       "      <td>NaN</td>\n",
       "    </tr>\n",
       "    <tr>\n",
       "      <th>3</th>\n",
       "      <td>2</td>\n",
       "      <td>NaN</td>\n",
       "      <td>R2</td>\n",
       "    </tr>\n",
       "    <tr>\n",
       "      <th>4</th>\n",
       "      <td>3</td>\n",
       "      <td>NaN</td>\n",
       "      <td>R3</td>\n",
       "    </tr>\n",
       "    <tr>\n",
       "      <th>5</th>\n",
       "      <td>4</td>\n",
       "      <td>NaN</td>\n",
       "      <td>R4</td>\n",
       "    </tr>\n",
       "  </tbody>\n",
       "</table>\n",
       "</div>"
      ],
      "text/plain": [
       "   id left_val right_val\n",
       "0   1       L1       NaN\n",
       "1   2       L2       NaN\n",
       "2   3       L3       NaN\n",
       "3   2      NaN        R2\n",
       "4   3      NaN        R3\n",
       "5   4      NaN        R4"
      ]
     },
     "metadata": {},
     "output_type": "display_data"
    },
    {
     "name": "stdout",
     "output_type": "stream",
     "text": [
      "Column-wise concatenation (axis=1):\n"
     ]
    },
    {
     "data": {
      "text/html": [
       "<div>\n",
       "<style scoped>\n",
       "    .dataframe tbody tr th:only-of-type {\n",
       "        vertical-align: middle;\n",
       "    }\n",
       "\n",
       "    .dataframe tbody tr th {\n",
       "        vertical-align: top;\n",
       "    }\n",
       "\n",
       "    .dataframe thead th {\n",
       "        text-align: right;\n",
       "    }\n",
       "</style>\n",
       "<table border=\"1\" class=\"dataframe\">\n",
       "  <thead>\n",
       "    <tr style=\"text-align: right;\">\n",
       "      <th></th>\n",
       "      <th>id</th>\n",
       "      <th>left_val</th>\n",
       "      <th>id</th>\n",
       "      <th>right_val</th>\n",
       "    </tr>\n",
       "  </thead>\n",
       "  <tbody>\n",
       "    <tr>\n",
       "      <th>0</th>\n",
       "      <td>1</td>\n",
       "      <td>L1</td>\n",
       "      <td>2</td>\n",
       "      <td>R2</td>\n",
       "    </tr>\n",
       "    <tr>\n",
       "      <th>1</th>\n",
       "      <td>2</td>\n",
       "      <td>L2</td>\n",
       "      <td>3</td>\n",
       "      <td>R3</td>\n",
       "    </tr>\n",
       "    <tr>\n",
       "      <th>2</th>\n",
       "      <td>3</td>\n",
       "      <td>L3</td>\n",
       "      <td>4</td>\n",
       "      <td>R4</td>\n",
       "    </tr>\n",
       "  </tbody>\n",
       "</table>\n",
       "</div>"
      ],
      "text/plain": [
       "   id left_val  id right_val\n",
       "0   1       L1   2        R2\n",
       "1   2       L2   3        R3\n",
       "2   3       L3   4        R4"
      ]
     },
     "metadata": {},
     "output_type": "display_data"
    }
   ],
   "source": [
    "left = pd.DataFrame({'id':[1,2,3], 'left_val':['L1','L2','L3']})\n",
    "right = pd.DataFrame({'id':[2,3,4], 'right_val':['R2','R3','R4']})\n",
    "\n",
    "# Row-wise concatenation (stacking), this simply puts one DataFrame below the other.\n",
    "# If columns differ, pandas aligns them by name, filling missing values with NaN.\n",
    "row_concat = pd.concat([left, right], axis=0, ignore_index=True)\n",
    "print(\"Row-wise concatenation (axis=0):\")\n",
    "display(row_concat)\n",
    "\n",
    "# Column-wise concatenation (side-by-side)\n",
    "# Here we combine columns along axis=1 — useful when DataFrames share a common index.\n",
    "col_concat = pd.concat([left, right], axis=1)\n",
    "print(\"Column-wise concatenation (axis=1):\")\n",
    "display(col_concat)"
   ]
  },
  {
   "cell_type": "markdown",
   "id": "d8e98b53",
   "metadata": {
    "slideshow": {
     "slide_type": "slide"
    },
    "tags": []
   },
   "source": [
    "## Reshaping: melt, pivot, pivot_table, stack/unstack\n",
    "\n",
    "Use `pivot_table` for aggregation and `melt` to normalize wide tables."
   ]
  },
  {
   "cell_type": "code",
   "execution_count": 16,
   "id": "f2d15d63",
   "metadata": {
    "slideshow": {
     "slide_type": "slide"
    },
    "tags": []
   },
   "outputs": [
    {
     "name": "stdout",
     "output_type": "stream",
     "text": [
      "Pivoted (id as index, years as columns):\n"
     ]
    },
    {
     "data": {
      "text/html": [
       "<div>\n",
       "<style scoped>\n",
       "    .dataframe tbody tr th:only-of-type {\n",
       "        vertical-align: middle;\n",
       "    }\n",
       "\n",
       "    .dataframe tbody tr th {\n",
       "        vertical-align: top;\n",
       "    }\n",
       "\n",
       "    .dataframe thead th {\n",
       "        text-align: right;\n",
       "    }\n",
       "</style>\n",
       "<table border=\"1\" class=\"dataframe\">\n",
       "  <thead>\n",
       "    <tr style=\"text-align: right;\">\n",
       "      <th>year</th>\n",
       "      <th>2020</th>\n",
       "      <th>2021</th>\n",
       "    </tr>\n",
       "    <tr>\n",
       "      <th>id</th>\n",
       "      <th></th>\n",
       "      <th></th>\n",
       "    </tr>\n",
       "  </thead>\n",
       "  <tbody>\n",
       "    <tr>\n",
       "      <th>1</th>\n",
       "      <td>10</td>\n",
       "      <td>15</td>\n",
       "    </tr>\n",
       "    <tr>\n",
       "      <th>2</th>\n",
       "      <td>20</td>\n",
       "      <td>25</td>\n",
       "    </tr>\n",
       "  </tbody>\n",
       "</table>\n",
       "</div>"
      ],
      "text/plain": [
       "year  2020  2021\n",
       "id              \n",
       "1       10    15\n",
       "2       20    25"
      ]
     },
     "metadata": {},
     "output_type": "display_data"
    },
    {
     "name": "stdout",
     "output_type": "stream",
     "text": [
      "Melted (long format again):\n"
     ]
    },
    {
     "data": {
      "text/html": [
       "<div>\n",
       "<style scoped>\n",
       "    .dataframe tbody tr th:only-of-type {\n",
       "        vertical-align: middle;\n",
       "    }\n",
       "\n",
       "    .dataframe tbody tr th {\n",
       "        vertical-align: top;\n",
       "    }\n",
       "\n",
       "    .dataframe thead th {\n",
       "        text-align: right;\n",
       "    }\n",
       "</style>\n",
       "<table border=\"1\" class=\"dataframe\">\n",
       "  <thead>\n",
       "    <tr style=\"text-align: right;\">\n",
       "      <th></th>\n",
       "      <th>id</th>\n",
       "      <th>measurement</th>\n",
       "      <th>measurement_value</th>\n",
       "    </tr>\n",
       "  </thead>\n",
       "  <tbody>\n",
       "    <tr>\n",
       "      <th>0</th>\n",
       "      <td>1</td>\n",
       "      <td>value</td>\n",
       "      <td>10</td>\n",
       "    </tr>\n",
       "    <tr>\n",
       "      <th>1</th>\n",
       "      <td>1</td>\n",
       "      <td>value</td>\n",
       "      <td>15</td>\n",
       "    </tr>\n",
       "    <tr>\n",
       "      <th>2</th>\n",
       "      <td>2</td>\n",
       "      <td>value</td>\n",
       "      <td>20</td>\n",
       "    </tr>\n",
       "    <tr>\n",
       "      <th>3</th>\n",
       "      <td>2</td>\n",
       "      <td>value</td>\n",
       "      <td>25</td>\n",
       "    </tr>\n",
       "  </tbody>\n",
       "</table>\n",
       "</div>"
      ],
      "text/plain": [
       "   id measurement  measurement_value\n",
       "0   1       value                 10\n",
       "1   1       value                 15\n",
       "2   2       value                 20\n",
       "3   2       value                 25"
      ]
     },
     "metadata": {},
     "output_type": "display_data"
    }
   ],
   "source": [
    "# Original DataFrame\n",
    "df = pd.DataFrame({\n",
    "    'id': [1, 1, 2, 2],\n",
    "    'year': [2020, 2021, 2020, 2021],\n",
    "    'value': [10, 15, 20, 25]\n",
    "})\n",
    "\n",
    "# Pivot: reshape long → wide\n",
    "pivoted = df.pivot(index='id', columns='year', values='value')\n",
    "print(\"Pivoted (id as index, years as columns):\")\n",
    "display(pivoted)\n",
    "\n",
    "# Melt: reshape wide → long\n",
    "melted = df.melt(id_vars='id', value_vars=['value'],\n",
    "                 var_name='measurement', value_name='measurement_value')\n",
    "print(\"Melted (long format again):\")\n",
    "display(melted)\n"
   ]
  },
  {
   "cell_type": "markdown",
   "id": "aa67612f",
   "metadata": {
    "slideshow": {
     "slide_type": "slide"
    },
    "tags": []
   },
   "source": [
    "## Reading and writing: CSV, JSON, pickle, parquet, and a note on HDF5\n",
    "\n",
    "Examples for `read_csv`, `to_csv`, `read_json`, `to_json`, `to_pickle`, `read_pickle`, `to_parquet`. HDF5 with `to_hdf` is shown as well."
   ]
  },
  {
   "cell_type": "markdown",
   "id": "efd43320-4d14-4900-957e-f5cc01d32661",
   "metadata": {
    "slideshow": {
     "slide_type": "fragment"
    },
    "tags": []
   },
   "source": [
    "### File format comparison: tradeoffs\n",
    "\n",
    "- CSV: universal, verbose, slow to parse\n",
    "- JSON: hierarchical, human-readable, bulkier\n",
    "- Pickle: fast and python-specific (not portable/trust issues)\n",
    "- Parquet/Feather: columnar, fast, compressed — preferred for large analytics\n",
    "- HDF5: good for large arrays and on-disk table access but PyTables dependency\n",
    "\n",
    "Consider serialization speed, compatibility, compression, and whether schema evolution is needed."
   ]
  },
  {
   "cell_type": "code",
   "execution_count": 17,
   "id": "1a9d2608",
   "metadata": {
    "slideshow": {
     "slide_type": "slide"
    },
    "tags": []
   },
   "outputs": [
    {
     "name": "stdout",
     "output_type": "stream",
     "text": [
      "written demo files to /tmp/pandas_io_demo\n",
      "[PosixPath('/tmp/pandas_io_demo/demo.json'), PosixPath('/tmp/pandas_io_demo/demo.pkl'), PosixPath('/tmp/pandas_io_demo/demo.csv')]\n"
     ]
    }
   ],
   "source": [
    "tmp = Path('/tmp/pandas_io_demo')\n",
    "tmp.mkdir(exist_ok=True)\n",
    "# small demo files\n",
    "pd.DataFrame({'a':[1,2,3],'b':['x','y','z']}).to_csv(tmp / 'demo.csv', index=False)\n",
    "pd.DataFrame({'a':[1,2,3],'b':['x','y','z']}).to_json(tmp / 'demo.json', orient='records')\n",
    "pd.DataFrame({'a':[1,2,3],'b':['x','y','z']}).to_pickle(tmp / 'demo.pkl')\n",
    "print('written demo files to', tmp)\n",
    "print(list(tmp.iterdir()))"
   ]
  },
  {
   "cell_type": "markdown",
   "id": "ef989342",
   "metadata": {
    "slideshow": {
     "slide_type": "slide"
    },
    "tags": []
   },
   "source": [
    "### HDF5 note\n",
    "`to_hdf` uses PyTables and is useful for on-disk table-like storage. Keep in mind concurrency and compatibility across pandas versions."
   ]
  },
  {
   "cell_type": "code",
   "execution_count": 18,
   "id": "8e0c06f7",
   "metadata": {
    "slideshow": {
     "slide_type": "fragment"
    },
    "tags": []
   },
   "outputs": [
    {
     "name": "stdout",
     "output_type": "stream",
     "text": [
      "HDF5 written\n"
     ]
    }
   ],
   "source": [
    "# requires to run pip install tables\n",
    "try:\n",
    "    df = pd.DataFrame({'a':range(5), 'b':list('abcde')})\n",
    "    df.to_hdf(tmp / 'demo.h5', key=\"df\",mode='w')\n",
    "    print('HDF5 written')\n",
    "except Exception as e:\n",
    "    print('HDF5 not available in this environment:', e)"
   ]
  },
  {
   "cell_type": "markdown",
   "id": "b41e231f",
   "metadata": {
    "slideshow": {
     "slide_type": "slide"
    },
    "tags": []
   },
   "source": [
    "### Parquet example (fast columnar storage)"
   ]
  },
  {
   "cell_type": "code",
   "execution_count": 19,
   "id": "ae7ed49d",
   "metadata": {
    "slideshow": {
     "slide_type": "fragment"
    },
    "tags": []
   },
   "outputs": [
    {
     "name": "stdout",
     "output_type": "stream",
     "text": [
      "parquet created\n"
     ]
    }
   ],
   "source": [
    "#requires to run pip install pyarrow fastparquet\n",
    "try:\n",
    "    df_small = pd.DataFrame({'x': range(10), 'y': np.random.randn(10)})\n",
    "    df_small.to_parquet(tmp / 'demo.parquet')#,engine=\"pyarrow\")\n",
    "    print('parquet created')\n",
    "except Exception as e:\n",
    "    print('parquet not available in this environment:', e)"
   ]
  },
  {
   "cell_type": "markdown",
   "id": "bf1ca76c-8adf-4ac8-9ec6-a5e4dd585d1a",
   "metadata": {
    "slideshow": {
     "slide_type": "slide"
    },
    "tags": []
   },
   "source": [
    "### Reading would be as easy, e.g."
   ]
  },
  {
   "cell_type": "code",
   "execution_count": 20,
   "id": "acf591a2-b589-4837-a872-deb92fefc1a3",
   "metadata": {
    "slideshow": {
     "slide_type": "fragment"
    },
    "tags": []
   },
   "outputs": [
    {
     "name": "stdout",
     "output_type": "stream",
     "text": [
      "Read from pickle:\n"
     ]
    },
    {
     "data": {
      "text/html": [
       "<div>\n",
       "<style scoped>\n",
       "    .dataframe tbody tr th:only-of-type {\n",
       "        vertical-align: middle;\n",
       "    }\n",
       "\n",
       "    .dataframe tbody tr th {\n",
       "        vertical-align: top;\n",
       "    }\n",
       "\n",
       "    .dataframe thead th {\n",
       "        text-align: right;\n",
       "    }\n",
       "</style>\n",
       "<table border=\"1\" class=\"dataframe\">\n",
       "  <thead>\n",
       "    <tr style=\"text-align: right;\">\n",
       "      <th></th>\n",
       "      <th>a</th>\n",
       "      <th>b</th>\n",
       "    </tr>\n",
       "  </thead>\n",
       "  <tbody>\n",
       "    <tr>\n",
       "      <th>0</th>\n",
       "      <td>1</td>\n",
       "      <td>x</td>\n",
       "    </tr>\n",
       "    <tr>\n",
       "      <th>1</th>\n",
       "      <td>2</td>\n",
       "      <td>y</td>\n",
       "    </tr>\n",
       "    <tr>\n",
       "      <th>2</th>\n",
       "      <td>3</td>\n",
       "      <td>z</td>\n",
       "    </tr>\n",
       "  </tbody>\n",
       "</table>\n",
       "</div>"
      ],
      "text/plain": [
       "   a  b\n",
       "0  1  x\n",
       "1  2  y\n",
       "2  3  z"
      ]
     },
     "metadata": {},
     "output_type": "display_data"
    }
   ],
   "source": [
    "df_read = pd.read_pickle(tmp / 'demo.pkl')\n",
    "print(\"Read from pickle:\")\n",
    "display(df_read)"
   ]
  },
  {
   "cell_type": "markdown",
   "id": "c15b296d-308a-4b92-a87d-6b55365fb617",
   "metadata": {
    "slideshow": {
     "slide_type": "slide"
    },
    "tags": []
   },
   "source": [
    "### ROOT files\n",
    "ROOT is common in high-energy physics. pandas doesn't natively read ROOT; use `uproot` (reads ROOT into arrays which you can wrap into DataFrame).\n",
    "Download [example.root](https://www.dropbox.com/scl/fi/138im0euyaof8ie111bg4/example.root?rlkey=egflvhlk6i58n13bhsh2d54zi&dl=1)"
   ]
  },
  {
   "cell_type": "code",
   "execution_count": 21,
   "id": "b9d69f16-100d-4c61-b3fa-4b66d89e8934",
   "metadata": {
    "slideshow": {
     "slide_type": "fragment"
    },
    "tags": []
   },
   "outputs": [
    {
     "data": {
      "text/html": [
       "<div>\n",
       "<style scoped>\n",
       "    .dataframe tbody tr th:only-of-type {\n",
       "        vertical-align: middle;\n",
       "    }\n",
       "\n",
       "    .dataframe tbody tr th {\n",
       "        vertical-align: top;\n",
       "    }\n",
       "\n",
       "    .dataframe thead th {\n",
       "        text-align: right;\n",
       "    }\n",
       "</style>\n",
       "<table border=\"1\" class=\"dataframe\">\n",
       "  <thead>\n",
       "    <tr style=\"text-align: right;\">\n",
       "      <th></th>\n",
       "      <th>event_id</th>\n",
       "      <th>pt</th>\n",
       "      <th>eta</th>\n",
       "      <th>phi</th>\n",
       "      <th>mass</th>\n",
       "      <th>charge</th>\n",
       "      <th>weight</th>\n",
       "      <th>px</th>\n",
       "      <th>py</th>\n",
       "      <th>pz</th>\n",
       "    </tr>\n",
       "  </thead>\n",
       "  <tbody>\n",
       "    <tr>\n",
       "      <th>0</th>\n",
       "      <td>0</td>\n",
       "      <td>56.094341</td>\n",
       "      <td>0.176277</td>\n",
       "      <td>-0.862287</td>\n",
       "      <td>0.142090</td>\n",
       "      <td>1</td>\n",
       "      <td>1.022903</td>\n",
       "      <td>36.500755</td>\n",
       "      <td>-42.594254</td>\n",
       "      <td>9.939434</td>\n",
       "    </tr>\n",
       "    <tr>\n",
       "      <th>1</th>\n",
       "      <td>1</td>\n",
       "      <td>29.200317</td>\n",
       "      <td>0.899123</td>\n",
       "      <td>2.779722</td>\n",
       "      <td>0.073243</td>\n",
       "      <td>-1</td>\n",
       "      <td>0.922179</td>\n",
       "      <td>-27.309191</td>\n",
       "      <td>10.337630</td>\n",
       "      <td>29.937948</td>\n",
       "    </tr>\n",
       "    <tr>\n",
       "      <th>2</th>\n",
       "      <td>2</td>\n",
       "      <td>65.009026</td>\n",
       "      <td>-1.472271</td>\n",
       "      <td>-1.538110</td>\n",
       "      <td>0.218586</td>\n",
       "      <td>0</td>\n",
       "      <td>1.006288</td>\n",
       "      <td>2.124535</td>\n",
       "      <td>-64.974297</td>\n",
       "      <td>-134.234467</td>\n",
       "    </tr>\n",
       "    <tr>\n",
       "      <th>3</th>\n",
       "      <td>3</td>\n",
       "      <td>68.811295</td>\n",
       "      <td>-0.285298</td>\n",
       "      <td>2.104623</td>\n",
       "      <td>0.207743</td>\n",
       "      <td>0</td>\n",
       "      <td>0.991444</td>\n",
       "      <td>-35.013363</td>\n",
       "      <td>59.237309</td>\n",
       "      <td>-19.899143</td>\n",
       "    </tr>\n",
       "    <tr>\n",
       "      <th>4</th>\n",
       "      <td>4</td>\n",
       "      <td>10.979297</td>\n",
       "      <td>0.829153</td>\n",
       "      <td>2.493517</td>\n",
       "      <td>0.094561</td>\n",
       "      <td>-1</td>\n",
       "      <td>0.865894</td>\n",
       "      <td>-8.753213</td>\n",
       "      <td>6.627686</td>\n",
       "      <td>10.183073</td>\n",
       "    </tr>\n",
       "  </tbody>\n",
       "</table>\n",
       "</div>"
      ],
      "text/plain": [
       "   event_id         pt       eta       phi      mass  charge    weight  \\\n",
       "0         0  56.094341  0.176277 -0.862287  0.142090       1  1.022903   \n",
       "1         1  29.200317  0.899123  2.779722  0.073243      -1  0.922179   \n",
       "2         2  65.009026 -1.472271 -1.538110  0.218586       0  1.006288   \n",
       "3         3  68.811295 -0.285298  2.104623  0.207743       0  0.991444   \n",
       "4         4  10.979297  0.829153  2.493517  0.094561      -1  0.865894   \n",
       "\n",
       "          px         py          pz  \n",
       "0  36.500755 -42.594254    9.939434  \n",
       "1 -27.309191  10.337630   29.937948  \n",
       "2   2.124535 -64.974297 -134.234467  \n",
       "3 -35.013363  59.237309  -19.899143  \n",
       "4  -8.753213   6.627686   10.183073  "
      ]
     },
     "execution_count": 21,
     "metadata": {},
     "output_type": "execute_result"
    }
   ],
   "source": [
    "# requires to run install uproot\n",
    "import uproot\n",
    "\n",
    "with uproot.open(\"example.root\") as f:\n",
    "    tree = f[\"events\"]\n",
    "    df = tree.arrays(library=\"pd\")\n",
    "\n",
    "df.head()"
   ]
  },
  {
   "cell_type": "markdown",
   "id": "6973c7bd",
   "metadata": {
    "slideshow": {
     "slide_type": "slide"
    },
    "tags": []
   },
   "source": [
    "## Visualization\n",
    "\n",
    "For production plots, construct matplotlib figures directly."
   ]
  },
  {
   "cell_type": "code",
   "execution_count": 22,
   "id": "21eeed53-2902-48e3-a2c7-5bf56a28bf39",
   "metadata": {
    "slideshow": {
     "slide_type": "slide"
    },
    "tags": []
   },
   "outputs": [
    {
     "data": {
      "image/png": "[encoded data removed]",
      "text/plain": [
       "<Figure size 864x360 with 3 Axes>"
      ]
     },
     "metadata": {
      "needs_background": "light"
     },
     "output_type": "display_data"
    }
   ],
   "source": [
    "fig, axes = plt.subplots(1, 2, figsize=(12, 5))\n",
    "\n",
    "# ---- (1) Histogram of pT ----\n",
    "axes[0].hist(df[\"pt\"], bins=50, histtype='stepfilled', alpha=0.7, color='steelblue')\n",
    "axes[0].set_xlabel(\"pT [GeV]\")\n",
    "axes[0].set_ylabel(\"Entries\")\n",
    "axes[0].set_title(\"Transverse Momentum Distribution\")\n",
    "axes[0].grid(True, alpha=0.3)\n",
    "\n",
    "# ---- (2) 2D correlation plot: pT vs eta ----\n",
    "h = axes[1].hist2d(df[\"eta\"], df[\"pt\"], bins=(50, 50), cmap=\"viridis\")\n",
    "fig.colorbar(h[3], ax=axes[1], label=\"Counts\")\n",
    "axes[1].set_xlabel(\"η (eta)\")\n",
    "axes[1].set_ylabel(\"pT [GeV]\")\n",
    "axes[1].set_title(\"pT vs η Correlation\")\n",
    "\n",
    "plt.tight_layout()\n",
    "plt.show()"
   ]
  },
  {
   "cell_type": "markdown",
   "id": "0383bdcb-c5ba-479b-870c-fbe380cafbd1",
   "metadata": {
    "slideshow": {
     "slide_type": "slide"
    },
    "tags": []
   },
   "source": [
    "As an alternative `DataFrame.plot` as a convenience front-end to matplotlib. "
   ]
  },
  {
   "cell_type": "code",
   "execution_count": 23,
   "id": "4d3dc6c4",
   "metadata": {
    "slideshow": {
     "slide_type": "fragment"
    },
    "tags": []
   },
   "outputs": [
    {
     "data": {
      "image/png": "[encoded data removed]",
      "text/plain": [
       "<Figure size 432x288 with 1 Axes>"
      ]
     },
     "metadata": {
      "needs_background": "light"
     },
     "output_type": "display_data"
    }
   ],
   "source": [
    "df = pd.DataFrame({'x': np.arange(20), 'y': np.random.randn(20).cumsum(), 'g': np.random.choice(['A','B'],20)})\n",
    "ax = df.pivot_table(index='x', columns='g', values='y', aggfunc='mean').plot(title='Example pivot plot')\n",
    "plt.tight_layout()\n",
    "plt.show()"
   ]
  },
  {
   "cell_type": "markdown",
   "id": "8cfe3012",
   "metadata": {
    "slideshow": {
     "slide_type": "slide"
    },
    "tags": []
   },
   "source": [
    "## A complete pipeline: cleaning and validating a dataset\n",
    "\n",
    "Steps: load, inspect, coerce types, feature engineering or testing."
   ]
  },
  {
   "cell_type": "markdown",
   "id": "9bf79fbe-90f1-4975-98fe-78e6553eb656",
   "metadata": {
    "slideshow": {
     "slide_type": "fragment"
    },
    "tags": []
   },
   "source": [
    "### Convert age to numeric, fill missing data"
   ]
  },
  {
   "cell_type": "code",
   "execution_count": 24,
   "id": "b0f3e60a",
   "metadata": {
    "slideshow": {
     "slide_type": "fragment"
    },
    "tags": []
   },
   "outputs": [
    {
     "data": {
      "text/html": [
       "<div>\n",
       "<style scoped>\n",
       "    .dataframe tbody tr th:only-of-type {\n",
       "        vertical-align: middle;\n",
       "    }\n",
       "\n",
       "    .dataframe tbody tr th {\n",
       "        vertical-align: top;\n",
       "    }\n",
       "\n",
       "    .dataframe thead th {\n",
       "        text-align: right;\n",
       "    }\n",
       "</style>\n",
       "<table border=\"1\" class=\"dataframe\">\n",
       "  <thead>\n",
       "    <tr style=\"text-align: right;\">\n",
       "      <th></th>\n",
       "      <th>age</th>\n",
       "      <th>income</th>\n",
       "    </tr>\n",
       "  </thead>\n",
       "  <tbody>\n",
       "    <tr>\n",
       "      <th>0</th>\n",
       "      <td>25.0</td>\n",
       "      <td>1000.0</td>\n",
       "    </tr>\n",
       "    <tr>\n",
       "      <th>1</th>\n",
       "      <td>30.0</td>\n",
       "      <td>2000.0</td>\n",
       "    </tr>\n",
       "    <tr>\n",
       "      <th>2</th>\n",
       "      <td>NaN</td>\n",
       "      <td>NaN</td>\n",
       "    </tr>\n",
       "    <tr>\n",
       "      <th>3</th>\n",
       "      <td>40.0</td>\n",
       "      <td>3000.0</td>\n",
       "    </tr>\n",
       "  </tbody>\n",
       "</table>\n",
       "</div>"
      ],
      "text/plain": [
       "    age  income\n",
       "0  25.0  1000.0\n",
       "1  30.0  2000.0\n",
       "2   NaN     NaN\n",
       "3  40.0  3000.0"
      ]
     },
     "metadata": {},
     "output_type": "display_data"
    },
    {
     "name": "stdout",
     "output_type": "stream",
     "text": [
      "after fill/validate:\n"
     ]
    },
    {
     "data": {
      "text/html": [
       "<div>\n",
       "<style scoped>\n",
       "    .dataframe tbody tr th:only-of-type {\n",
       "        vertical-align: middle;\n",
       "    }\n",
       "\n",
       "    .dataframe tbody tr th {\n",
       "        vertical-align: top;\n",
       "    }\n",
       "\n",
       "    .dataframe thead th {\n",
       "        text-align: right;\n",
       "    }\n",
       "</style>\n",
       "<table border=\"1\" class=\"dataframe\">\n",
       "  <thead>\n",
       "    <tr style=\"text-align: right;\">\n",
       "      <th></th>\n",
       "      <th>age</th>\n",
       "      <th>income</th>\n",
       "    </tr>\n",
       "  </thead>\n",
       "  <tbody>\n",
       "    <tr>\n",
       "      <th>0</th>\n",
       "      <td>25.0</td>\n",
       "      <td>1000.0</td>\n",
       "    </tr>\n",
       "    <tr>\n",
       "      <th>1</th>\n",
       "      <td>30.0</td>\n",
       "      <td>2000.0</td>\n",
       "    </tr>\n",
       "    <tr>\n",
       "      <th>2</th>\n",
       "      <td>30.0</td>\n",
       "      <td>0.0</td>\n",
       "    </tr>\n",
       "    <tr>\n",
       "      <th>3</th>\n",
       "      <td>40.0</td>\n",
       "      <td>3000.0</td>\n",
       "    </tr>\n",
       "  </tbody>\n",
       "</table>\n",
       "</div>"
      ],
      "text/plain": [
       "    age  income\n",
       "0  25.0  1000.0\n",
       "1  30.0  2000.0\n",
       "2  30.0     0.0\n",
       "3  40.0  3000.0"
      ]
     },
     "execution_count": 24,
     "metadata": {},
     "output_type": "execute_result"
    }
   ],
   "source": [
    "df = pd.DataFrame({'age':['25','30', 'unknown', '40'], 'income':['1000','2000','-','3000']})\n",
    "# coerce\n",
    "df['age'] = pd.to_numeric(df['age'], errors='coerce')\n",
    "df['income'] = pd.to_numeric(df['income'].replace('-', np.nan), errors='coerce')\n",
    "display(df)\n",
    "print('after fill/validate:')\n",
    "df['age'] = df['age'].fillna(df['age'].median())\n",
    "df['income'] = df['income'].fillna(0)\n",
    "df"
   ]
  },
  {
   "cell_type": "markdown",
   "id": "b64dd731",
   "metadata": {
    "slideshow": {
     "slide_type": "slide"
    },
    "tags": []
   },
   "source": [
    "### Rescaling features"
   ]
  },
  {
   "cell_type": "code",
   "execution_count": 25,
   "id": "aa66ea10",
   "metadata": {
    "slideshow": {
     "slide_type": "fragment"
    },
    "tags": []
   },
   "outputs": [
    {
     "data": {
      "text/html": [
       "<div>\n",
       "<style scoped>\n",
       "    .dataframe tbody tr th:only-of-type {\n",
       "        vertical-align: middle;\n",
       "    }\n",
       "\n",
       "    .dataframe tbody tr th {\n",
       "        vertical-align: top;\n",
       "    }\n",
       "\n",
       "    .dataframe thead th {\n",
       "        text-align: right;\n",
       "    }\n",
       "</style>\n",
       "<table border=\"1\" class=\"dataframe\">\n",
       "  <thead>\n",
       "    <tr style=\"text-align: right;\">\n",
       "      <th></th>\n",
       "      <th>age</th>\n",
       "      <th>income</th>\n",
       "      <th>age_scaled</th>\n",
       "    </tr>\n",
       "  </thead>\n",
       "  <tbody>\n",
       "    <tr>\n",
       "      <th>0</th>\n",
       "      <td>25.0</td>\n",
       "      <td>1000.0</td>\n",
       "      <td>-1.147079</td>\n",
       "    </tr>\n",
       "    <tr>\n",
       "      <th>1</th>\n",
       "      <td>30.0</td>\n",
       "      <td>2000.0</td>\n",
       "      <td>-0.229416</td>\n",
       "    </tr>\n",
       "    <tr>\n",
       "      <th>2</th>\n",
       "      <td>30.0</td>\n",
       "      <td>0.0</td>\n",
       "      <td>-0.229416</td>\n",
       "    </tr>\n",
       "    <tr>\n",
       "      <th>3</th>\n",
       "      <td>40.0</td>\n",
       "      <td>3000.0</td>\n",
       "      <td>1.605910</td>\n",
       "    </tr>\n",
       "  </tbody>\n",
       "</table>\n",
       "</div>"
      ],
      "text/plain": [
       "    age  income  age_scaled\n",
       "0  25.0  1000.0   -1.147079\n",
       "1  30.0  2000.0   -0.229416\n",
       "2  30.0     0.0   -0.229416\n",
       "3  40.0  3000.0    1.605910"
      ]
     },
     "metadata": {},
     "output_type": "display_data"
    }
   ],
   "source": [
    "from sklearn.preprocessing import StandardScaler\n",
    "\n",
    "def scale_df(df, col,coln):\n",
    "    df = df.copy()\n",
    "    df[coln] = StandardScaler().fit_transform(df[[col]])\n",
    "    return df\n",
    "\n",
    "df = scale_df(df,\"age\",\"age_scaled\")\n",
    "display(df)"
   ]
  },
  {
   "cell_type": "markdown",
   "id": "6e31eb05",
   "metadata": {
    "slideshow": {
     "slide_type": "slide"
    },
    "tags": []
   },
   "source": [
    "### More feature engineering"
   ]
  },
  {
   "cell_type": "code",
   "execution_count": 26,
   "id": "35592e99",
   "metadata": {
    "slideshow": {
     "slide_type": "fragment"
    },
    "tags": []
   },
   "outputs": [
    {
     "name": "stdout",
     "output_type": "stream",
     "text": [
      "\n",
      "DataFrame with derived features:\n"
     ]
    },
    {
     "data": {
      "text/html": [
       "<div>\n",
       "<style scoped>\n",
       "    .dataframe tbody tr th:only-of-type {\n",
       "        vertical-align: middle;\n",
       "    }\n",
       "\n",
       "    .dataframe tbody tr th {\n",
       "        vertical-align: top;\n",
       "    }\n",
       "\n",
       "    .dataframe thead th {\n",
       "        text-align: right;\n",
       "    }\n",
       "</style>\n",
       "<table border=\"1\" class=\"dataframe\">\n",
       "  <thead>\n",
       "    <tr style=\"text-align: right;\">\n",
       "      <th></th>\n",
       "      <th>age</th>\n",
       "      <th>income</th>\n",
       "      <th>age_scaled</th>\n",
       "      <th>income_per_age</th>\n",
       "      <th>high_income</th>\n",
       "      <th>age_group</th>\n",
       "    </tr>\n",
       "  </thead>\n",
       "  <tbody>\n",
       "    <tr>\n",
       "      <th>0</th>\n",
       "      <td>25.0</td>\n",
       "      <td>1000.0</td>\n",
       "      <td>-1.147079</td>\n",
       "      <td>40.000000</td>\n",
       "      <td>0</td>\n",
       "      <td>young</td>\n",
       "    </tr>\n",
       "    <tr>\n",
       "      <th>1</th>\n",
       "      <td>30.0</td>\n",
       "      <td>2000.0</td>\n",
       "      <td>-0.229416</td>\n",
       "      <td>66.666667</td>\n",
       "      <td>0</td>\n",
       "      <td>young</td>\n",
       "    </tr>\n",
       "    <tr>\n",
       "      <th>2</th>\n",
       "      <td>30.0</td>\n",
       "      <td>0.0</td>\n",
       "      <td>-0.229416</td>\n",
       "      <td>0.000000</td>\n",
       "      <td>0</td>\n",
       "      <td>young</td>\n",
       "    </tr>\n",
       "    <tr>\n",
       "      <th>3</th>\n",
       "      <td>40.0</td>\n",
       "      <td>3000.0</td>\n",
       "      <td>1.605910</td>\n",
       "      <td>75.000000</td>\n",
       "      <td>1</td>\n",
       "      <td>adult</td>\n",
       "    </tr>\n",
       "  </tbody>\n",
       "</table>\n",
       "</div>"
      ],
      "text/plain": [
       "    age  income  age_scaled  income_per_age  high_income age_group\n",
       "0  25.0  1000.0   -1.147079       40.000000            0     young\n",
       "1  30.0  2000.0   -0.229416       66.666667            0     young\n",
       "2  30.0     0.0   -0.229416        0.000000            0     young\n",
       "3  40.0  3000.0    1.605910       75.000000            1     adult"
      ]
     },
     "metadata": {},
     "output_type": "display_data"
    }
   ],
   "source": [
    "df['income_per_age'] = df['income'] / df['age']\n",
    "df['high_income'] = (df['income'] > 2000).astype(int)\n",
    "df['age_group'] = pd.cut(df['age'], bins=[0, 30, 50], labels=['young', 'adult'])\n",
    "\n",
    "print(\"\\nDataFrame with derived features:\")\n",
    "display(df)"
   ]
  },
  {
   "cell_type": "markdown",
   "id": "42b26192-da5e-4432-bf2d-23639ae796a5",
   "metadata": {
    "slideshow": {
     "slide_type": "slide"
    },
    "tags": []
   },
   "source": [
    "### Testing DataFrame pipelines\n",
    "\n",
    "pandas provides `pandas.testing.assert_frame_equal` for deterministic tests of transforms."
   ]
  },
  {
   "cell_type": "code",
   "execution_count": 27,
   "id": "a4e12ba5",
   "metadata": {
    "slideshow": {
     "slide_type": "fragment"
    },
    "tags": []
   },
   "outputs": [
    {
     "name": "stdout",
     "output_type": "stream",
     "text": [
      "dfs are equal\n"
     ]
    }
   ],
   "source": [
    "import pandas.testing as pdt\n",
    "dfc = df.copy()\n",
    "try: \n",
    "    pdt.assert_frame_equal(df,dfc)\n",
    "    print(\"dfs are equal\")\n",
    "except: \"dfs are different\""
   ]
  },
  {
   "cell_type": "markdown",
   "id": "78011816-d55a-414b-a0c2-507232095260",
   "metadata": {
    "slideshow": {
     "slide_type": "slide"
    },
    "tags": []
   },
   "source": [
    "### Visualization"
   ]
  },
  {
   "cell_type": "code",
   "execution_count": 28,
   "id": "95ff0bc9-e5f8-48cd-8fbc-bfe5d86cdb45",
   "metadata": {
    "slideshow": {
     "slide_type": "fragment"
    },
    "tags": []
   },
   "outputs": [
    {
     "data": {
      "image/png": "[encoded data removed]",
      "text/plain": [
       "<Figure size 432x288 with 1 Axes>"
      ]
     },
     "metadata": {
      "needs_background": "light"
     },
     "output_type": "display_data"
    }
   ],
   "source": [
    "plt.figure(figsize=(6,4))\n",
    "plt.scatter(df['age'], df['income'], c=df['high_income'], cmap='coolwarm', s=80)\n",
    "plt.xlabel('Age')\n",
    "plt.ylabel('Income')\n",
    "plt.title('Income vs Age (colored by High Income)')\n",
    "plt.grid(True, alpha=0.3)\n",
    "plt.show()"
   ]
  },
  {
   "cell_type": "markdown",
   "id": "3d34786f-e433-48f4-ba18-31248a8efd6d",
   "metadata": {
    "slideshow": {
     "slide_type": "slide"
    },
    "tags": []
   },
   "source": [
    "## Performance tips and scaling\n",
    "\n",
    "- Use vectorized operations\n",
    "- Reduce memory with categorical dtypes\n",
    "- Use `eval`/`query` for large expressions\n",
    "- Consider Dask, Polars or PySpark for > RAM datasets\n",
    "- Use chunked reading (`chunksize`) for large CSVs\n"
   ]
  },
  {
   "cell_type": "markdown",
   "id": "af3800f1",
   "metadata": {
    "slideshow": {
     "slide_type": "slide"
    },
    "tags": []
   },
   "source": [
    "### Exercises\n",
    "\n",
    "1. Train with a messy socio-economic dataset stored in a CSV file ([people_data_large.csv](https://www.dropbox.com/scl/fi/n0s4h0ph8pzhvqomloril/people_data_large.csv?rlkey=amd4dq9bp5vcrlg3ieyyzxxvc&dl=1)\n",
    "):\n",
    "   - Load the dataset with `pandas.read_csv()` and inspect its shape, columns, and first few rows.  \n",
    "   - Clean the data by replacing invalid entries (`\"-\"`, `\"unknown\"`, negative values) with `NaN`, converting types, and imputing or dropping missing values.  \n",
    "   - Encode categorical variables (`city`, `has_car`, etc.) using label encoding and one-hot encoding (`pd.factorize`, `pd.get_dummies`).  \n",
    "   - Create derived features such as `income_per_age`, `is_senior` (age > 60), and `log_income`, and optionally scale or normalize numerical variables.  \n",
    "   - Compute correlations and visualize relationships with histograms, scatter/hexbin plots (`age` vs. `income`), and correlation heatmaps.\n",
    "\n",
    "\n",
    "2. Data concatenation and merging: generate and merge multiple synthetic CSV files:\n",
    "\n",
    "   - Create three small DataFrames (`people_part1.csv`, `people_part2.csv`, `people_part3.csv`) with overlapping but not identical columns (e.g. `age`, `income`, `city`, `education`, `has_car`).  \n",
    "   - Save each DataFrame to disk with `to_csv()`, introducing small differences between them (missing columns, additional rows, or extra features).  \n",
    "   - Load them back using `pd.read_csv()` and inspect column alignment and data consistency.  \n",
    "   - Concatenate them vertically with `pd.concat([...], ignore_index=True)` and handle missing columns or conflicting types.  \n",
    "   - Clean the merged dataset by filling or dropping `NaN`s and standardizing column names and types.  \n",
    "\n",
    "\n",
    "3. Practice feature engineering using a dataset read from a ROOT file with `uproot`:\n",
    "\n",
    "    - Read the ROOT file ([example.root](https://www.dropbox.com/scl/fi/138im0euyaof8ie111bg4/example.root?rlkey=egflvhlk6i58n13bhsh2d54zi&dl=1)\n",
    ") into a pandas DataFrame and inspect its structure.  \n",
    "    - Compute derived physics features, such as total momentum `p`, transverse mass `mt`, and energy `E`, from the existing kinematic variables.  \n",
    "    - Aggregate data per event using `groupby(\"event_id\")`, computing summaries like total and mean `pT`, total charge, and summed energy.  \n",
    "    - Engineer ML-friendly features: normalized components (`px/p`, `py/p`, `pz/p`), transformations (`log(pT)`, `|η|`), and composite metrics (e.g. isolation-like variables).  \n",
    "    - Visualize your results using histograms and 2D correlations to check distributions and relationships between engineered quantities.\n"
   ]
  },
  {
   "cell_type": "markdown",
   "id": "4509ba27",
   "metadata": {
    "slideshow": {
     "slide_type": "slide"
    }
   },
   "source": [
    "### ++ Exercise\n",
    "\n",
    "You are given a large synthetic dataset, [transactions_large.csv](\n",
    "https://www.dropbox.com/scl/fi/978fvanm97etvopuep5wd/transactions_large.csv?rlkey=vazbdqpjjatwg8bz0f6bc1xhp&dl=1), containing ~10 million financial transactions with the following columns:\n",
    "\n",
    "       - `user_id` (int): unique user identifier  \n",
    "       - `timestamp` (datetime): simulated transaction time  \n",
    "       - `region` (str): user region (`Europe`, `Asia`, `America`, `Africa`, `Oceania`)  \n",
    "       - `category` (str): purchase category (`electronics`, `clothing`, `groceries`, `sports`, `entertainment`)  \n",
    "       - `amount` (float): transaction amount in euros  \n",
    "       - `is_fraud` (bool): simulated fraud flag (~2% of cases)\n",
    "   - Load the dataset using a scalable data engine:\n",
    "       - `Dask`: `import dask.dataframe as dd; df = dd.read_csv(\"transactions_large.csv\")`\n",
    "       - or `Polars`: `import polars as pl; df = pl.read_csv(\"transactions_large.csv\")`\n",
    "       - or `PySpark`: `spark.read.csv(\"transactions_large.csv\", header=True, inferSchema=True)`\n",
    "   - Compute and visualize:\n",
    "       - total number of transactions and total amount per region  \n",
    "       - average and median amount per category  \n",
    "       - percentage of fraudulent transactions overall and per region  \n",
    "   - Filter the data to select:\n",
    "       - transactions above €1000  \n",
    "       - fraudulent transactions in `Europe` or `America`  \n",
    "       - activity in the last simulated month  \n",
    "   - Visualize the filtered results using `matplotlib` or `seaborn`.  \n",
    "   - Compare the time and memory usage of these operations when executed with pandas vs. your chosen backend (`Dask`, `Polars`, or `PySpark`).\n",
    "\n",
    "\n"
   ]
  }
 ],
 "metadata": {
  "celltoolbar": "Slideshow",
  "kernelspec": {
   "display_name": "Python 3",
   "language": "python",
   "name": "python3"
  },
  "language_info": {
   "codemirror_mode": {
    "name": "ipython",
    "version": 3
   },
   "file_extension": ".py",
   "mimetype": "text/x-python",
   "name": "python",
   "nbconvert_exporter": "python",
   "pygments_lexer": "ipython3",
   "version": "3.7.16"
  }
 },
 "nbformat": 4,
 "nbformat_minor": 5
}
