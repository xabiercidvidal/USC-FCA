{
 "cells": [
  {
   "cell_type": "markdown",
   "metadata": {
    "slideshow": {
     "slide_type": "slide"
    },
    "tags": []
   },
   "source": [
    "# Advanced Computational Physics \n",
    "\n",
    "\n",
    "## More about Python: Functions, Classes and Symbolic computing\n",
    "### Index\n",
    "\n",
    "\n",
    "#### *X. Cid Vidal, J.A. Hernando Morata*, in collaboration wtih *G. Martínez-Lema*, *M. Kekic*.\n",
    "####  USC, October 2024 \n"
   ]
  },
  {
   "cell_type": "code",
   "execution_count": 1,
   "metadata": {
    "slideshow": {
     "slide_type": "fragment"
    },
    "tags": []
   },
   "outputs": [
    {
     "name": "stdout",
     "output_type": "stream",
     "text": [
      " Last version  Tue Oct 29 00:26:40 2024\n"
     ]
    }
   ],
   "source": [
    "import time\n",
    "\n",
    "print(' Last version ', time.asctime() )"
   ]
  },
  {
   "cell_type": "markdown",
   "metadata": {
    "slideshow": {
     "slide_type": "slide"
    },
    "tags": []
   },
   "source": [
    "## Index\n",
    "\n",
    "### Preparing the course\n",
    "\n",
    "* [About the materials of this course](./setup.ipynb)\n",
    "\n",
    "\n",
    "### More about Python, Functions, Classes and Symbolic computing:\n",
    "\n",
    "* [Introduction](./python_intro.ipynb)\n",
    "\n",
    "\n",
    "* Functional Programming\n",
    "    \n",
    "    - [Functions](./about_functions.ipynb)\n",
    "\n",
    "    - [List expressions, iterators and generators](./about_list_expressions.ipynb)\n",
    "\n",
    "    - [Testing functions](./about_testing.ipynb)\n",
    "\n",
    "\n",
    "* Object oriented Python\n",
    "\n",
    "     - [Introduction to classes](./classes_intro.ipynb)     \n",
    "    \n",
    "     - [Implementation of classes, inheritance](./classes.ipynb)\n",
    "\n",
    "* [Subprocesses, concurrency and parallelism in Python](./concurrency_parallelism.ipynb)\n",
    "\n",
    "* [Symbolic computing](./sympy.ipynb)\n",
    "\n",
    "\n",
    "#### Shortcuts:\n",
    "\n",
    "* [shortcut to *matplotlib* (1)](./shortcut_matplotlib1.ipynb)\n",
    "\n",
    "* [shortcut to *matplotlib* (2)](./shortcut_matplotlib2.ipynb)\n",
    "\n",
    "\n",
    "#### Cookbooks:\n",
    "\n",
    "* [*numpy* cookbook](./cookbook_numpy.ipynb)\n",
    "\n",
    "* [*pandas* cookbook](./cookbook_pandas.ipynb)\n",
    "    \n"
   ]
  },
  {
   "cell_type": "code",
   "execution_count": null,
   "metadata": {},
   "outputs": [],
   "source": []
  }
 ],
 "metadata": {
  "anaconda-cloud": {},
  "celltoolbar": "Slideshow",
  "kernelspec": {
   "display_name": "Python 3",
   "language": "python",
   "name": "python3"
  },
  "language_info": {
   "codemirror_mode": {
    "name": "ipython",
    "version": 3
   },
   "file_extension": ".py",
   "mimetype": "text/x-python",
   "name": "python",
   "nbconvert_exporter": "python",
   "pygments_lexer": "ipython3",
   "version": "3.7.16"
  }
 },
 "nbformat": 4,
 "nbformat_minor": 4
}
