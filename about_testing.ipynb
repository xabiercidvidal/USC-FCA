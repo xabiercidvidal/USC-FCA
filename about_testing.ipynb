{
 "cells": [
  {
   "cell_type": "markdown",
   "metadata": {
    "slideshow": {
     "slide_type": "subslide"
    }
   },
   "source": [
    "# Advanced Computational Physics \n",
    "\n",
    "\n",
    "## More about Python: Functions, Classes and Symbolic computing\n",
    "### Functional programming: A primer on testing functions\n",
    "\n",
    "\n",
    "#### *X. Cid Vidal, J.A. Hernando Morata*, in collaboration wtih *G. Martínez-Lema*, *M. Kekic*.\n",
    "####  USC, October 2024 "
   ]
  },
  {
   "cell_type": "code",
   "execution_count": 1,
   "metadata": {
    "slideshow": {
     "slide_type": "fragment"
    }
   },
   "outputs": [
    {
     "name": "stdout",
     "output_type": "stream",
     "text": [
      " Last revision  Tue Oct 15 14:48:28 2024\n"
     ]
    }
   ],
   "source": [
    "import time \n",
    "print(' Last revision ', time.asctime())"
   ]
  },
  {
   "cell_type": "code",
   "execution_count": 2,
   "metadata": {
    "slideshow": {
     "slide_type": "slide"
    }
   },
   "outputs": [],
   "source": [
    "# general imports\n",
    "%matplotlib inline\n",
    "\n",
    "# the general imports\n",
    "import numpy as np\n",
    "import pandas as pd\n",
    "import matplotlib\n",
    "import matplotlib.pyplot as plt\n",
    "# possible styles: ggplot (simplicity), bmh (scientify data), \n",
    "matplotlib.style.use('ggplot')"
   ]
  },
  {
   "cell_type": "markdown",
   "metadata": {
    "slideshow": {
     "slide_type": "slide"
    }
   },
   "source": [
    "## 1. Testing a function\n",
    "\n",
    "It is a good practice to write a set of tests to check that a function does what is expected to do.\n",
    "\n",
    "For the *fib* function we can make a test function. \n",
    "\n",
    "Usually we define test functions as: *test_function*"
   ]
  },
  {
   "cell_type": "code",
   "execution_count": 3,
   "metadata": {
    "slideshow": {
     "slide_type": "slide"
    }
   },
   "outputs": [],
   "source": [
    "def fib(n):\n",
    "    \"\"\" returns a list with the first n numbers of the Fibonacci serie\n",
    "    \"\"\"\n",
    "    ns = [0, 1]\n",
    "     \n",
    "    for i in range(2, n):\n",
    "        ns.append(ns[i-2] + ns[i-1])\n",
    "    \n",
    "    return ns"
   ]
  },
  {
   "cell_type": "code",
   "execution_count": 4,
   "metadata": {
    "slideshow": {
     "slide_type": "slide"
    }
   },
   "outputs": [],
   "source": [
    "def test_fib(ns):\n",
    "             \n",
    "    assert ns[0] == 0\n",
    "    assert ns[1] == 1\n",
    "\n",
    "    n   = len(ns)\n",
    "    oks = [ns[i] == ns[i-1] + ns[i-2] for i in range(2, n)]\n",
    "    assert all(oks)\n",
    "\n",
    "    return True"
   ]
  },
  {
   "cell_type": "code",
   "execution_count": 5,
   "metadata": {
    "slideshow": {
     "slide_type": "fragment"
    }
   },
   "outputs": [
    {
     "name": "stdout",
     "output_type": "stream",
     "text": [
      "[0, 1, 1, 2, 3, 5, 8, 13, 21, 34, 55, 89, 144, 233, 377, 610, 987, 1597, 2584, 4181]\n",
      "True\n",
      "[0, 1, 5, 8]\n"
     ]
    },
    {
     "ename": "AssertionError",
     "evalue": "",
     "output_type": "error",
     "traceback": [
      "\u001b[0;31m---------------------------------------------------------------------------\u001b[0m",
      "\u001b[0;31mAssertionError\u001b[0m                            Traceback (most recent call last)",
      "Cell \u001b[0;32mIn[5], line 7\u001b[0m\n\u001b[1;32m      5\u001b[0m values \u001b[38;5;241m=\u001b[39m [\u001b[38;5;241m0\u001b[39m, \u001b[38;5;241m1\u001b[39m, \u001b[38;5;241m5\u001b[39m, \u001b[38;5;241m8\u001b[39m]\n\u001b[1;32m      6\u001b[0m \u001b[38;5;28mprint\u001b[39m(values)\n\u001b[0;32m----> 7\u001b[0m \u001b[43mtest_fib\u001b[49m\u001b[43m(\u001b[49m\u001b[43mvalues\u001b[49m\u001b[43m)\u001b[49m\n",
      "Cell \u001b[0;32mIn[4], line 8\u001b[0m, in \u001b[0;36mtest_fib\u001b[0;34m(ns)\u001b[0m\n\u001b[1;32m      6\u001b[0m n   \u001b[38;5;241m=\u001b[39m \u001b[38;5;28mlen\u001b[39m(ns)\n\u001b[1;32m      7\u001b[0m oks \u001b[38;5;241m=\u001b[39m [ns[i] \u001b[38;5;241m==\u001b[39m ns[i\u001b[38;5;241m-\u001b[39m\u001b[38;5;241m1\u001b[39m] \u001b[38;5;241m+\u001b[39m ns[i\u001b[38;5;241m-\u001b[39m\u001b[38;5;241m2\u001b[39m] \u001b[38;5;28;01mfor\u001b[39;00m i \u001b[38;5;129;01min\u001b[39;00m \u001b[38;5;28mrange\u001b[39m(\u001b[38;5;241m2\u001b[39m, n)]\n\u001b[0;32m----> 8\u001b[0m \u001b[38;5;28;01massert\u001b[39;00m \u001b[38;5;28mall\u001b[39m(oks)\n\u001b[1;32m     10\u001b[0m \u001b[38;5;28;01mreturn\u001b[39;00m \u001b[38;5;28;01mTrue\u001b[39;00m\n",
      "\u001b[0;31mAssertionError\u001b[0m: "
     ]
    }
   ],
   "source": [
    "n      = 20 \n",
    "values = fib(n)\n",
    "print(values)\n",
    "print(test_fib(values))\n",
    "values = [0, 1, 5, 8]\n",
    "print(values)\n",
    "test_fib(values)"
   ]
  },
  {
   "cell_type": "markdown",
   "metadata": {
    "slideshow": {
     "slide_type": "slide"
    }
   },
   "source": [
    "### The importance of testing\n",
    "\n",
    "\n",
    "In reality a function is defined via its test.\n",
    "\n",
    "It is in general a good practice to write tests of a function before implementing the function!\n",
    "\n",
    "for example, What is the bi-valued function that must pass the following tests?"
   ]
  },
  {
   "cell_type": "code",
   "execution_count": 6,
   "metadata": {
    "slideshow": {
     "slide_type": "slide"
    }
   },
   "outputs": [],
   "source": [
    "def test_addition(function, a, b, null = 0):\n",
    "    \n",
    "    assert function(a, b) == function(b, a)\n",
    "    \n",
    "    assert function(a, function(a, b)) == function(b, function(a, a))\n",
    "    \n",
    "    assert function(a, null) ==  a\n",
    "    \n",
    "    return True"
   ]
  },
  {
   "cell_type": "code",
   "execution_count": 7,
   "metadata": {
    "slideshow": {
     "slide_type": "slide"
    }
   },
   "outputs": [
    {
     "name": "stdout",
     "output_type": "stream",
     "text": [
      "(1+0j) 1j\n",
      "(1+1j)\n",
      "test passed\n"
     ]
    }
   ],
   "source": [
    "## j denotes the imaginary unit in python\n",
    "add   = lambda a, b : a + b\n",
    "a, b  = 1+0j, 0+1j\n",
    "\n",
    "print(a,b)\n",
    "print(add(a,b))\n",
    "#test_function(add, a, b)\n",
    "\n",
    "try:\n",
    "    test_addition(add, a, b)\n",
    "    print('test passed')\n",
    "except:\n",
    "    print('test not passed')\n"
   ]
  },
  {
   "cell_type": "code",
   "execution_count": 8,
   "metadata": {
    "slideshow": {
     "slide_type": "slide"
    }
   },
   "outputs": [
    {
     "name": "stdout",
     "output_type": "stream",
     "text": [
      "test not passed\n"
     ]
    }
   ],
   "source": [
    "mul  = lambda a, b : a * b  \n",
    "a, b = 1+0j, 0+1j\n",
    "\n",
    "try:\n",
    "    test_addition(mul, a, b)\n",
    "    print('test passed')\n",
    "except:\n",
    "    print('test not passed')"
   ]
  },
  {
   "cell_type": "code",
   "execution_count": 9,
   "metadata": {
    "slideshow": {
     "slide_type": "slide"
    }
   },
   "outputs": [
    {
     "name": "stdout",
     "output_type": "stream",
     "text": [
      "test not passed\n"
     ]
    }
   ],
   "source": [
    "a, b = list(range(3)), list(range(3, 6))\n",
    "\n",
    "## add won't work for lists, as defined\n",
    "    \n",
    "try:\n",
    "    test_addition(add, a, b)\n",
    "    print('test passed')\n",
    "except:\n",
    "    print('test not passed')"
   ]
  },
  {
   "cell_type": "markdown",
   "metadata": {
    "slideshow": {
     "slide_type": "slide"
    }
   },
   "source": [
    "In the next sections, about classes, we will learn that the addition operation with a complex is called: *complex.\\_\\_add\\_\\_* and the with list *list.\\_\\_add\\_\\_*.\n",
    "\n",
    "And in a similar way with the multiplication"
   ]
  },
  {
   "cell_type": "markdown",
   "metadata": {
    "slideshow": {
     "slide_type": "slide"
    }
   },
   "source": [
    "### Decorators\n",
    "\n",
    "Decorators are a special syntax in Python that allows to apply a function, *decorate*, on top of another function, *function*:\n",
    "    \n",
    "*decorator(function)*\n",
    "\n",
    "In the case above, there is a pattern that repeats (*try: except:*) that can be implemented as decorator."
   ]
  },
  {
   "cell_type": "code",
   "execution_count": 10,
   "metadata": {
    "slideshow": {
     "slide_type": "slide"
    }
   },
   "outputs": [
    {
     "name": "stdout",
     "output_type": "stream",
     "text": [
      "test not passed\n"
     ]
    }
   ],
   "source": [
    "a, b = 1., 2.\n",
    "try:\n",
    "    test_addition(prod, a, b)\n",
    "    print('test passed')\n",
    "except:\n",
    "    print('test not passed')"
   ]
  },
  {
   "cell_type": "markdown",
   "metadata": {
    "slideshow": {
     "slide_type": "slide"
    }
   },
   "source": [
    "But first, this is an example of a decorator:"
   ]
  },
  {
   "cell_type": "code",
   "execution_count": 11,
   "metadata": {
    "slideshow": {
     "slide_type": "fragment"
    }
   },
   "outputs": [
    {
     "data": {
      "text/plain": [
       "'> hello'"
      ]
     },
     "execution_count": 11,
     "metadata": {},
     "output_type": "execute_result"
    }
   ],
   "source": [
    "def add_initial_symbol(function):\n",
    "    \n",
    "    def decorate(): return '> ' +  function()\n",
    "    return decorate\n",
    "    \n",
    "@add_initial_symbol\n",
    "def hello():\n",
    "    \n",
    "    return 'hello'\n",
    "\n",
    "hello()"
   ]
  },
  {
   "cell_type": "markdown",
   "metadata": {
    "slideshow": {
     "slide_type": "slide"
    }
   },
   "source": [
    "Notice that first we need to define a function-decorator, *add_initial_symbol* that returns the decorated function, and then, we 'code' the decorator on top of the function via the especial symtax *@add_initial_symbol* on top of the definition of the function. \n",
    "\n",
    "The function named *hello()* does now what does the body of *decorate()* inside *add_initial_symbol*.\n",
    "\n",
    "The decorator adds an additional functionality to the function it decorates."
   ]
  },
  {
   "cell_type": "markdown",
   "metadata": {
    "slideshow": {
     "slide_type": "slide"
    }
   },
   "source": [
    "Let's do now a decorator for test_function, that in this case takes three arguments, *fun, a, b*."
   ]
  },
  {
   "cell_type": "code",
   "execution_count": 12,
   "metadata": {
    "slideshow": {
     "slide_type": "slide"
    }
   },
   "outputs": [],
   "source": [
    "def print_test(test_fun):\n",
    "    \n",
    "    def decorate(fun, a, b, null = 0):\n",
    "        try:\n",
    "            test_fun(fun, a, b, null)\n",
    "            print('Test passed!')\n",
    "        except:\n",
    "            print('Test not passed!')\n",
    "            \n",
    "    return decorate"
   ]
  },
  {
   "cell_type": "code",
   "execution_count": 13,
   "metadata": {
    "slideshow": {
     "slide_type": "slide"
    }
   },
   "outputs": [],
   "source": [
    "@print_test\n",
    "def test_addition(function, a, b, null = 0):\n",
    "    \n",
    "    assert function(a, b) == function(b, a)\n",
    "    \n",
    "    assert function(a, function(a, b)) == function(b, function(a, a))\n",
    "    \n",
    "    assert function(a, null) ==  a"
   ]
  },
  {
   "cell_type": "code",
   "execution_count": 14,
   "metadata": {
    "slideshow": {
     "slide_type": "slide"
    }
   },
   "outputs": [
    {
     "name": "stdout",
     "output_type": "stream",
     "text": [
      "Test passed!\n",
      "Test not passed!\n"
     ]
    }
   ],
   "source": [
    "## now, for every call to test_addition, print_test is run, using as test_fun the argument test_addition\n",
    "\n",
    "a, b = 5., 1.\n",
    "test_addition(add, a, b)\n",
    "\n",
    "test_addition(mul, a, b)"
   ]
  },
  {
   "cell_type": "markdown",
   "metadata": {
    "slideshow": {
     "slide_type": "slide"
    }
   },
   "source": [
    "Now *test_addition* is in fact *decorated* with *print_test* and takes the argument, *function, a, b*."
   ]
  },
  {
   "cell_type": "markdown",
   "metadata": {
    "slideshow": {
     "slide_type": "slide"
    }
   },
   "source": [
    "## Pytest\n",
    "\n",
    "There are several modules to imlement tests in python. \n",
    "\n",
    "A common module is [*pytest*](https://docs.pytest.org/en/7.1.x/contents.html) (see documentation to explore the multiple testing capabilities)\n",
    "\n"
   ]
  },
  {
   "cell_type": "markdown",
   "metadata": {
    "slideshow": {
     "slide_type": "slide"
    }
   },
   "source": [
    "### Exercises\n",
    "\n",
    "  * For the functions that you have implemente before, implement some tests.\n",
    "  \n",
    "  * From now on, in your modules try to include tests of your functions.\n",
    "  \n",
    "  * Make a test to verify the addition and multiplication operations with numpy arrays. Add the *print_test_function* decorator."
   ]
  }
 ],
 "metadata": {
  "anaconda-cloud": {},
  "celltoolbar": "Slideshow",
  "kernelspec": {
   "display_name": "Python (my-local-env)",
   "language": "python",
   "name": "my-local-env"
  },
  "language_info": {
   "codemirror_mode": {
    "name": "ipython",
    "version": 3
   },
   "file_extension": ".py",
   "mimetype": "text/x-python",
   "name": "python",
   "nbconvert_exporter": "python",
   "pygments_lexer": "ipython3",
   "version": "3.9.6"
  }
 },
 "nbformat": 4,
 "nbformat_minor": 4
}
