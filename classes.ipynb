{
 "cells": [
  {
   "cell_type": "markdown",
   "metadata": {
    "slideshow": {
     "slide_type": "slide"
    }
   },
   "source": [
    "# Advanced Computational Physics \n",
    "\n",
    "\n",
    "## More about Python: Functions, Classes and Symbolic computing\n",
    "### Object oriented python: Implementation of classes, inheritance\n",
    "\n",
    "\n",
    "#### *X. Cid Vidal, J.A. Hernando Morata*, in collaboration wtih *G. Martínez-Lema*, *M. Kekic*.\n",
    "####  USC, October 2023 "
   ]
  },
  {
   "cell_type": "code",
   "execution_count": 16,
   "metadata": {
    "slideshow": {
     "slide_type": "fragment"
    }
   },
   "outputs": [
    {
     "name": "stdout",
     "output_type": "stream",
     "text": [
      " Last revision  Mon Nov  6 11:32:24 2023\n"
     ]
    }
   ],
   "source": [
    "import time\n",
    "print(' Last revision ', time.asctime())"
   ]
  },
  {
   "cell_type": "markdown",
   "metadata": {
    "slideshow": {
     "slide_type": "slide"
    }
   },
   "source": [
    "----\n",
    "## 1. Classes: A practical example, define a complex number.\n",
    "\n",
    "For pedagogic purposes we are going to code a complex number class, but instead of using as attributes the real and imaginary part we will use the module and the phase."
   ]
  },
  {
   "cell_type": "markdown",
   "metadata": {
    "slideshow": {
     "slide_type": "slide"
    }
   },
   "source": [
    "Before coding a class, we should identify the elements of the class: its **attributes** and its **methods**. \n",
    "\n",
    "For our complex number, the attribures are the *module* and the *phase*.\n",
    "\n",
    "While the operations are the same that we have in the python builtin complex class: *abs, add, subs, prod, conjugate, str,* etc, with the adition of *real* and *img* methods.\n"
   ]
  },
  {
   "cell_type": "markdown",
   "metadata": {
    "slideshow": {
     "slide_type": "slide"
    }
   },
   "source": [
    "An essential method is the constructor. \n",
    "\n",
    "The constructor is the method that creates the object, that is, it sets its attributes. \n",
    "\n",
    "The construtor has the special method **\\_\\_init\\_\\_** and to call a constructor we simply use a function that is the name of the class.  In our case, the constructor will take the module and the phase of the complex number and create it.\n",
    "\n",
    "To distinguish our class from the python complex class, we will defined as *Complex*, with 'C' in uppercase. In doing so, we also follow the recomendations of pep8."
   ]
  },
  {
   "cell_type": "markdown",
   "metadata": {
    "slideshow": {
     "slide_type": "slide"
    }
   },
   "source": [
    "### 1.1 The syntax for Class\n",
    "\n",
    "The following cell contains the partial definition of the *Complex* class:"
   ]
  },
  {
   "cell_type": "code",
   "execution_count": 17,
   "metadata": {
    "slideshow": {
     "slide_type": "slide"
    }
   },
   "outputs": [],
   "source": [
    "import math\n",
    "\n",
    "class Complex:\n",
    "    \"\"\" Complex number with module and phase as attributes\n",
    "    \"\"\"\n",
    "        \n",
    "    def __init__(self, mod, phase):\n",
    "        \"\"\" To construct a complex number from the module and the phase\n",
    "        \"\"\"\n",
    "        if (mod < 0): \n",
    "            raise TypeError('module must be zero or positive')\n",
    "        self.mod   = mod\n",
    "        self.phase = phase\n",
    "        return\n",
    "    \n",
    "    def real(self):\n",
    "        \"\"\" return the real part\n",
    "        \"\"\"\n",
    "        real = self.mod * math.cos(self.phase) \n",
    "        return real\n",
    " \n",
    "    def img(self):\n",
    "        \"\"\" return the imaginary part\n",
    "        \"\"\"\n",
    "        img = self.mod * math.sin(self.phase)\n",
    "        return img\n",
    "    \n",
    "    def __abs__(self):\n",
    "        \"\"\" return the module\n",
    "        \"\"\"\n",
    "        return self.mod\n",
    "    \n",
    "    def __add__(self, y):\n",
    "        \"\"\" add to complex numbers <=> x+y\n",
    "        \"\"\"\n",
    "        real = self.real() + y.real()\n",
    "        img  = self.img()  + y.img()\n",
    "        mod  = math.sqrt(real*real + img*img)\n",
    "        phase = 0.\n",
    "        if (mod > 0): \n",
    "            phase = math.acos(real / mod)\n",
    "        return Complex(mod, phase)\n",
    "    \n",
    "    def __mul__(self, y):\n",
    "        \"\"\" the product of two complex numbers: x*y\n",
    "        \"\"\" \n",
    "        mod   = self.mod   * y.mod\n",
    "        phase = self.phase + y.phase\n",
    "        return Complex(mod, phase)\n",
    "        \n",
    "    def conjugate(self):\n",
    "        \"\"\" complex conjugate\n",
    "        \"\"\"\n",
    "        return Complex(self.mod, -1. * self.phase)\n",
    "    \n",
    "    def __str__(self):\n",
    "        \"\"\" convert to a string\n",
    "        \"\"\"\n",
    "        s = str(self.mod) + 'e^' + str(self.phase)\n",
    "        return s\n",
    "           "
   ]
  },
  {
   "cell_type": "markdown",
   "metadata": {
    "slideshow": {
     "slide_type": "slide"
    }
   },
   "source": [
    "Construction of an instance, an object of class Complex:"
   ]
  },
  {
   "cell_type": "code",
   "execution_count": 18,
   "metadata": {
    "slideshow": {
     "slide_type": "fragment"
    }
   },
   "outputs": [
    {
     "name": "stdout",
     "output_type": "stream",
     "text": [
      "atributes of object x : 1.0 3.141592653589793\n",
      " x is of type  <class '__main__.Complex'>\n",
      " x has as real part :  -1.0\n",
      " x has as imag part :  1.2246467991473532e-16\n"
     ]
    }
   ],
   "source": [
    "## construction \n",
    "x = Complex(1., math.pi)\n",
    "print('atributes of object x :', x.mod, x.phase)\n",
    "print(' x is of type ', type(x))\n",
    "print(' x has as real part : ', x.real())\n",
    "print(' x has as imag part : ', x.img())"
   ]
  },
  {
   "cell_type": "markdown",
   "metadata": {
    "slideshow": {
     "slide_type": "slide"
    }
   },
   "source": [
    "Accessing its atributes"
   ]
  },
  {
   "cell_type": "code",
   "execution_count": 19,
   "metadata": {
    "slideshow": {
     "slide_type": "fragment"
    }
   },
   "outputs": [
    {
     "name": "stdout",
     "output_type": "stream",
     "text": [
      "real part  -1.0 , imaginary part  1.2246467991473532e-16\n"
     ]
    }
   ],
   "source": [
    "# accesing \n",
    "print('real part ', x.real(), ', imaginary part ', x.img())"
   ]
  },
  {
   "cell_type": "markdown",
   "metadata": {
    "slideshow": {
     "slide_type": "slide"
    }
   },
   "source": [
    "Operating between *Complex* objects"
   ]
  },
  {
   "cell_type": "code",
   "execution_count": 20,
   "metadata": {
    "slideshow": {
     "slide_type": "fragment"
    }
   },
   "outputs": [
    {
     "name": "stdout",
     "output_type": "stream",
     "text": [
      "1.4142135623730951e^0.7853981633974484\n"
     ]
    }
   ],
   "source": [
    "x = Complex(1., 0.)\n",
    "y = Complex(1., math.pi/2)\n",
    "\n",
    "z = x + y\n",
    "print(z)"
   ]
  },
  {
   "cell_type": "markdown",
   "metadata": {
    "slideshow": {
     "slide_type": "slide"
    }
   },
   "source": [
    "The class syntax start with *class Name:*, in our case *def Complex:* and it follows the definition of the methods as indented functions. They are defined inside the *namespace* of the class *Complex*.\n",
    "\n",
    "The class and its methods are commented using the **\\\"\\\"\\\"comment\\\"\\\"\\\"** syntax just after the definition. The *help()* method will then use these comments to print the information when invoqued. \n",
    "\n",
    "Let's see the class definition with more detail now:\n"
   ]
  },
  {
   "cell_type": "markdown",
   "metadata": {
    "slideshow": {
     "slide_type": "slide"
    }
   },
   "source": [
    "### 1.2 The constructor \n",
    "\n",
    "The constructor is the __init()__ method. Here it takes three arguments, *mod* and *phase*, and sets them as attributes, via the assigment *'='* to the first argument **self**, that the variable that holds the object (we will see it later again). Therefore, *init()* sets the attributes of the object.\n",
    "\n",
    "To invoque *init()* we use the name of the class. We create object using *ClassName()*. Here is the example of how we create an instance of our *Complex* number."
   ]
  },
  {
   "cell_type": "code",
   "execution_count": 41,
   "metadata": {
    "slideshow": {
     "slide_type": "fragment"
    }
   },
   "outputs": [
    {
     "data": {
      "text/plain": [
       "True"
      ]
     },
     "execution_count": 41,
     "metadata": {},
     "output_type": "execute_result"
    }
   ],
   "source": [
    "x = Complex(1, .0)\n",
    "isinstance(x, Complex)"
   ]
  },
  {
   "cell_type": "markdown",
   "metadata": {
    "slideshow": {
     "slide_type": "slide"
    }
   },
   "source": [
    "You should notice that we do not pass the first argument *self* to create the object! *self* here is a dummy argument. \n",
    "\n",
    "Doing *Complex(mod,phase)*, the compiler creates an object of type *Complex* and assigned to the variable *x*."
   ]
  },
  {
   "cell_type": "markdown",
   "metadata": {
    "slideshow": {
     "slide_type": "slide"
    }
   },
   "source": [
    "### 1.3 The self\n",
    "\n",
    "*self* is in fact the first argument of all the methods! As in the constructor, *self* is the variable associated to the object.\n",
    "\n",
    "Inside any method of the class, *self* is in fact the variable that holds the object. And to access its attributes or to apply any method we can just use the *'.'* operator onto *self*! \n",
    "\n",
    "Look now at the body of  the *prod()* method. It takes as first argument *self*, and second a variable *y*, that is expected to be also a *Complex* type. The method accesses the module and phase of the object *self* and the object *y*, using the *'.'* operator and makes the product of the module and the sum of the phase, and it finally creates another object of *Complex* type and inmmediately returns it! \n",
    "\n",
    "Let's see now the following code:"
   ]
  },
  {
   "cell_type": "code",
   "execution_count": 22,
   "metadata": {
    "slideshow": {
     "slide_type": "slide"
    }
   },
   "outputs": [
    {
     "name": "stdout",
     "output_type": "stream",
     "text": [
      "x   =  1.0e^1.5707963267948966\n",
      "x^c =  1.0e^-1.5707963267948966\n",
      "x^c =  1.0e^-1.5707963267948966\n"
     ]
    }
   ],
   "source": [
    "x = Complex(1., math.pi/2.)\n",
    "print('x   = ', x)\n",
    "xc = x.conjugate()\n",
    "print('x^c = ', xc)\n",
    "xc = Complex.conjugate(x)\n",
    "print('x^c = ', xc)"
   ]
  },
  {
   "cell_type": "markdown",
   "metadata": {
    "slideshow": {
     "slide_type": "slide"
    }
   },
   "source": [
    "\n",
    "Note that the statement *Complex.conjugate(x)*, is like here a funtion *conjungate()* defined in a namespace *Complex* applied to an argument *x*, of type *Complex*. Looking at the class as a namespace and the methods as functions inside the namespace, the argument *self* makes now more sense! It is the argument of the function!\n",
    "\n",
    "To apply a method into an object, we can either do *Class.method(object)* or *object.method()* both statements are equivalent. We can either do: *x.conjugate()*, if *x* is an instance of Complex, or do *Complex.conjugate(x)*! \n",
    "\n",
    "But the OO programming prefers: *object.method()*"
   ]
  },
  {
   "cell_type": "markdown",
   "metadata": {
    "slideshow": {
     "slide_type": "slide"
    }
   },
   "source": [
    "### 1.4 Operations\n",
    "\n",
    "Operations are defined using the special methods, for example __ add __ is associated to the *'+'* operator. \n",
    "\n",
    "Let's create now to complex numbers, *x, y*, add then, and compute the module and the phase of the resulting addition."
   ]
  },
  {
   "cell_type": "code",
   "execution_count": 42,
   "metadata": {
    "slideshow": {
     "slide_type": "fragment"
    }
   },
   "outputs": [
    {
     "name": "stdout",
     "output_type": "stream",
     "text": [
      "z =  1.4142135623730951e^0.7853981633974484\n",
      "abs(z) =  1.4142135623730951\n",
      "z phase in degrees =  45.00000000000001\n"
     ]
    }
   ],
   "source": [
    "x = Complex(1.,0)\n",
    "y = Complex(1., math.pi/2.)\n",
    "z = x + y\n",
    "print('z = ', z)\n",
    "print('abs(z) = ', abs(z))\n",
    "print('z phase in degrees = ', z.phase*180/math.pi)"
   ]
  },
  {
   "cell_type": "markdown",
   "metadata": {
    "slideshow": {
     "slide_type": "slide"
    }
   },
   "source": [
    "Here are the list of the special methods and the operation of builtin function associated to them (section 3.4): https://docs.python.org/3.9/reference/datamodel.html#special-method-names"
   ]
  },
  {
   "cell_type": "markdown",
   "metadata": {
    "slideshow": {
     "slide_type": "slide"
    }
   },
   "source": [
    "### 1.5 Serializing the class\n",
    "\n",
    "Two important special methods are __ str __ that serializes the object and converts it into a string, and __ repr __ that does the same but is used with the interpreter to print into the output.\n",
    "\n",
    "When a class has a **\\_\\_str\\_\\_** method, it can be printed!"
   ]
  },
  {
   "cell_type": "code",
   "execution_count": 24,
   "metadata": {
    "slideshow": {
     "slide_type": "fragment"
    }
   },
   "outputs": [
    {
     "name": "stdout",
     "output_type": "stream",
     "text": [
      "1.4142135623730951e^0.7853981633974484  is str?  True\n"
     ]
    }
   ],
   "source": [
    "sx = str(z)\n",
    "print(sx, ' is str? ', isinstance(sx, str))"
   ]
  },
  {
   "cell_type": "markdown",
   "metadata": {
    "slideshow": {
     "slide_type": "slide"
    }
   },
   "source": [
    "### 1.6 Tips about classes\n",
    "\n",
    "You can convert your object into a dictionary with the atrributes names as keys of a dictionary with the functions *vars*\n"
   ]
  },
  {
   "cell_type": "code",
   "execution_count": 29,
   "metadata": {
    "slideshow": {
     "slide_type": "fragment"
    }
   },
   "outputs": [
    {
     "name": "stdout",
     "output_type": "stream",
     "text": [
      "{'mod': 1.0, 'phase': 0}\n"
     ]
    }
   ],
   "source": [
    "xdata = vars(x)\n",
    "print(xdata)"
   ]
  },
  {
   "cell_type": "markdown",
   "metadata": {
    "slideshow": {
     "slide_type": "slide"
    }
   },
   "source": [
    "You can also set and get the attributes via the name using: *getattr*, *setattr*. This can be useful in conjunction with *exec*"
   ]
  },
  {
   "cell_type": "code",
   "execution_count": null,
   "metadata": {
    "slideshow": {
     "slide_type": "fragment"
    }
   },
   "outputs": [],
   "source": [
    "setattr(x, 'mod', 2)\n",
    "setattr(x, 'phase', math.pi/2)\n",
    "print(x)"
   ]
  },
  {
   "cell_type": "code",
   "execution_count": 54,
   "metadata": {
    "slideshow": {
     "slide_type": "fragment"
    }
   },
   "outputs": [
    {
     "name": "stdout",
     "output_type": "stream",
     "text": [
      "0\n",
      "1\n",
      "2\n",
      "complex0 = 0e^0\n"
     ]
    }
   ],
   "source": [
    "for i in range(3):\n",
    "    exec(\"complex{}=Complex({},0)\".format(i,i))\n",
    "    exec(\"print(getattr(complex{},'mod'))\".format(i))\n",
    "print(\"complex0 =\",complex0)"
   ]
  },
  {
   "cell_type": "markdown",
   "metadata": {
    "slideshow": {
     "slide_type": "slide"
    }
   },
   "source": [
    "## 2. Inheritance\n",
    "\n",
    "###  2.1 Concept of inheritance \n",
    "\n",
    "The next figure shows a tree of vehicles. All of them are vehicles, but the boat, of course, has not wheels. A bike, or a car are wheeled vehicles. But a car has a motor and bikes don't.\n",
    "\n",
    "<img src=\"./img/classes_inheritance.jpeg\" width=\"500\" height=\"400\">"
   ]
  },
  {
   "cell_type": "markdown",
   "metadata": {
    "slideshow": {
     "slide_type": "slide"
    }
   },
   "source": [
    "\n",
    "**Inheritance** in **Object Oriented** (OO) lenguages allows you to set a tree of dependences between classes. \n",
    "\n",
    "The attributes and methods of the mother class are inherited by the daughter class. Daughter classes are called **derived classes**. \n",
    "\n",
    "A derived class can modify or overwriten the methods of its mother. For example, a vehicle class can have a method *run()*, the speed of each vehicle will be different, some of them will run on the water surface, others not. The method *run()* can be over-writen by the derived class to define a maximum speed or to indicate on what medium the vehicle runs.\n",
    "\n",
    "\n",
    "Consider the matrix class, there is a subclass that is squared matrix. It has the same number of rows and columns. It is an specific case of a general matrix. That is, it derives from the matrix class.\n"
   ]
  },
  {
   "cell_type": "markdown",
   "metadata": {
    "slideshow": {
     "slide_type": "slide"
    }
   },
   "source": [
    "Inheritance allows you to write code in different levels. There is a basic code that can run on all kind of vehicles, there is a more specific code that can run only in bicycles, and other than runs only in cars. If you hace a code that runs in vehicles, when you create a new vehicle class, for example train, the code will also run for trains! This makes the code reusable. \n",
    "\n",
    "Inheritance is fundamental in some lenguages, for example C++. This is not the case in Python where seldomly you will find derived classes. The reason is that Python is not strongly typed (typing rules are not so strict).  "
   ]
  },
  {
   "cell_type": "markdown",
   "metadata": {
    "slideshow": {
     "slide_type": "slide"
    }
   },
   "source": [
    "### 2.2  Interface and Base class\n",
    "\n",
    "There are two types of primordial mother classes, they are called **Interface** or **Base class**. The difference between both is its use.\n",
    "\n",
    "We define an *Interface* when we want to inforce that the derived classes to have a given set of methods. An *Interface* has virtual methods, that is, they do nothing! \n",
    "\n",
    "We are used to interfaces in the real world. The electricity plugs have well defined *hardware* interfaces. In Continental Europe plugs have two cylindrical pins, unfortunately the U.K plugs are different, the pins are flat! Europe and U.K. do not share the same interface! And unfortunately we need to use a connector when we travel to the U.K.!\n",
    "\n",
    "There are then different implementations of the 'european plug interface'"
   ]
  },
  {
   "cell_type": "markdown",
   "metadata": {
    "slideshow": {
     "slide_type": "fragment"
    }
   },
   "source": [
    "<img src=\"https://images.squarespace-cdn.com/content/v1/5243143fe4b07ea3b53954f0/1389124577039-94NM388FC4QWD5Z6ZEMZ/bgui_largekit.jpg\" alt=\"drawing\" width=\"450\"/>"
   ]
  },
  {
   "cell_type": "markdown",
   "metadata": {
    "slideshow": {
     "slide_type": "slide"
    }
   },
   "source": [
    "\n",
    "A *Base class* is a class expected to have some derived classes, but all its methods are implemented, they provide a basic behavior. Now the derived classes can change that behavior, if they need to do so.\n",
    "  \n",
    "A *Base class* has a constructor, while an *Interface* has not. "
   ]
  },
  {
   "cell_type": "markdown",
   "metadata": {
    "slideshow": {
     "slide_type": "slide"
    }
   },
   "source": [
    "The following, *IShape*, is an example of an interface. \n",
    "\n",
    "It defines the methods we expect to have in any *Shape* class. They are: *perimeter()* and *area()*. \n",
    "\n",
    "The methods should compute the perimer and the area of the shape. \n",
    "\n",
    "The example contains two derived classes: *Rectangle* and *Disk* that implement these methods. \n",
    "\n",
    "There is a third derived class, *Square*, that derives from *Rectagle*."
   ]
  },
  {
   "cell_type": "code",
   "execution_count": 30,
   "metadata": {
    "slideshow": {
     "slide_type": "slide"
    }
   },
   "outputs": [],
   "source": [
    "import math\n",
    "\n",
    "class IShape:\n",
    "    \"\"\" Interface for Shape classes, defines the perimeter and area methods\n",
    "    \"\"\"\n",
    "    \n",
    "    def perimeter(self):\n",
    "        \"\"\" returns the perimeter of the shape\n",
    "        \"\"\"\n",
    "        return None\n",
    "    \n",
    "    def area(self):\n",
    "        \"\"\" returns the area of the shape\n",
    "        \"\"\"\n",
    "        return None"
   ]
  },
  {
   "cell_type": "code",
   "execution_count": 31,
   "metadata": {
    "slideshow": {
     "slide_type": "slide"
    }
   },
   "outputs": [],
   "source": [
    "class Disk(IShape):\n",
    "    \"\"\" Disk Shape class\n",
    "    \"\"\"\n",
    "    \n",
    "    def __init__(self, radius):\n",
    "        self.radius = radius\n",
    "        return\n",
    "        \n",
    "    def perimeter(self):\n",
    "        return 2. * math.pi * self.radius\n",
    "    \n",
    "    def area(self):\n",
    "        return math.pi * self.radius * self.radius"
   ]
  },
  {
   "cell_type": "code",
   "execution_count": 32,
   "metadata": {
    "slideshow": {
     "slide_type": "slide"
    }
   },
   "outputs": [],
   "source": [
    "class Rectangle(IShape):\n",
    "    \"\"\" Rectangle Shape class\n",
    "    \"\"\"\n",
    "    \n",
    "    def __init__(self, width, height):\n",
    "        self.width  = width\n",
    "        self.height = height\n",
    "        return\n",
    "    \n",
    "    def perimeter(self):\n",
    "        return 2. * (self.width + self.height)\n",
    "    \n",
    "    def area(self):\n",
    "        return self.width * self.height"
   ]
  },
  {
   "cell_type": "code",
   "execution_count": 33,
   "metadata": {
    "slideshow": {
     "slide_type": "slide"
    }
   },
   "outputs": [],
   "source": [
    "class Square(Rectangle):\n",
    "    \"\"\" Square Shape class\n",
    "    \"\"\"\n",
    "    \n",
    "    def __init__(self, size):\n",
    "        Rectangle.__init__(self, size, size)\n",
    "        return"
   ]
  },
  {
   "cell_type": "markdown",
   "metadata": {
    "slideshow": {
     "slide_type": "slide"
    }
   },
   "source": [
    "The *IShape* class is an *Interface*. It is pure virtual, has no constructor, and its method are empty. Its purpose is to inforce that all the derived classes implement those methods.\n",
    "\n",
    "The *Disk* and *Rectangle* classes are derived from *IShape*. The syntax to define a derived class is to put between *()* in the class definition line the name of the mother class, that is: *DerivedClass(MotherClass)*. *Disk* and *Rectangle* have constructors and they implement the methods of the interface."
   ]
  },
  {
   "cell_type": "markdown",
   "metadata": {
    "slideshow": {
     "slide_type": "slide"
    }
   },
   "source": [
    "\n",
    "The *Square* class derives from *Rectangle*. It has a constructor that calls the constructor of a *Rectangle*! Notice the syntax: it pass it-*self* to be configured by the constructor of Rectangle!\n",
    "\n",
    "The *Square* class reuses the *perimeter()* and *area()* methods of its mother class, *Rectangle*. They do not need to be implemented again!\n",
    "\n",
    "In the next cell, we construct a rectangle, a square and a disk, and then we compute the total area of the tree."
   ]
  },
  {
   "cell_type": "code",
   "execution_count": 34,
   "metadata": {
    "slideshow": {
     "slide_type": "slide"
    }
   },
   "outputs": [
    {
     "name": "stdout",
     "output_type": "stream",
     "text": [
      "Areas  [3.141592653589793, 6.0, 4.0]\n",
      "Total area  13.141592653589793\n",
      "Perimeters  [6.283185307179586, 10.0, 8.0]\n",
      "Total perimeters length  24.283185307179586\n"
     ]
    }
   ],
   "source": [
    "disk      = Disk(1.)\n",
    "rectangle = Rectangle(2., 3.)\n",
    "square    = Square(2.)\n",
    "\n",
    "areas     = [shape.area() for shape in [disk, rectangle, square]]\n",
    "print ('Areas ', areas)\n",
    "print ('Total area ', sum(areas))\n",
    "\n",
    "pers =  [shape.perimeter() for shape in [disk, rectangle, square]]\n",
    "print ('Perimeters ', pers)\n",
    "print ('Total perimeters length ', sum(pers))"
   ]
  },
  {
   "cell_type": "markdown",
   "metadata": {
    "slideshow": {
     "slide_type": "slide"
    }
   },
   "source": [
    "Inheritance is an elegant way to extend the functionality of a 'mother' or 'base' class. In this example, we inheritate from list and add some extra funcionality."
   ]
  },
  {
   "cell_type": "code",
   "execution_count": 35,
   "metadata": {
    "slideshow": {
     "slide_type": "slide"
    }
   },
   "outputs": [],
   "source": [
    "class Mylist(list):\n",
    "    \n",
    "    def order(self):\n",
    "        return sorted(self, reverse = True)"
   ]
  },
  {
   "cell_type": "code",
   "execution_count": 36,
   "metadata": {
    "slideshow": {
     "slide_type": "fragment"
    }
   },
   "outputs": [
    {
     "name": "stdout",
     "output_type": "stream",
     "text": [
      "my list   [1, 2, 3, 4] , is of type  <class '__main__.Mylist'>\n",
      "my order  [4, 3, 2, 1]\n"
     ]
    }
   ],
   "source": [
    "x = Mylist([1, 2, 3, 4])\n",
    "print('my list  ', x, ', is of type ', type(x))\n",
    "\n",
    "xc = x.order()\n",
    "print('my order ', xc)\n",
    "print('standard order',)"
   ]
  },
  {
   "cell_type": "markdown",
   "metadata": {
    "slideshow": {
     "slide_type": "slide"
    }
   },
   "source": [
    "> A note about Interfaces in Python: \n",
    "\n",
    "> As we said before, in Python, inheritance is not common. Consider the case where the *Disk* and *Rectangle* classes did not inherit from *IShape* but still they implemented the methods *perimeter()* and *area()*. In that case, does the code of the previous cell still work? \n",
    "\n",
    "> The answer is yes! It will work because Python is not strongly typed. for the *x.perimeter()* statement to work, the only thing that is required is that *x* is of a type that has defined a *perimeter()* method. It does not require that it previously derives from *IShape*! \n",
    "\n",
    ">If we keep the interface and use them in Python, is just to remind us and other developers that better implement these two methods!"
   ]
  },
  {
   "cell_type": "markdown",
   "metadata": {
    "slideshow": {
     "slide_type": "slide"
    }
   },
   "source": [
    "## 3. Exceptions"
   ]
  },
  {
   "cell_type": "markdown",
   "metadata": {
    "slideshow": {
     "slide_type": "slide"
    }
   },
   "source": [
    "Exceptions in Python are classes. \n",
    "\n",
    "This is a tree of derived classes depending on the type of the exception (See the following frame):"
   ]
  },
  {
   "cell_type": "code",
   "execution_count": 55,
   "metadata": {
    "slideshow": {
     "slide_type": "slide"
    }
   },
   "outputs": [
    {
     "data": {
      "text/html": [
       "\n",
       "        <iframe\n",
       "            width=\"800\"\n",
       "            height=\"350\"\n",
       "            src=\"https://docs.python.org/3/library/exceptions.html#exception-hierarchy\"\n",
       "            frameborder=\"0\"\n",
       "            allowfullscreen\n",
       "        ></iframe>\n",
       "        "
      ],
      "text/plain": [
       "<IPython.lib.display.IFrame at 0x10d570910>"
      ]
     },
     "execution_count": 55,
     "metadata": {},
     "output_type": "execute_result"
    }
   ],
   "source": [
    "from IPython.display import IFrame\n",
    "IFrame('https://docs.python.org/3/library/exceptions.html#exception-hierarchy',\n",
    "       width=800, height=350)"
   ]
  },
  {
   "cell_type": "markdown",
   "metadata": {
    "slideshow": {
     "slide_type": "slide"
    }
   },
   "source": [
    "For example *ZeroDivisionError* derives from *AritmeticError*, that it comes from *StandardError*, etc.\n",
    "\n",
    "When catching exceptions, you can decide to cath the derived class or the mother class. Let's see it with the following example:"
   ]
  },
  {
   "cell_type": "code",
   "execution_count": 38,
   "metadata": {
    "slideshow": {
     "slide_type": "slide"
    }
   },
   "outputs": [
    {
     "name": "stdout",
     "output_type": "stream",
     "text": [
      " Division by zero! \n",
      " Aritmetic Error! \n"
     ]
    }
   ],
   "source": [
    "x, y = 1., 0.\n",
    "\n",
    "try:\n",
    "    z = x/y\n",
    "except ZeroDivisionError:\n",
    "    print(' Division by zero! ')\n",
    "    \n",
    "try:\n",
    "    z = x/y\n",
    "except ArithmeticError:\n",
    "    print(' Aritmetic Error! ')\n"
   ]
  },
  {
   "cell_type": "markdown",
   "metadata": {
    "slideshow": {
     "slide_type": "slide"
    }
   },
   "source": [
    "You can implement your own exception class derived for example from *ZeroDivisionError*."
   ]
  },
  {
   "cell_type": "code",
   "execution_count": 39,
   "metadata": {
    "slideshow": {
     "slide_type": "slide"
    }
   },
   "outputs": [
    {
     "ename": "ToleranceDivisionError",
     "evalue": "Value : 1e-15 is not valid",
     "output_type": "error",
     "traceback": [
      "\u001b[0;31m---------------------------------------------------------------------------\u001b[0m",
      "\u001b[0;31mToleranceDivisionError\u001b[0m                    Traceback (most recent call last)",
      "\u001b[0;32m<ipython-input-39-977645f49602>\u001b[0m in \u001b[0;36m<module>\u001b[0;34m\u001b[0m\n\u001b[1;32m      7\u001b[0m \u001b[0my\u001b[0m \u001b[0;34m=\u001b[0m \u001b[0;36m1e-15\u001b[0m\u001b[0;34m\u001b[0m\u001b[0;34m\u001b[0m\u001b[0m\n\u001b[1;32m      8\u001b[0m \u001b[0;32mif\u001b[0m \u001b[0;34m(\u001b[0m\u001b[0mabs\u001b[0m\u001b[0;34m(\u001b[0m\u001b[0my\u001b[0m\u001b[0;34m)\u001b[0m \u001b[0;34m<\u001b[0m \u001b[0;36m1e-6\u001b[0m\u001b[0;34m)\u001b[0m\u001b[0;34m:\u001b[0m\u001b[0;34m\u001b[0m\u001b[0;34m\u001b[0m\u001b[0m\n\u001b[0;32m----> 9\u001b[0;31m     \u001b[0;32mraise\u001b[0m \u001b[0mToleranceDivisionError\u001b[0m\u001b[0;34m(\u001b[0m\u001b[0my\u001b[0m\u001b[0;34m)\u001b[0m\u001b[0;34m\u001b[0m\u001b[0;34m\u001b[0m\u001b[0m\n\u001b[0m",
      "\u001b[0;31mToleranceDivisionError\u001b[0m: Value : 1e-15 is not valid"
     ]
    }
   ],
   "source": [
    "class ToleranceDivisionError(ZeroDivisionError):\n",
    "    def __init__(self, value):\n",
    "        self.value = value\n",
    "    def __str__(self):\n",
    "        return 'Value : ' + str(self.value) + ' is not valid' \n",
    "    \n",
    "y = 1e-15\n",
    "if (abs(y) < 1e-6):\n",
    "    raise ToleranceDivisionError(y)"
   ]
  },
  {
   "cell_type": "markdown",
   "metadata": {
    "slideshow": {
     "slide_type": "slide"
    }
   },
   "source": [
    "### Exercises\n",
    "\n",
    "  1. Finish the implementation of a class *Complex*. Consider first the methods you want for this class, then implement them.\n",
    "  \n",
    "  2. Implement the classes *Vector* and *Matrix* using python lists. First define the attributes and methods, then define a set of test-functions to verify the code, implement the methods and finally ensure that they pass your tests. The class *Matrix* can inherit from *Vector*\n",
    "  \n",
    "  3. Define a class for a 1D histogram. Define its attributes and methods. Implement them.\n",
    "  \n",
    "  4. Define a class for a bank account and its movements. Define a class for a bank holding several bank accounts. Define its attributes and methods. "
   ]
  },
  {
   "cell_type": "markdown",
   "metadata": {},
   "source": [
    "### ++ Exercise\n",
    "Create a snake class, whose objects are snakes moving in a grid. \n",
    " 1. Initialize the snake with a length and head position in the grid.\n",
    " 2. Create methods to move up, down etc.\n",
    " 3. Create a method 'eat', so that the snake increases its lengh by one unit.\n",
    " 4. Create a method to show the snake position. \n",
    " 5. Show the snake moving and eating randomly with time, eat. Display two snakes moving together."
   ]
  }
 ],
 "metadata": {
  "anaconda-cloud": {},
  "celltoolbar": "Slideshow",
  "kernelspec": {
   "display_name": "Python 3",
   "language": "python",
   "name": "python3"
  },
  "language_info": {
   "codemirror_mode": {
    "name": "ipython",
    "version": 3
   },
   "file_extension": ".py",
   "mimetype": "text/x-python",
   "name": "python",
   "nbconvert_exporter": "python",
   "pygments_lexer": "ipython3",
   "version": "3.7.9"
  }
 },
 "nbformat": 4,
 "nbformat_minor": 1
}
